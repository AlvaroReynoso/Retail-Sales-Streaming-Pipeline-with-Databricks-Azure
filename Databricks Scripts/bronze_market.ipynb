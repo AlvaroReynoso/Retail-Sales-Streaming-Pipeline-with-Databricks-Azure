{
 "cells": [
  {
   "cell_type": "markdown",
   "metadata": {
    "application/vnd.databricks.v1+cell": {
     "cellMetadata": {},
     "inputWidgets": {},
     "nuid": "2ec3214c-ce79-401e-b944-ee786f8a24ac",
     "showTitle": false,
     "tableResultSettingsMap": {},
     "title": ""
    }
   },
   "source": [
    "# _Inicio Bronce_"
   ]
  },
  {
   "cell_type": "markdown",
   "metadata": {
    "application/vnd.databricks.v1+cell": {
     "cellMetadata": {},
     "inputWidgets": {},
     "nuid": "feaef1bc-0e42-4b59-ae44-82dc31993b66",
     "showTitle": false,
     "tableResultSettingsMap": {},
     "title": ""
    }
   },
   "source": [
    "### Configuración inicial de scopes, keys, conns, paths"
   ]
  },
  {
   "cell_type": "markdown",
   "metadata": {
    "application/vnd.databricks.v1+cell": {
     "cellMetadata": {},
     "inputWidgets": {},
     "nuid": "e792f60e-7422-4e4d-b44c-3e7412a0b1a7",
     "showTitle": false,
     "tableResultSettingsMap": {},
     "title": ""
    }
   },
   "source": [
    "## IMPORTANTE: \n",
    "### Encriptar la cadena de eventhub, Spark Event Hubs no acepta directamente la cadena de conexión plana para seguridad y manejo interno.\n",
    "\n",
    "Se necesita \n",
    "- Instalar libreria com.microsoft.azure:azure-eventhubs-spark_2.12:2.3.21\n",
    "- Computo con Scala 2.12 (2.13 no soporta encrypt al dia de la fecha 7/2025)"
   ]
  },
  {
   "cell_type": "code",
   "execution_count": 0,
   "metadata": {
    "application/vnd.databricks.v1+cell": {
     "cellMetadata": {
      "byteLimit": 2048000,
      "rowLimit": 10000
     },
     "inputWidgets": {},
     "nuid": "f29df27b-248b-46ae-916f-32adfec7ef8d",
     "showTitle": true,
     "tableResultSettingsMap": {},
     "title": "Mount Azure Data Lake Storage with OAuth Configuration"
    }
   },
   "outputs": [
    {
     "output_type": "stream",
     "name": "stdout",
     "output_type": "stream",
     "text": [
      "/mnt/rawmarket has been unmounted.\n/mnt/bronze has been unmounted.\n/mnt/silver has been unmounted.\n/mnt/gold has been unmounted.\n"
     ]
    }
   ],
   "source": [
    "from pyspark.sql.functions import *\n",
    "from pyspark.sql.types import *\n",
    "import json\n",
    "\n",
    "eventhub_secret_scope = \"eventhub_scope\"\n",
    "eventhub_secret_key = \"eventhub_conn\"\n",
    "\n",
    "storage_secret_scope = \"storage-scope\"\n",
    "storage_secret_key = \"storage-conn\"\n",
    "\n",
    "eventhub_connection_string = dbutils.secrets.get(scope=eventhub_secret_scope, key=eventhub_secret_key)\n",
    "client_secret = dbutils.secrets.get(scope=\"client-scope\", key=\"client-secret\")\n",
    "\n",
    "starting_position = {\n",
    "    \"offset\": \"0\",\n",
    "    \"seqNo\": 0,\n",
    "    \"enqueuedTime\": None,\n",
    "    \"isInclusive\": True\n",
    "}\n",
    "\n",
    "eventhub_config = {\n",
    "    \"eventhubs.connectionString\": dbutils.secrets.get(scope=eventhub_secret_scope, key=eventhub_secret_key),\n",
    "    \"eventhubs.consumerGroup\": \"market-consumer-group\",\n",
    "    \"eventhubs.startingPosition\": json.dumps(starting_position)\n",
    "}\n",
    "configs = {\n",
    "  \"fs.azure.account.auth.type\": \"OAuth\",\n",
    "  \"fs.azure.account.oauth.provider.type\": \"org.apache.hadoop.fs.azurebfs.oauth2.ClientCredsTokenProvider\",\n",
    "  \"fs.azure.account.oauth2.client.id\": \"42add4c7-97b5-46af-b412-3d22af3f601b\",\n",
    "  \"fs.azure.account.oauth2.client.secret\": client_secret,\n",
    "  \"fs.azure.account.oauth2.client.endpoint\": \"https://login.microsoftonline.com/f8665296-99ec-4c56-8ec6-6385ed1c7cc9/oauth2/token\"\n",
    "}\n",
    "\n",
    "# Una vez montado el path, comentar la linea para que no desmonte cada vez que se ejecuta el script\n",
    "# Mount rawmarket\n",
    "if any(mount.mountPoint == '/mnt/rawmarket' for mount in dbutils.fs.mounts()): dbutils.fs.unmount('/mnt/rawmarket')\n",
    "dbutils.fs.mount(\n",
    "  source = \"abfss://rawmarket@mistorageprincipal.dfs.core.windows.net/\",\n",
    "  mount_point = \"/mnt/rawmarket\",\n",
    "  extra_configs = configs\n",
    ")\n",
    "\n",
    "# Mount bronze\n",
    "if any(mount.mountPoint == '/mnt/bronze' for mount in dbutils.fs.mounts()): dbutils.fs.unmount('/mnt/bronze')\n",
    "dbutils.fs.mount(\n",
    "  source = \"abfss://bronze@mistorageprincipal.dfs.core.windows.net/\",\n",
    "  mount_point = \"/mnt/bronze\",\n",
    "  extra_configs = configs\n",
    ")\n",
    "# Mount silver\n",
    "if any(mount.mountPoint == '/mnt/silver' for mount in dbutils.fs.mounts()): dbutils.fs.unmount('/mnt/silver')\n",
    "dbutils.fs.mount(\n",
    "  source = \"abfss://silver@mistorageprincipal.dfs.core.windows.net/\",\n",
    "  mount_point = \"/mnt/silver\",\n",
    "  extra_configs = configs\n",
    ")\n",
    "\n",
    "# Mount gold\n",
    "if any(mount.mountPoint == '/mnt/gold' for mount in dbutils.fs.mounts()): dbutils.fs.unmount('/mnt/gold')\n",
    "dbutils.fs.mount(\n",
    "  source = \"abfss://gold@mistorageprincipal.dfs.core.windows.net/\",\n",
    "  mount_point = \"/mnt/gold\",\n",
    "  extra_configs = configs\n",
    ")\n",
    "\n",
    "# Conexión a Storage (ADLS)\n",
    "storage_account_name = \"mistorageprincipal\"\n",
    "storage_key = dbutils.secrets.get(scope=\"storage-scope\", key=\"storage-conn\")\n",
    "spark.conf.set(f\"fs.azure.account.key.{storage_account_name}.dfs.core.windows.net\", storage_key)\n",
    "\n",
    "bronze_mount_path = f\"/mnt/bronze/sales\"\n",
    "bronze_checkpoint_path = f\"abfss://bronze@mistorageprincipal.dfs.core.windows.net/checkpoints\""
   ]
  },
  {
   "cell_type": "code",
   "execution_count": 0,
   "metadata": {
    "application/vnd.databricks.v1+cell": {
     "cellMetadata": {
      "byteLimit": 2048000,
      "rowLimit": 10000
     },
     "inputWidgets": {},
     "nuid": "7a9f4027-f0aa-437b-998d-c7c75afd5b95",
     "showTitle": true,
     "tableResultSettingsMap": {},
     "title": "List Files in Bronze Mount Path"
    }
   },
   "outputs": [
    {
     "output_type": "execute_result",
     "data": {
      "text/plain": [
       "[FileInfo(path='dbfs:/mnt/bronze/sales/_checkpoint/', name='_checkpoint/', size=0, modificationTime=1752604704000),\n",
       " FileInfo(path='dbfs:/mnt/bronze/sales/_delta_log/', name='_delta_log/', size=0, modificationTime=1752605867000),\n",
       " FileInfo(path='dbfs:/mnt/bronze/sales/part-00000-0442ecec-8b44-4461-9471-609000481646-c000.snappy.parquet', name='part-00000-0442ecec-8b44-4461-9471-609000481646-c000.snappy.parquet', size=3237, modificationTime=1752971318000),\n",
       " FileInfo(path='dbfs:/mnt/bronze/sales/part-00000-0522e7b5-9bfe-4703-beab-2e7f8f2a7cfb-c000.snappy.parquet', name='part-00000-0522e7b5-9bfe-4703-beab-2e7f8f2a7cfb-c000.snappy.parquet', size=3280, modificationTime=1752971680000),\n",
       " FileInfo(path='dbfs:/mnt/bronze/sales/part-00000-05655117-672c-483b-9a7b-67ba703384cc-c000.snappy.parquet', name='part-00000-05655117-672c-483b-9a7b-67ba703384cc-c000.snappy.parquet', size=3192, modificationTime=1752787462000),\n",
       " FileInfo(path='dbfs:/mnt/bronze/sales/part-00000-05661a08-713f-4a86-8b58-1d2c23ef4a72-c000.snappy.parquet', name='part-00000-05661a08-713f-4a86-8b58-1d2c23ef4a72-c000.snappy.parquet', size=3217, modificationTime=1752971157000),\n",
       " FileInfo(path='dbfs:/mnt/bronze/sales/part-00000-0925befe-b59d-4d5e-adb1-f7ec82358cf4-c000.snappy.parquet', name='part-00000-0925befe-b59d-4d5e-adb1-f7ec82358cf4-c000.snappy.parquet', size=3237, modificationTime=1752971428000),\n",
       " FileInfo(path='dbfs:/mnt/bronze/sales/part-00000-0b1e4d08-897c-403f-b728-da9fe5ea5a74-c000.snappy.parquet', name='part-00000-0b1e4d08-897c-403f-b728-da9fe5ea5a74-c000.snappy.parquet', size=3216, modificationTime=1752971791000),\n",
       " FileInfo(path='dbfs:/mnt/bronze/sales/part-00000-0b61f734-518f-46e4-bc41-486e69ad0d8b-c000.snappy.parquet', name='part-00000-0b61f734-518f-46e4-bc41-486e69ad0d8b-c000.snappy.parquet', size=3280, modificationTime=1752971398000),\n",
       " FileInfo(path='dbfs:/mnt/bronze/sales/part-00000-0da090a2-18c4-4ed2-9206-9deb56e7c1eb-c000.snappy.parquet', name='part-00000-0da090a2-18c4-4ed2-9206-9deb56e7c1eb-c000.snappy.parquet', size=3193, modificationTime=1752699867000),\n",
       " FileInfo(path='dbfs:/mnt/bronze/sales/part-00000-0fd03f9c-5484-41b1-82a2-d3701f872ef7-c000.snappy.parquet', name='part-00000-0fd03f9c-5484-41b1-82a2-d3701f872ef7-c000.snappy.parquet', size=3216, modificationTime=1752971097000),\n",
       " FileInfo(path='dbfs:/mnt/bronze/sales/part-00000-0ffd70a0-8c6d-416f-9be4-c3fe65e7300c-c000.snappy.parquet', name='part-00000-0ffd70a0-8c6d-416f-9be4-c3fe65e7300c-c000.snappy.parquet', size=3216, modificationTime=1752971721000),\n",
       " FileInfo(path='dbfs:/mnt/bronze/sales/part-00000-1029c27f-a25c-4f44-b1db-5828b33f7e96-c000.snappy.parquet', name='part-00000-1029c27f-a25c-4f44-b1db-5828b33f7e96-c000.snappy.parquet', size=3238, modificationTime=1752971409000),\n",
       " FileInfo(path='dbfs:/mnt/bronze/sales/part-00000-12d9a219-141a-420a-822f-f444814efe64-c000.snappy.parquet', name='part-00000-12d9a219-141a-420a-822f-f444814efe64-c000.snappy.parquet', size=3172, modificationTime=1752779475000),\n",
       " FileInfo(path='dbfs:/mnt/bronze/sales/part-00000-1512c683-43ce-4342-bfbb-85ba95c1ba50-c000.snappy.parquet', name='part-00000-1512c683-43ce-4342-bfbb-85ba95c1ba50-c000.snappy.parquet', size=3238, modificationTime=1752971368000),\n",
       " FileInfo(path='dbfs:/mnt/bronze/sales/part-00000-15b3d0d2-df12-4f06-91f4-f4fc2a24acf9-c000.snappy.parquet', name='part-00000-15b3d0d2-df12-4f06-91f4-f4fc2a24acf9-c000.snappy.parquet', size=3235, modificationTime=1752787452000),\n",
       " FileInfo(path='dbfs:/mnt/bronze/sales/part-00000-16949733-b642-4ba2-aa07-378116777d69-c000.snappy.parquet', name='part-00000-16949733-b642-4ba2-aa07-378116777d69-c000.snappy.parquet', size=3277, modificationTime=1752971378000),\n",
       " FileInfo(path='dbfs:/mnt/bronze/sales/part-00000-1795a614-8584-4a8d-b6b8-1269b145dcfa-c000.snappy.parquet', name='part-00000-1795a614-8584-4a8d-b6b8-1269b145dcfa-c000.snappy.parquet', size=3172, modificationTime=1752787443000),\n",
       " FileInfo(path='dbfs:/mnt/bronze/sales/part-00000-17e8884a-5d1a-4602-8392-2f1ae802c0c3-c000.snappy.parquet', name='part-00000-17e8884a-5d1a-4602-8392-2f1ae802c0c3-c000.snappy.parquet', size=3237, modificationTime=1752971599000),\n",
       " FileInfo(path='dbfs:/mnt/bronze/sales/part-00000-1ad80c78-d563-4ff6-8c00-bc9153d1ce7c-c000.snappy.parquet', name='part-00000-1ad80c78-d563-4ff6-8c00-bc9153d1ce7c-c000.snappy.parquet', size=3217, modificationTime=1752971459000),\n",
       " FileInfo(path='dbfs:/mnt/bronze/sales/part-00000-1b5f76b8-e608-4c5d-9f5d-eebb4fa62e22-c000.snappy.parquet', name='part-00000-1b5f76b8-e608-4c5d-9f5d-eebb4fa62e22-c000.snappy.parquet', size=3216, modificationTime=1752971207000),\n",
       " FileInfo(path='dbfs:/mnt/bronze/sales/part-00000-1b9b3978-cb53-4880-8c0b-95247ab3789f-c000.snappy.parquet', name='part-00000-1b9b3978-cb53-4880-8c0b-95247ab3789f-c000.snappy.parquet', size=3171, modificationTime=1752605982000),\n",
       " FileInfo(path='dbfs:/mnt/bronze/sales/part-00000-1bd09f61-50db-4b70-b583-c3a5bd93911e-c000.snappy.parquet', name='part-00000-1bd09f61-50db-4b70-b583-c3a5bd93911e-c000.snappy.parquet', size=3280, modificationTime=1752971690000),\n",
       " FileInfo(path='dbfs:/mnt/bronze/sales/part-00000-1d2cbdbc-4a65-4663-b067-da91b663b35f-c000.snappy.parquet', name='part-00000-1d2cbdbc-4a65-4663-b067-da91b663b35f-c000.snappy.parquet', size=3216, modificationTime=1752971529000),\n",
       " FileInfo(path='dbfs:/mnt/bronze/sales/part-00000-214ca3e4-afdb-438b-993e-d2543fe19dad-c000.snappy.parquet', name='part-00000-214ca3e4-afdb-438b-993e-d2543fe19dad-c000.snappy.parquet', size=3172, modificationTime=1752704223000),\n",
       " FileInfo(path='dbfs:/mnt/bronze/sales/part-00000-221585a5-990c-4863-b451-1b34f2a39e95-c000.snappy.parquet', name='part-00000-221585a5-990c-4863-b451-1b34f2a39e95-c000.snappy.parquet', size=3216, modificationTime=1752971046000),\n",
       " FileInfo(path='dbfs:/mnt/bronze/sales/part-00000-27aff07c-aa61-4f45-908d-078df147e9f4-c000.snappy.parquet', name='part-00000-27aff07c-aa61-4f45-908d-078df147e9f4-c000.snappy.parquet', size=3216, modificationTime=1752971439000),\n",
       " FileInfo(path='dbfs:/mnt/bronze/sales/part-00000-282cb05a-0c68-493b-980c-8ec679811839-c000.snappy.parquet', name='part-00000-282cb05a-0c68-493b-980c-8ec679811839-c000.snappy.parquet', size=3280, modificationTime=1752971509000),\n",
       " FileInfo(path='dbfs:/mnt/bronze/sales/part-00000-2d69ecc9-5f42-43ae-9d50-86dc71a78323-c000.snappy.parquet', name='part-00000-2d69ecc9-5f42-43ae-9d50-86dc71a78323-c000.snappy.parquet', size=3217, modificationTime=1752971328000),\n",
       " FileInfo(path='dbfs:/mnt/bronze/sales/part-00000-3028a5af-e279-46f5-84f7-56f298a864ba-c000.snappy.parquet', name='part-00000-3028a5af-e279-46f5-84f7-56f298a864ba-c000.snappy.parquet', size=3235, modificationTime=1752701078000),\n",
       " FileInfo(path='dbfs:/mnt/bronze/sales/part-00000-304ba8ef-e199-4e5e-8e25-caca9f7e9f3d-c000.snappy.parquet', name='part-00000-304ba8ef-e199-4e5e-8e25-caca9f7e9f3d-c000.snappy.parquet', size=3237, modificationTime=1752971781000),\n",
       " FileInfo(path='dbfs:/mnt/bronze/sales/part-00000-32016179-4a21-444e-8c5f-db46f9c8f348-c000.snappy.parquet', name='part-00000-32016179-4a21-444e-8c5f-db46f9c8f348-c000.snappy.parquet', size=3217, modificationTime=1752971559000),\n",
       " FileInfo(path='dbfs:/mnt/bronze/sales/part-00000-32f8ae4a-83d7-4597-ba31-dd64c2f82866-c000.snappy.parquet', name='part-00000-32f8ae4a-83d7-4597-ba31-dd64c2f82866-c000.snappy.parquet', size=3193, modificationTime=1752704285000),\n",
       " FileInfo(path='dbfs:/mnt/bronze/sales/part-00000-33c2bf59-3e0a-4dee-8fad-3ba7ec3f7d0b-c000.snappy.parquet', name='part-00000-33c2bf59-3e0a-4dee-8fad-3ba7ec3f7d0b-c000.snappy.parquet', size=3172, modificationTime=1752779465000),\n",
       " FileInfo(path='dbfs:/mnt/bronze/sales/part-00000-3ad594ae-dd86-4902-92dd-d2f28ba58d5c-c000.snappy.parquet', name='part-00000-3ad594ae-dd86-4902-92dd-d2f28ba58d5c-c000.snappy.parquet', size=3237, modificationTime=1752971338000),\n",
       " FileInfo(path='dbfs:/mnt/bronze/sales/part-00000-3b128630-9f66-45b5-bde4-883f64b9c1fe-c000.snappy.parquet', name='part-00000-3b128630-9f66-45b5-bde4-883f64b9c1fe-c000.snappy.parquet', size=3216, modificationTime=1752971127000),\n",
       " FileInfo(path='dbfs:/mnt/bronze/sales/part-00000-3c19e8f0-0d54-46e0-8fad-255ae13993b1-c000.snappy.parquet', name='part-00000-3c19e8f0-0d54-46e0-8fad-255ae13993b1-c000.snappy.parquet', size=5408, modificationTime=1752971041000),\n",
       " FileInfo(path='dbfs:/mnt/bronze/sales/part-00000-3fc0cace-d18a-401a-83a9-f276edcaab2e-c000.snappy.parquet', name='part-00000-3fc0cace-d18a-401a-83a9-f276edcaab2e-c000.snappy.parquet', size=3237, modificationTime=1752971087000),\n",
       " FileInfo(path='dbfs:/mnt/bronze/sales/part-00000-413c982b-bbee-43d9-be46-34e88d6695ac-c000.snappy.parquet', name='part-00000-413c982b-bbee-43d9-be46-34e88d6695ac-c000.snappy.parquet', size=3233, modificationTime=1752704213000),\n",
       " FileInfo(path='dbfs:/mnt/bronze/sales/part-00000-4185359d-8e70-4a3a-b0ab-5508a7e66e1e-c000.snappy.parquet', name='part-00000-4185359d-8e70-4a3a-b0ab-5508a7e66e1e-c000.snappy.parquet', size=3280, modificationTime=1752971288000),\n",
       " FileInfo(path='dbfs:/mnt/bronze/sales/part-00000-424565b2-0acf-467e-a1e5-40fee4c53f0a-c000.snappy.parquet', name='part-00000-424565b2-0acf-467e-a1e5-40fee4c53f0a-c000.snappy.parquet', size=3217, modificationTime=1752971389000),\n",
       " FileInfo(path='dbfs:/mnt/bronze/sales/part-00000-4628719f-3bf7-424b-8bc1-8d37144454c8-c000.snappy.parquet', name='part-00000-4628719f-3bf7-424b-8bc1-8d37144454c8-c000.snappy.parquet', size=3234, modificationTime=1752787612000),\n",
       " FileInfo(path='dbfs:/mnt/bronze/sales/part-00000-49d576b2-1eb7-447b-bdd7-f807323d7629-c000.snappy.parquet', name='part-00000-49d576b2-1eb7-447b-bdd7-f807323d7629-c000.snappy.parquet', size=3171, modificationTime=1752779457000),\n",
       " FileInfo(path='dbfs:/mnt/bronze/sales/part-00000-4f4a0bca-0078-4dc9-9504-991cc51658f3-c000.snappy.parquet', name='part-00000-4f4a0bca-0078-4dc9-9504-991cc51658f3-c000.snappy.parquet', size=3082, modificationTime=1752702663000),\n",
       " FileInfo(path='dbfs:/mnt/bronze/sales/part-00000-51a9a834-6c5c-42c4-bf05-fef99334cfa1-c000.snappy.parquet', name='part-00000-51a9a834-6c5c-42c4-bf05-fef99334cfa1-c000.snappy.parquet', size=3280, modificationTime=1752971117000),\n",
       " FileInfo(path='dbfs:/mnt/bronze/sales/part-00000-57775dac-670c-4e1e-8d9f-9c1583beb0b3-c000.snappy.parquet', name='part-00000-57775dac-670c-4e1e-8d9f-9c1583beb0b3-c000.snappy.parquet', size=3172, modificationTime=1752704233000),\n",
       " FileInfo(path='dbfs:/mnt/bronze/sales/part-00000-592a9ddb-1896-4abf-9af4-a99b548ba57e-c000.snappy.parquet', name='part-00000-592a9ddb-1896-4abf-9af4-a99b548ba57e-c000.snappy.parquet', size=3279, modificationTime=1752971583000),\n",
       " FileInfo(path='dbfs:/mnt/bronze/sales/part-00000-5944654b-938e-435a-8ea9-6160114aeef2-c000.snappy.parquet', name='part-00000-5944654b-938e-435a-8ea9-6160114aeef2-c000.snappy.parquet', size=3279, modificationTime=1752971610000),\n",
       " FileInfo(path='dbfs:/mnt/bronze/sales/part-00000-5a984bb2-1aba-4cb0-b5fc-05404b406234-c000.snappy.parquet', name='part-00000-5a984bb2-1aba-4cb0-b5fc-05404b406234-c000.snappy.parquet', size=3193, modificationTime=1752700213000),\n",
       " FileInfo(path='dbfs:/mnt/bronze/sales/part-00000-5ace518a-38f1-4a0f-a36b-16581d17bc72-c000.snappy.parquet', name='part-00000-5ace518a-38f1-4a0f-a36b-16581d17bc72-c000.snappy.parquet', size=3171, modificationTime=1752787622000),\n",
       " FileInfo(path='dbfs:/mnt/bronze/sales/part-00000-5bcd319c-75ee-4e24-b294-fb326eec8c6c-c000.snappy.parquet', name='part-00000-5bcd319c-75ee-4e24-b294-fb326eec8c6c-c000.snappy.parquet', size=3192, modificationTime=1752606001000),\n",
       " FileInfo(path='dbfs:/mnt/bronze/sales/part-00000-6240ecfc-2782-4779-b54b-138beddd1a14-c000.snappy.parquet', name='part-00000-6240ecfc-2782-4779-b54b-138beddd1a14-c000.snappy.parquet', size=3238, modificationTime=1752971197000),\n",
       " FileInfo(path='dbfs:/mnt/bronze/sales/part-00000-65b5b4d7-0fa9-444f-8ee5-d5833cc2f68a-c000.snappy.parquet', name='part-00000-65b5b4d7-0fa9-444f-8ee5-d5833cc2f68a-c000.snappy.parquet', size=3217, modificationTime=1752971731000),\n",
       " FileInfo(path='dbfs:/mnt/bronze/sales/part-00000-65cb3858-20b4-4953-9019-aec01d71f7e9-c000.snappy.parquet', name='part-00000-65cb3858-20b4-4953-9019-aec01d71f7e9-c000.snappy.parquet', size=3279, modificationTime=1752971057000),\n",
       " FileInfo(path='dbfs:/mnt/bronze/sales/part-00000-6b747128-287f-422e-8ce2-775d25a3986f-c000.snappy.parquet', name='part-00000-6b747128-287f-422e-8ce2-775d25a3986f-c000.snappy.parquet', size=3172, modificationTime=1752605962000),\n",
       " FileInfo(path='dbfs:/mnt/bronze/sales/part-00000-6e3998d4-323e-4920-84bc-05b0ca9b502e-c000.snappy.parquet', name='part-00000-6e3998d4-323e-4920-84bc-05b0ca9b502e-c000.snappy.parquet', size=3279, modificationTime=1752971167000),\n",
       " FileInfo(path='dbfs:/mnt/bronze/sales/part-00000-7538fa6e-9c13-449d-a88d-d7e04179fb93-c000.snappy.parquet', name='part-00000-7538fa6e-9c13-449d-a88d-d7e04179fb93-c000.snappy.parquet', size=3278, modificationTime=1752971298000),\n",
       " FileInfo(path='dbfs:/mnt/bronze/sales/part-00000-7b61a113-223e-4060-8f0d-7ac794857ccc-c000.snappy.parquet', name='part-00000-7b61a113-223e-4060-8f0d-7ac794857ccc-c000.snappy.parquet', size=3278, modificationTime=1752971660000),\n",
       " FileInfo(path='dbfs:/mnt/bronze/sales/part-00000-7cc497ff-3cec-4771-8efe-4cd147149259-c000.snappy.parquet', name='part-00000-7cc497ff-3cec-4771-8efe-4cd147149259-c000.snappy.parquet', size=3280, modificationTime=1752971218000),\n",
       " FileInfo(path='dbfs:/mnt/bronze/sales/part-00000-807f7b55-bd59-47e8-937c-e7cfdf79dc53-c000.snappy.parquet', name='part-00000-807f7b55-bd59-47e8-937c-e7cfdf79dc53-c000.snappy.parquet', size=3238, modificationTime=1752971308000),\n",
       " FileInfo(path='dbfs:/mnt/bronze/sales/part-00000-81d33ee7-68a2-4c34-92b4-b997f3360c07-c000.snappy.parquet', name='part-00000-81d33ee7-68a2-4c34-92b4-b997f3360c07-c000.snappy.parquet', size=3238, modificationTime=1752971670000),\n",
       " FileInfo(path='dbfs:/mnt/bronze/sales/part-00000-848ffd28-97be-41c0-a979-46ffb4bfd071-c000.snappy.parquet', name='part-00000-848ffd28-97be-41c0-a979-46ffb4bfd071-c000.snappy.parquet', size=3217, modificationTime=1752971539000),\n",
       " FileInfo(path='dbfs:/mnt/bronze/sales/part-00000-857a1c13-c103-426c-9b0b-46d069650514-c000.snappy.parquet', name='part-00000-857a1c13-c103-426c-9b0b-46d069650514-c000.snappy.parquet', size=3217, modificationTime=1752971067000),\n",
       " FileInfo(path='dbfs:/mnt/bronze/sales/part-00000-890eeb2a-e310-4ea7-a5d9-d249758aac4a-c000.snappy.parquet', name='part-00000-890eeb2a-e310-4ea7-a5d9-d249758aac4a-c000.snappy.parquet', size=3192, modificationTime=1752698655000),\n",
       " FileInfo(path='dbfs:/mnt/bronze/sales/part-00000-891c1ccf-78b2-4d93-8d3f-4aa350bc3087-c000.snappy.parquet', name='part-00000-891c1ccf-78b2-4d93-8d3f-4aa350bc3087-c000.snappy.parquet', size=3280, modificationTime=1752971448000),\n",
       " FileInfo(path='dbfs:/mnt/bronze/sales/part-00000-8965af63-2c2f-4589-9755-bcd931a4cf15-c000.snappy.parquet', name='part-00000-8965af63-2c2f-4589-9755-bcd931a4cf15-c000.snappy.parquet', size=3237, modificationTime=1752971358000),\n",
       " FileInfo(path='dbfs:/mnt/bronze/sales/part-00000-93c7e9aa-9171-46b3-bbaa-a6816daaf0a2-c000.snappy.parquet', name='part-00000-93c7e9aa-9171-46b3-bbaa-a6816daaf0a2-c000.snappy.parquet', size=3191, modificationTime=1752704299000),\n",
       " FileInfo(path='dbfs:/mnt/bronze/sales/part-00000-94b6fab1-c0f1-406b-bd46-f62ab3530b00-c000.snappy.parquet', name='part-00000-94b6fab1-c0f1-406b-bd46-f62ab3530b00-c000.snappy.parquet', size=3280, modificationTime=1752971480000),\n",
       " FileInfo(path='dbfs:/mnt/bronze/sales/part-00000-99d11b89-e955-4c93-a91d-3c01b37a4987-c000.snappy.parquet', name='part-00000-99d11b89-e955-4c93-a91d-3c01b37a4987-c000.snappy.parquet', size=3279, modificationTime=1752971043000),\n",
       " FileInfo(path='dbfs:/mnt/bronze/sales/part-00000-9b3b422b-ded8-46d3-8c2b-1d9062dc1297-c000.snappy.parquet', name='part-00000-9b3b422b-ded8-46d3-8c2b-1d9062dc1297-c000.snappy.parquet', size=3217, modificationTime=1752971278000),\n",
       " FileInfo(path='dbfs:/mnt/bronze/sales/part-00000-9cc5469d-88f5-415d-8db3-ebc064ff0d79-c000.snappy.parquet', name='part-00000-9cc5469d-88f5-415d-8db3-ebc064ff0d79-c000.snappy.parquet', size=3216, modificationTime=1752971228000),\n",
       " FileInfo(path='dbfs:/mnt/bronze/sales/part-00000-9d12f970-914d-4cae-a3a2-2665db2e9370-c000.snappy.parquet', name='part-00000-9d12f970-914d-4cae-a3a2-2665db2e9370-c000.snappy.parquet', size=3238, modificationTime=1752971268000),\n",
       " FileInfo(path='dbfs:/mnt/bronze/sales/part-00000-9e79e157-c559-4351-bff1-63fbee1d04c6-c000.snappy.parquet', name='part-00000-9e79e157-c559-4351-bff1-63fbee1d04c6-c000.snappy.parquet', size=3278, modificationTime=1752971137000),\n",
       " FileInfo(path='dbfs:/mnt/bronze/sales/part-00000-a1bfdf23-4ebc-4ab4-8ba3-3e0397822153-c000.snappy.parquet', name='part-00000-a1bfdf23-4ebc-4ab4-8ba3-3e0397822153-c000.snappy.parquet', size=3236, modificationTime=1752971077000),\n",
       " FileInfo(path='dbfs:/mnt/bronze/sales/part-00000-a1e69665-e065-4050-a719-b2c6232bcd02-c000.snappy.parquet', name='part-00000-a1e69665-e065-4050-a719-b2c6232bcd02-c000.snappy.parquet', size=3280, modificationTime=1752971489000),\n",
       " FileInfo(path='dbfs:/mnt/bronze/sales/part-00000-aaac9cb2-4e8d-4014-8747-2511f8be7ed5-c000.snappy.parquet', name='part-00000-aaac9cb2-4e8d-4014-8747-2511f8be7ed5-c000.snappy.parquet', size=3238, modificationTime=1752971750000),\n",
       " FileInfo(path='dbfs:/mnt/bronze/sales/part-00000-ac000cdb-4d4c-4d76-833f-eb655f248059-c000.snappy.parquet', name='part-00000-ac000cdb-4d4c-4d76-833f-eb655f248059-c000.snappy.parquet', size=3217, modificationTime=1752971590000),\n",
       " FileInfo(path='dbfs:/mnt/bronze/sales/part-00000-adaaba61-975e-4f7d-9a8a-fa30b1168533-c000.snappy.parquet', name='part-00000-adaaba61-975e-4f7d-9a8a-fa30b1168533-c000.snappy.parquet', size=3280, modificationTime=1752971469000),\n",
       " FileInfo(path='dbfs:/mnt/bronze/sales/part-00000-b17696ce-e3ce-447b-9628-47015120da7c-c000.snappy.parquet', name='part-00000-b17696ce-e3ce-447b-9628-47015120da7c-c000.snappy.parquet', size=3280, modificationTime=1752971177000),\n",
       " FileInfo(path='dbfs:/mnt/bronze/sales/part-00000-b31b79cc-95f5-45b5-be93-428a2d87fb46-c000.snappy.parquet', name='part-00000-b31b79cc-95f5-45b5-be93-428a2d87fb46-c000.snappy.parquet', size=3280, modificationTime=1752971499000),\n",
       " FileInfo(path='dbfs:/mnt/bronze/sales/part-00000-ba8f7d08-893a-45e5-a62d-da05e0f53f1d-c000.snappy.parquet', name='part-00000-ba8f7d08-893a-45e5-a62d-da05e0f53f1d-c000.snappy.parquet', size=3235, modificationTime=1752701058000),\n",
       " FileInfo(path='dbfs:/mnt/bronze/sales/part-00000-bdec6787-a3ba-445c-a67e-9bbbe58436ce-c000.snappy.parquet', name='part-00000-bdec6787-a3ba-445c-a67e-9bbbe58436ce-c000.snappy.parquet', size=3217, modificationTime=1752971770000),\n",
       " FileInfo(path='dbfs:/mnt/bronze/sales/part-00000-bebb9faa-4fb6-422b-bd86-8c4c3d145b8c-c000.snappy.parquet', name='part-00000-bebb9faa-4fb6-422b-bd86-8c4c3d145b8c-c000.snappy.parquet', size=3193, modificationTime=1752701068000),\n",
       " FileInfo(path='dbfs:/mnt/bronze/sales/part-00000-bf8a0d70-149b-4e37-98d8-26b13de95748-c000.snappy.parquet', name='part-00000-bf8a0d70-149b-4e37-98d8-26b13de95748-c000.snappy.parquet', size=3217, modificationTime=1752971419000),\n",
       " FileInfo(path='dbfs:/mnt/bronze/sales/part-00000-c05c475f-c2f0-43d6-828a-9e3ac931891c-c000.snappy.parquet', name='part-00000-c05c475f-c2f0-43d6-828a-9e3ac931891c-c000.snappy.parquet', size=3244, modificationTime=1752781412000),\n",
       " FileInfo(path='dbfs:/mnt/bronze/sales/part-00000-c812c9fc-a0b0-4956-898f-0b3ebcdbc05f-c000.snappy.parquet', name='part-00000-c812c9fc-a0b0-4956-898f-0b3ebcdbc05f-c000.snappy.parquet', size=3570, modificationTime=1752865591000),\n",
       " FileInfo(path='dbfs:/mnt/bronze/sales/part-00000-cab34887-fc3a-4294-9e08-c9b20d538208-c000.snappy.parquet', name='part-00000-cab34887-fc3a-4294-9e08-c9b20d538208-c000.snappy.parquet', size=3280, modificationTime=1752971248000),\n",
       " FileInfo(path='dbfs:/mnt/bronze/sales/part-00000-cd068f07-3977-49bd-8489-a51f83d8906b-c000.snappy.parquet', name='part-00000-cd068f07-3977-49bd-8489-a51f83d8906b-c000.snappy.parquet', size=3235, modificationTime=1752698674000),\n",
       " FileInfo(path='dbfs:/mnt/bronze/sales/part-00000-d1b8e0bc-2063-43bf-886f-67a31f9459f4-c000.snappy.parquet', name='part-00000-d1b8e0bc-2063-43bf-886f-67a31f9459f4-c000.snappy.parquet', size=3121, modificationTime=1752607719000),\n",
       " FileInfo(path='dbfs:/mnt/bronze/sales/part-00000-d51b554e-5cc0-4b5c-b8e7-38bbafde0909-c000.snappy.parquet', name='part-00000-d51b554e-5cc0-4b5c-b8e7-38bbafde0909-c000.snappy.parquet', size=3280, modificationTime=1752971710000),\n",
       " FileInfo(path='dbfs:/mnt/bronze/sales/part-00000-d53ff1c7-5945-4b81-aba0-a7f41114b0b0-c000.snappy.parquet', name='part-00000-d53ff1c7-5945-4b81-aba0-a7f41114b0b0-c000.snappy.parquet', size=3216, modificationTime=1752971519000),\n",
       " FileInfo(path='dbfs:/mnt/bronze/sales/part-00000-d5c90c24-d709-42a4-93ca-75a922fd49e4-c000.snappy.parquet', name='part-00000-d5c90c24-d709-42a4-93ca-75a922fd49e4-c000.snappy.parquet', size=3217, modificationTime=1752971700000),\n",
       " FileInfo(path='dbfs:/mnt/bronze/sales/part-00000-d73f9d69-62c5-4d4c-a759-1db3aac06e4b-c000.snappy.parquet', name='part-00000-d73f9d69-62c5-4d4c-a759-1db3aac06e4b-c000.snappy.parquet', size=3238, modificationTime=1752971348000),\n",
       " FileInfo(path='dbfs:/mnt/bronze/sales/part-00000-d75240fd-9e36-4c66-8150-d5d507323f16-c000.snappy.parquet', name='part-00000-d75240fd-9e36-4c66-8150-d5d507323f16-c000.snappy.parquet', size=3193, modificationTime=1752605943000),\n",
       " FileInfo(path='dbfs:/mnt/bronze/sales/part-00000-d8ee73ed-8b30-439d-abc0-a0d16272b8e4-c000.snappy.parquet', name='part-00000-d8ee73ed-8b30-439d-abc0-a0d16272b8e4-c000.snappy.parquet', size=3193, modificationTime=1752731704000),\n",
       " FileInfo(path='dbfs:/mnt/bronze/sales/part-00000-dfb936a2-e43b-4fb4-bdc5-ce0d5bd17d03-c000.snappy.parquet', name='part-00000-dfb936a2-e43b-4fb4-bdc5-ce0d5bd17d03-c000.snappy.parquet', size=3217, modificationTime=1752971147000),\n",
       " FileInfo(path='dbfs:/mnt/bronze/sales/part-00000-e03d1ae4-ea55-45f3-96d5-ad65a68be655-c000.snappy.parquet', name='part-00000-e03d1ae4-ea55-45f3-96d5-ad65a68be655-c000.snappy.parquet', size=3238, modificationTime=1752971740000),\n",
       " FileInfo(path='dbfs:/mnt/bronze/sales/part-00000-e0ab1670-2c89-416c-8c73-972a6b6bf9aa-c000.snappy.parquet', name='part-00000-e0ab1670-2c89-416c-8c73-972a6b6bf9aa-c000.snappy.parquet', size=3217, modificationTime=1752971187000),\n",
       " FileInfo(path='dbfs:/mnt/bronze/sales/part-00000-e3043df7-643d-4fcf-9d1e-ceecec1616e5-c000.snappy.parquet', name='part-00000-e3043df7-643d-4fcf-9d1e-ceecec1616e5-c000.snappy.parquet', size=3280, modificationTime=1752971761000),\n",
       " FileInfo(path='dbfs:/mnt/bronze/sales/part-00000-e4f53abc-23ff-4026-afe0-1da95a621ee3-c000.snappy.parquet', name='part-00000-e4f53abc-23ff-4026-afe0-1da95a621ee3-c000.snappy.parquet', size=3192, modificationTime=1752700621000),\n",
       " FileInfo(path='dbfs:/mnt/bronze/sales/part-00000-e6b6ec1c-df20-4be9-af83-49fdd2a2a41e-c000.snappy.parquet', name='part-00000-e6b6ec1c-df20-4be9-af83-49fdd2a2a41e-c000.snappy.parquet', size=3238, modificationTime=1752971650000),\n",
       " FileInfo(path='dbfs:/mnt/bronze/sales/part-00000-e8672926-20d9-43a9-9b24-9ea4fceeb342-c000.snappy.parquet', name='part-00000-e8672926-20d9-43a9-9b24-9ea4fceeb342-c000.snappy.parquet', size=3280, modificationTime=1752971107000),\n",
       " FileInfo(path='dbfs:/mnt/bronze/sales/part-00000-ee41d784-5ad5-4015-af24-e59fe7ba4a18-c000.snappy.parquet', name='part-00000-ee41d784-5ad5-4015-af24-e59fe7ba4a18-c000.snappy.parquet', size=3217, modificationTime=1752971640000),\n",
       " FileInfo(path='dbfs:/mnt/bronze/sales/part-00000-ee48f58f-99f7-45dc-bf6f-20460379dd23-c000.snappy.parquet', name='part-00000-ee48f58f-99f7-45dc-bf6f-20460379dd23-c000.snappy.parquet', size=3217, modificationTime=1752971620000),\n",
       " FileInfo(path='dbfs:/mnt/bronze/sales/part-00000-eee2d242-8b9e-4574-9aa4-41b4ea1fe51d-c000.snappy.parquet', name='part-00000-eee2d242-8b9e-4574-9aa4-41b4ea1fe51d-c000.snappy.parquet', size=3280, modificationTime=1752971258000),\n",
       " FileInfo(path='dbfs:/mnt/bronze/sales/part-00000-ef398cf0-f92d-4718-89e7-54f3765c8eb2-c000.snappy.parquet', name='part-00000-ef398cf0-f92d-4718-89e7-54f3765c8eb2-c000.snappy.parquet', size=3217, modificationTime=1752971630000),\n",
       " FileInfo(path='dbfs:/mnt/bronze/sales/part-00000-f3654f0c-03cc-4d45-861b-6ce0c0cf57dc-c000.snappy.parquet', name='part-00000-f3654f0c-03cc-4d45-861b-6ce0c0cf57dc-c000.snappy.parquet', size=3217, modificationTime=1752971549000),\n",
       " FileInfo(path='dbfs:/mnt/bronze/sales/part-00000-f42e67fa-d702-42cf-9732-1fa0533589a7-c000.snappy.parquet', name='part-00000-f42e67fa-d702-42cf-9732-1fa0533589a7-c000.snappy.parquet', size=3237, modificationTime=1752971238000),\n",
       " FileInfo(path='dbfs:/mnt/bronze/sales/part-00000-f780d011-2f7b-4983-a837-1f25ff8c45bb-c000.snappy.parquet', name='part-00000-f780d011-2f7b-4983-a837-1f25ff8c45bb-c000.snappy.parquet', size=3238, modificationTime=1752971570000),\n",
       " FileInfo(path='dbfs:/mnt/bronze/sales/part-00000-fec1f6c2-21d2-4121-b604-82acab008607-c000.snappy.parquet', name='part-00000-fec1f6c2-21d2-4121-b604-82acab008607-c000.snappy.parquet', size=3172, modificationTime=1752606022000)]"
      ]
     },
     "execution_count": 2,
     "metadata": {},
     "output_type": "execute_result"
    }
   ],
   "source": [
    "dbutils.fs.ls(bronze_mount_path)"
   ]
  },
  {
   "cell_type": "markdown",
   "metadata": {
    "application/vnd.databricks.v1+cell": {
     "cellMetadata": {},
     "inputWidgets": {},
     "nuid": "181cd12c-f2a4-462a-a7ed-e2f7a7609ab7",
     "showTitle": false,
     "tableResultSettingsMap": {},
     "title": ""
    }
   },
   "source": [
    "### Definicion de esquema"
   ]
  },
  {
   "cell_type": "code",
   "execution_count": 0,
   "metadata": {
    "application/vnd.databricks.v1+cell": {
     "cellMetadata": {
      "byteLimit": 2048000,
      "rowLimit": 10000
     },
     "inputWidgets": {},
     "nuid": "19abbbb4-ffe9-478b-8cae-9dcec8cb91c9",
     "showTitle": true,
     "tableResultSettingsMap": {},
     "title": "Define Schema for Transaction Events Data"
    }
   },
   "outputs": [],
   "source": [
    "event_schema = StructType([\n",
    "    StructField(\"transaction_id\", StringType(), True),\n",
    "    StructField(\"timestamp\", StringType(), True),\n",
    "    StructField(\"product_id\", StringType(), True),\n",
    "    StructField(\"store\", StringType(), True),\n",
    "    StructField(\"customer_id\", StringType(), True),\n",
    "    StructField(\"amount\", DoubleType(), True),\n",
    "    StructField(\"channel\", StringType(), True)\n",
    "])\n"
   ]
  },
  {
   "cell_type": "markdown",
   "metadata": {
    "application/vnd.databricks.v1+cell": {
     "cellMetadata": {},
     "inputWidgets": {},
     "nuid": "72fe2486-1bb9-4946-8fef-a285dd34ae88",
     "showTitle": false,
     "tableResultSettingsMap": {},
     "title": ""
    }
   },
   "source": [
    "Prueba para ver si el stream esta activo"
   ]
  },
  {
   "cell_type": "code",
   "execution_count": 0,
   "metadata": {
    "application/vnd.databricks.v1+cell": {
     "cellMetadata": {
      "byteLimit": 2048000,
      "rowLimit": 10000
     },
     "inputWidgets": {},
     "nuid": "2a79701f-d412-4dd2-bb10-56c9a9ca8ec0",
     "showTitle": true,
     "tableResultSettingsMap": {},
     "title": "Encrypt EventHub Connection String and Define Config"
    }
   },
   "outputs": [],
   "source": [
    "# Obtener connection string desde el secret\n",
    "eventhub_connection_string = dbutils.secrets.get(scope=eventhub_secret_scope, key=eventhub_secret_key)\n",
    "\n",
    "# Encriptar correctamente desde JVM sin class\n",
    "encrypted_conn_str = sc._jvm.org.apache.spark.eventhubs.EventHubsUtils.encrypt(eventhub_connection_string)\n",
    "\n",
    "# Definir configuración con connection string encriptado\n",
    "eventhub_config = {\n",
    "    \"eventhubs.connectionString\": encrypted_conn_str,\n",
    "    \"eventhubs.consumerGroup\": \"market-consumer-group\",\n",
    "    \"eventhubs.startingPosition\": json.dumps(starting_position)\n",
    "}"
   ]
  },
  {
   "cell_type": "code",
   "execution_count": 0,
   "metadata": {
    "application/vnd.databricks.v1+cell": {
     "cellMetadata": {
      "byteLimit": 2048000,
      "rowLimit": 10000
     },
     "inputWidgets": {},
     "nuid": "3781abe6-e1e0-40be-b461-a687e8e4e801",
     "showTitle": true,
     "tableResultSettingsMap": {
      "0": {
       "dataGridStateBlob": "{\"version\":1,\"tableState\":{\"columnPinning\":{\"left\":[\"#row_number#\"],\"right\":[]},\"columnSizing\":{\"timestamp\":268,\"event_timestamp\":193},\"columnVisibility\":{}},\"settings\":{\"columns\":{}},\"syncTimestamp\":1753043218854}",
       "filterBlob": null,
       "queryPlanFiltersBlob": null,
       "tableResultIndex": 0
      }
     },
     "title": "Stream EventHub Data to Delta Lake with Timestamps"
    }
   },
   "outputs": [
    {
     "output_type": "display_data",
     "data": {
      "text/html": [
       "<style scoped>\n",
       "  .table-result-container {\n",
       "    max-height: 300px;\n",
       "    overflow: auto;\n",
       "  }\n",
       "  table, th, td {\n",
       "    border: 1px solid black;\n",
       "    border-collapse: collapse;\n",
       "  }\n",
       "  th, td {\n",
       "    padding: 5px;\n",
       "  }\n",
       "  th {\n",
       "    text-align: left;\n",
       "  }\n",
       "</style><div class='table-result-container'><table class='table-result'><thead style='background-color: white'><tr><th>transaction_id</th><th>timestamp</th><th>product_id</th><th>store</th><th>customer_id</th><th>amount</th><th>channel</th><th>event_timestamp</th><th>ingestion_time</th></tr></thead><tbody><tr><td>7020636d-9642-48ff-aa86-d637d3d01e91</td><td>2025-07-20T20:25:03.714485+00:00</td><td>P005</td><td>SucursalB</td><td>CUST001</td><td>197.58</td><td>SelfCheckout</td><td>2025-07-20T20:25:03.714485Z</td><td>2025-07-20T20:25:47.487Z</td></tr><tr><td>ece28497-b8e0-4a26-8ae9-5fc9d8b06794</td><td>2025-07-20T20:25:15.325047+00:00</td><td>P003</td><td>SucursalC</td><td>CUST004</td><td>200.32</td><td>SelfCheckout</td><td>2025-07-20T20:25:15.325047Z</td><td>2025-07-20T20:25:47.487Z</td></tr><tr><td>65666e16-447b-4a54-9695-195dae0a2041</td><td>2025-07-20T20:25:25.382575+00:00</td><td>P004</td><td>SucursalA</td><td>CUST003</td><td>318.25</td><td>SelfCheckout</td><td>2025-07-20T20:25:25.382575Z</td><td>2025-07-20T20:25:47.487Z</td></tr><tr><td>2214e6bc-454d-4139-b53a-9505b1cec184</td><td>2025-07-20T20:26:32.244801+00:00</td><td>P001</td><td>SucursalA</td><td>CUST005</td><td>426.04</td><td>POS</td><td>2025-07-20T20:26:32.244801Z</td><td>2025-07-20T20:26:34.007Z</td></tr><tr><td>55667286-e399-4539-9e2a-bef3d88b58c9</td><td>2025-07-20T20:26:43.594623+00:00</td><td>P004</td><td>SucursalC</td><td>CUST003</td><td>358.64</td><td>Online</td><td>2025-07-20T20:26:43.594623Z</td><td>2025-07-20T20:26:44.006Z</td></tr><tr><td>9248bf57-c08b-4820-87ee-2e9cfe535102</td><td>2025-07-20T20:26:53.651229+00:00</td><td>P004</td><td>SucursalA</td><td>CUST002</td><td>496.97</td><td>SelfCheckout</td><td>2025-07-20T20:26:53.651229Z</td><td>2025-07-20T20:26:54.006Z</td></tr><tr><td>4dcce014-4049-4ad2-b2fd-9299a2322f01</td><td>2025-07-20T20:27:03.710038+00:00</td><td>P004</td><td>SucursalA</td><td>CUST004</td><td>342.3</td><td>POS</td><td>2025-07-20T20:27:03.710038Z</td><td>2025-07-20T20:27:04.006Z</td></tr><tr><td>fd9d9b92-331e-43d5-b5a4-e71089e12897</td><td>2025-07-20T20:27:13.768399+00:00</td><td>P004</td><td>SucursalA</td><td>CUST002</td><td>101.29</td><td>SelfCheckout</td><td>2025-07-20T20:27:13.768399Z</td><td>2025-07-20T20:27:14.006Z</td></tr><tr><td>dfeab038-4eba-4191-8e10-a45b2b8bccf1</td><td>2025-07-20T20:27:23.825747+00:00</td><td>P001</td><td>SucursalA</td><td>CUST004</td><td>128.64</td><td>SelfCheckout</td><td>2025-07-20T20:27:23.825747Z</td><td>2025-07-20T20:27:24.011Z</td></tr><tr><td>459ff323-65d8-4f52-9165-2f836e198cca</td><td>2025-07-20T20:27:33.885256+00:00</td><td>P002</td><td>SucursalA</td><td>CUST003</td><td>50.91</td><td>SelfCheckout</td><td>2025-07-20T20:27:33.885256Z</td><td>2025-07-20T20:27:34.006Z</td></tr><tr><td>9b07503b-0f5b-46df-8e1e-f85e0ffe26a9</td><td>2025-07-20T20:27:43.943079+00:00</td><td>P003</td><td>SucursalA</td><td>CUST005</td><td>68.81</td><td>SelfCheckout</td><td>2025-07-20T20:27:43.943079Z</td><td>2025-07-20T20:27:44.006Z</td></tr><tr><td>ff0d2287-ca62-4d5c-8160-8d0c3c9c2b5f</td><td>2025-07-20T20:27:54.001042+00:00</td><td>P005</td><td>SucursalA</td><td>CUST004</td><td>283.12</td><td>SelfCheckout</td><td>2025-07-20T20:27:54.001042Z</td><td>2025-07-20T20:27:55.006Z</td></tr><tr><td>cf87096a-084f-4ac8-9b59-00fd07f2139d</td><td>2025-07-20T20:28:04.058627+00:00</td><td>P002</td><td>SucursalA</td><td>CUST004</td><td>330.62</td><td>SelfCheckout</td><td>2025-07-20T20:28:04.058627Z</td><td>2025-07-20T20:28:05.006Z</td></tr><tr><td>32b96eb1-fe36-4477-a5df-24a7c4582fed</td><td>2025-07-20T20:28:14.116048+00:00</td><td>P003</td><td>SucursalC</td><td>CUST004</td><td>73.32</td><td>SelfCheckout</td><td>2025-07-20T20:28:14.116048Z</td><td>2025-07-20T20:28:15.006Z</td></tr><tr><td>5c50c402-09a8-445d-bf7c-b95cbea1bcd9</td><td>2025-07-20T20:28:24.173891+00:00</td><td>P002</td><td>SucursalA</td><td>CUST004</td><td>230.74</td><td>POS</td><td>2025-07-20T20:28:24.173891Z</td><td>2025-07-20T20:28:25.007Z</td></tr><tr><td>982733e8-59b4-49ae-8feb-e481f437ce8b</td><td>2025-07-20T20:28:34.230195+00:00</td><td>P005</td><td>SucursalA</td><td>CUST001</td><td>248.1</td><td>SelfCheckout</td><td>2025-07-20T20:28:34.230195Z</td><td>2025-07-20T20:28:35.006Z</td></tr><tr><td>6cf6a01d-e113-45ce-a4bd-5b7e3e9518b7</td><td>2025-07-20T20:28:44.287054+00:00</td><td>P003</td><td>SucursalA</td><td>CUST002</td><td>453.22</td><td>SelfCheckout</td><td>2025-07-20T20:28:44.287054Z</td><td>2025-07-20T20:28:45.014Z</td></tr><tr><td>ec3b2f41-3269-4f01-86a9-386888559eb3</td><td>2025-07-20T20:28:54.348501+00:00</td><td>P005</td><td>SucursalB</td><td>CUST003</td><td>437.03</td><td>POS</td><td>2025-07-20T20:28:54.348501Z</td><td>2025-07-20T20:28:55.008Z</td></tr><tr><td>3f0fa4f5-f0ac-4a2a-a2cb-9087406c0cb1</td><td>2025-07-20T20:29:04.405169+00:00</td><td>P002</td><td>SucursalB</td><td>CUST003</td><td>460.81</td><td>POS</td><td>2025-07-20T20:29:04.405169Z</td><td>2025-07-20T20:29:05.006Z</td></tr><tr><td>24fdba35-5d4e-427b-826f-370cdcbcbb41</td><td>2025-07-20T20:29:14.463121+00:00</td><td>P003</td><td>SucursalA</td><td>CUST002</td><td>106.06</td><td>Online</td><td>2025-07-20T20:29:14.463121Z</td><td>2025-07-20T20:29:15.006Z</td></tr><tr><td>13d66405-add5-4a41-b82f-8ba0acdfe7b8</td><td>2025-07-20T20:29:24.521416+00:00</td><td>P004</td><td>SucursalC</td><td>CUST002</td><td>195.25</td><td>SelfCheckout</td><td>2025-07-20T20:29:24.521416Z</td><td>2025-07-20T20:29:25.005Z</td></tr><tr><td>5dfcb298-8838-480f-bf05-d45ae8c3d65b</td><td>2025-07-20T20:29:34.579047+00:00</td><td>P001</td><td>SucursalA</td><td>CUST004</td><td>20.37</td><td>Online</td><td>2025-07-20T20:29:34.579047Z</td><td>2025-07-20T20:29:35.006Z</td></tr><tr><td>3bcb4794-01ff-4e20-99dd-1e9fd25c76ee</td><td>2025-07-20T20:29:44.636030+00:00</td><td>P003</td><td>SucursalC</td><td>CUST005</td><td>313.35</td><td>SelfCheckout</td><td>2025-07-20T20:29:44.63603Z</td><td>2025-07-20T20:29:45.006Z</td></tr><tr><td>8cd6a662-faa8-43e3-a8bc-7832db02204d</td><td>2025-07-20T20:29:54.693356+00:00</td><td>P004</td><td>SucursalB</td><td>CUST005</td><td>377.0</td><td>SelfCheckout</td><td>2025-07-20T20:29:54.693356Z</td><td>2025-07-20T20:29:55.005Z</td></tr><tr><td>ffa457e1-86ac-4f12-82d8-dee73cb51c59</td><td>2025-07-20T20:30:04.750987+00:00</td><td>P002</td><td>SucursalA</td><td>CUST002</td><td>477.67</td><td>POS</td><td>2025-07-20T20:30:04.750987Z</td><td>2025-07-20T20:30:05.005Z</td></tr><tr><td>ac211ee6-9621-4a22-aa84-7fcfaf18c2af</td><td>2025-07-20T20:30:14.809077+00:00</td><td>P005</td><td>SucursalA</td><td>CUST001</td><td>423.09</td><td>POS</td><td>2025-07-20T20:30:14.809077Z</td><td>2025-07-20T20:30:15.005Z</td></tr><tr><td>1e58f84d-cf01-46b0-b18e-642312a3f1f8</td><td>2025-07-20T20:30:24.866053+00:00</td><td>P002</td><td>SucursalC</td><td>CUST002</td><td>401.19</td><td>POS</td><td>2025-07-20T20:30:24.866053Z</td><td>2025-07-20T20:30:25.005Z</td></tr><tr><td>5ff8ac4c-a8ca-4bba-b8a9-9dfc621025d6</td><td>2025-07-20T20:30:34.926896+00:00</td><td>P004</td><td>SucursalB</td><td>CUST005</td><td>27.06</td><td>Online</td><td>2025-07-20T20:30:34.926896Z</td><td>2025-07-20T20:30:35.005Z</td></tr><tr><td>be5eb819-e587-4c57-a896-0305c60b11f0</td><td>2025-07-20T20:30:44.987030+00:00</td><td>P003</td><td>SucursalB</td><td>CUST003</td><td>462.1</td><td>Online</td><td>2025-07-20T20:30:44.98703Z</td><td>2025-07-20T20:30:46.005Z</td></tr><tr><td>2b7ffd6b-e9d3-4621-b2f0-f2a76fdfcdc9</td><td>2025-07-20T20:30:55.043087+00:00</td><td>P005</td><td>SucursalA</td><td>CUST002</td><td>244.99</td><td>POS</td><td>2025-07-20T20:30:55.043087Z</td><td>2025-07-20T20:30:56.006Z</td></tr><tr><td>6b84f364-903e-474f-93d3-8a48ef5669b4</td><td>2025-07-20T20:31:05.100025+00:00</td><td>P003</td><td>SucursalA</td><td>CUST003</td><td>456.58</td><td>Online</td><td>2025-07-20T20:31:05.100025Z</td><td>2025-07-20T20:31:06.007Z</td></tr><tr><td>c584b697-30b1-4777-b848-b3d57ba9f405</td><td>2025-07-20T20:31:15.157079+00:00</td><td>P005</td><td>SucursalC</td><td>CUST001</td><td>341.14</td><td>Online</td><td>2025-07-20T20:31:15.157079Z</td><td>2025-07-20T20:31:16.005Z</td></tr><tr><td>5cab6c68-6e51-4515-9b5e-7b4454c077f2</td><td>2025-07-20T20:31:25.214175+00:00</td><td>P001</td><td>SucursalA</td><td>CUST003</td><td>232.55</td><td>Online</td><td>2025-07-20T20:31:25.214175Z</td><td>2025-07-20T20:31:26.007Z</td></tr><tr><td>c3eae4b4-03aa-419e-885e-812c08efa795</td><td>2025-07-20T20:31:35.270171+00:00</td><td>P002</td><td>SucursalB</td><td>CUST001</td><td>92.96</td><td>POS</td><td>2025-07-20T20:31:35.270171Z</td><td>2025-07-20T20:31:36.007Z</td></tr><tr><td>622621d8-73ce-4ff9-a7e8-2a15cf68ddb4</td><td>2025-07-20T20:31:45.326035+00:00</td><td>P004</td><td>SucursalC</td><td>CUST005</td><td>259.73</td><td>SelfCheckout</td><td>2025-07-20T20:31:45.326035Z</td><td>2025-07-20T20:31:46.005Z</td></tr><tr><td>9bd3582b-8934-43e8-a83c-c419a1c16d2b</td><td>2025-07-20T20:31:55.382065+00:00</td><td>P003</td><td>SucursalA</td><td>CUST005</td><td>491.75</td><td>POS</td><td>2025-07-20T20:31:55.382065Z</td><td>2025-07-20T20:31:56.006Z</td></tr><tr><td>1f5ca93a-fec6-46d6-89c9-c63c6d42e0d8</td><td>2025-07-20T20:32:05.438071+00:00</td><td>P003</td><td>SucursalB</td><td>CUST004</td><td>116.32</td><td>POS</td><td>2025-07-20T20:32:05.438071Z</td><td>2025-07-20T20:32:06.005Z</td></tr></tbody></table></div>"
      ]
     },
     "metadata": {
      "application/vnd.databricks.v1+output": {
       "addedWidgets": {},
       "aggData": [],
       "aggError": "",
       "aggOverflow": false,
       "aggSchema": [],
       "aggSeriesLimitReached": false,
       "aggType": "",
       "arguments": {},
       "columnCustomDisplayInfos": {},
       "data": [
        [
         "7020636d-9642-48ff-aa86-d637d3d01e91",
         "2025-07-20T20:25:03.714485+00:00",
         "P005",
         "SucursalB",
         "CUST001",
         197.58,
         "SelfCheckout",
         "2025-07-20T20:25:03.714485Z",
         "2025-07-20T20:25:47.487Z"
        ],
        [
         "ece28497-b8e0-4a26-8ae9-5fc9d8b06794",
         "2025-07-20T20:25:15.325047+00:00",
         "P003",
         "SucursalC",
         "CUST004",
         200.32,
         "SelfCheckout",
         "2025-07-20T20:25:15.325047Z",
         "2025-07-20T20:25:47.487Z"
        ],
        [
         "65666e16-447b-4a54-9695-195dae0a2041",
         "2025-07-20T20:25:25.382575+00:00",
         "P004",
         "SucursalA",
         "CUST003",
         318.25,
         "SelfCheckout",
         "2025-07-20T20:25:25.382575Z",
         "2025-07-20T20:25:47.487Z"
        ],
        [
         "2214e6bc-454d-4139-b53a-9505b1cec184",
         "2025-07-20T20:26:32.244801+00:00",
         "P001",
         "SucursalA",
         "CUST005",
         426.04,
         "POS",
         "2025-07-20T20:26:32.244801Z",
         "2025-07-20T20:26:34.007Z"
        ],
        [
         "55667286-e399-4539-9e2a-bef3d88b58c9",
         "2025-07-20T20:26:43.594623+00:00",
         "P004",
         "SucursalC",
         "CUST003",
         358.64,
         "Online",
         "2025-07-20T20:26:43.594623Z",
         "2025-07-20T20:26:44.006Z"
        ],
        [
         "9248bf57-c08b-4820-87ee-2e9cfe535102",
         "2025-07-20T20:26:53.651229+00:00",
         "P004",
         "SucursalA",
         "CUST002",
         496.97,
         "SelfCheckout",
         "2025-07-20T20:26:53.651229Z",
         "2025-07-20T20:26:54.006Z"
        ],
        [
         "4dcce014-4049-4ad2-b2fd-9299a2322f01",
         "2025-07-20T20:27:03.710038+00:00",
         "P004",
         "SucursalA",
         "CUST004",
         342.3,
         "POS",
         "2025-07-20T20:27:03.710038Z",
         "2025-07-20T20:27:04.006Z"
        ],
        [
         "fd9d9b92-331e-43d5-b5a4-e71089e12897",
         "2025-07-20T20:27:13.768399+00:00",
         "P004",
         "SucursalA",
         "CUST002",
         101.29,
         "SelfCheckout",
         "2025-07-20T20:27:13.768399Z",
         "2025-07-20T20:27:14.006Z"
        ],
        [
         "dfeab038-4eba-4191-8e10-a45b2b8bccf1",
         "2025-07-20T20:27:23.825747+00:00",
         "P001",
         "SucursalA",
         "CUST004",
         128.64,
         "SelfCheckout",
         "2025-07-20T20:27:23.825747Z",
         "2025-07-20T20:27:24.011Z"
        ],
        [
         "459ff323-65d8-4f52-9165-2f836e198cca",
         "2025-07-20T20:27:33.885256+00:00",
         "P002",
         "SucursalA",
         "CUST003",
         50.91,
         "SelfCheckout",
         "2025-07-20T20:27:33.885256Z",
         "2025-07-20T20:27:34.006Z"
        ],
        [
         "9b07503b-0f5b-46df-8e1e-f85e0ffe26a9",
         "2025-07-20T20:27:43.943079+00:00",
         "P003",
         "SucursalA",
         "CUST005",
         68.81,
         "SelfCheckout",
         "2025-07-20T20:27:43.943079Z",
         "2025-07-20T20:27:44.006Z"
        ],
        [
         "ff0d2287-ca62-4d5c-8160-8d0c3c9c2b5f",
         "2025-07-20T20:27:54.001042+00:00",
         "P005",
         "SucursalA",
         "CUST004",
         283.12,
         "SelfCheckout",
         "2025-07-20T20:27:54.001042Z",
         "2025-07-20T20:27:55.006Z"
        ],
        [
         "cf87096a-084f-4ac8-9b59-00fd07f2139d",
         "2025-07-20T20:28:04.058627+00:00",
         "P002",
         "SucursalA",
         "CUST004",
         330.62,
         "SelfCheckout",
         "2025-07-20T20:28:04.058627Z",
         "2025-07-20T20:28:05.006Z"
        ],
        [
         "32b96eb1-fe36-4477-a5df-24a7c4582fed",
         "2025-07-20T20:28:14.116048+00:00",
         "P003",
         "SucursalC",
         "CUST004",
         73.32,
         "SelfCheckout",
         "2025-07-20T20:28:14.116048Z",
         "2025-07-20T20:28:15.006Z"
        ],
        [
         "5c50c402-09a8-445d-bf7c-b95cbea1bcd9",
         "2025-07-20T20:28:24.173891+00:00",
         "P002",
         "SucursalA",
         "CUST004",
         230.74,
         "POS",
         "2025-07-20T20:28:24.173891Z",
         "2025-07-20T20:28:25.007Z"
        ],
        [
         "982733e8-59b4-49ae-8feb-e481f437ce8b",
         "2025-07-20T20:28:34.230195+00:00",
         "P005",
         "SucursalA",
         "CUST001",
         248.1,
         "SelfCheckout",
         "2025-07-20T20:28:34.230195Z",
         "2025-07-20T20:28:35.006Z"
        ],
        [
         "6cf6a01d-e113-45ce-a4bd-5b7e3e9518b7",
         "2025-07-20T20:28:44.287054+00:00",
         "P003",
         "SucursalA",
         "CUST002",
         453.22,
         "SelfCheckout",
         "2025-07-20T20:28:44.287054Z",
         "2025-07-20T20:28:45.014Z"
        ],
        [
         "ec3b2f41-3269-4f01-86a9-386888559eb3",
         "2025-07-20T20:28:54.348501+00:00",
         "P005",
         "SucursalB",
         "CUST003",
         437.03,
         "POS",
         "2025-07-20T20:28:54.348501Z",
         "2025-07-20T20:28:55.008Z"
        ],
        [
         "3f0fa4f5-f0ac-4a2a-a2cb-9087406c0cb1",
         "2025-07-20T20:29:04.405169+00:00",
         "P002",
         "SucursalB",
         "CUST003",
         460.81,
         "POS",
         "2025-07-20T20:29:04.405169Z",
         "2025-07-20T20:29:05.006Z"
        ],
        [
         "24fdba35-5d4e-427b-826f-370cdcbcbb41",
         "2025-07-20T20:29:14.463121+00:00",
         "P003",
         "SucursalA",
         "CUST002",
         106.06,
         "Online",
         "2025-07-20T20:29:14.463121Z",
         "2025-07-20T20:29:15.006Z"
        ],
        [
         "13d66405-add5-4a41-b82f-8ba0acdfe7b8",
         "2025-07-20T20:29:24.521416+00:00",
         "P004",
         "SucursalC",
         "CUST002",
         195.25,
         "SelfCheckout",
         "2025-07-20T20:29:24.521416Z",
         "2025-07-20T20:29:25.005Z"
        ],
        [
         "5dfcb298-8838-480f-bf05-d45ae8c3d65b",
         "2025-07-20T20:29:34.579047+00:00",
         "P001",
         "SucursalA",
         "CUST004",
         20.37,
         "Online",
         "2025-07-20T20:29:34.579047Z",
         "2025-07-20T20:29:35.006Z"
        ],
        [
         "3bcb4794-01ff-4e20-99dd-1e9fd25c76ee",
         "2025-07-20T20:29:44.636030+00:00",
         "P003",
         "SucursalC",
         "CUST005",
         313.35,
         "SelfCheckout",
         "2025-07-20T20:29:44.63603Z",
         "2025-07-20T20:29:45.006Z"
        ],
        [
         "8cd6a662-faa8-43e3-a8bc-7832db02204d",
         "2025-07-20T20:29:54.693356+00:00",
         "P004",
         "SucursalB",
         "CUST005",
         377.0,
         "SelfCheckout",
         "2025-07-20T20:29:54.693356Z",
         "2025-07-20T20:29:55.005Z"
        ],
        [
         "ffa457e1-86ac-4f12-82d8-dee73cb51c59",
         "2025-07-20T20:30:04.750987+00:00",
         "P002",
         "SucursalA",
         "CUST002",
         477.67,
         "POS",
         "2025-07-20T20:30:04.750987Z",
         "2025-07-20T20:30:05.005Z"
        ],
        [
         "ac211ee6-9621-4a22-aa84-7fcfaf18c2af",
         "2025-07-20T20:30:14.809077+00:00",
         "P005",
         "SucursalA",
         "CUST001",
         423.09,
         "POS",
         "2025-07-20T20:30:14.809077Z",
         "2025-07-20T20:30:15.005Z"
        ],
        [
         "1e58f84d-cf01-46b0-b18e-642312a3f1f8",
         "2025-07-20T20:30:24.866053+00:00",
         "P002",
         "SucursalC",
         "CUST002",
         401.19,
         "POS",
         "2025-07-20T20:30:24.866053Z",
         "2025-07-20T20:30:25.005Z"
        ],
        [
         "5ff8ac4c-a8ca-4bba-b8a9-9dfc621025d6",
         "2025-07-20T20:30:34.926896+00:00",
         "P004",
         "SucursalB",
         "CUST005",
         27.06,
         "Online",
         "2025-07-20T20:30:34.926896Z",
         "2025-07-20T20:30:35.005Z"
        ],
        [
         "be5eb819-e587-4c57-a896-0305c60b11f0",
         "2025-07-20T20:30:44.987030+00:00",
         "P003",
         "SucursalB",
         "CUST003",
         462.1,
         "Online",
         "2025-07-20T20:30:44.98703Z",
         "2025-07-20T20:30:46.005Z"
        ],
        [
         "2b7ffd6b-e9d3-4621-b2f0-f2a76fdfcdc9",
         "2025-07-20T20:30:55.043087+00:00",
         "P005",
         "SucursalA",
         "CUST002",
         244.99,
         "POS",
         "2025-07-20T20:30:55.043087Z",
         "2025-07-20T20:30:56.006Z"
        ],
        [
         "6b84f364-903e-474f-93d3-8a48ef5669b4",
         "2025-07-20T20:31:05.100025+00:00",
         "P003",
         "SucursalA",
         "CUST003",
         456.58,
         "Online",
         "2025-07-20T20:31:05.100025Z",
         "2025-07-20T20:31:06.007Z"
        ],
        [
         "c584b697-30b1-4777-b848-b3d57ba9f405",
         "2025-07-20T20:31:15.157079+00:00",
         "P005",
         "SucursalC",
         "CUST001",
         341.14,
         "Online",
         "2025-07-20T20:31:15.157079Z",
         "2025-07-20T20:31:16.005Z"
        ],
        [
         "5cab6c68-6e51-4515-9b5e-7b4454c077f2",
         "2025-07-20T20:31:25.214175+00:00",
         "P001",
         "SucursalA",
         "CUST003",
         232.55,
         "Online",
         "2025-07-20T20:31:25.214175Z",
         "2025-07-20T20:31:26.007Z"
        ],
        [
         "c3eae4b4-03aa-419e-885e-812c08efa795",
         "2025-07-20T20:31:35.270171+00:00",
         "P002",
         "SucursalB",
         "CUST001",
         92.96,
         "POS",
         "2025-07-20T20:31:35.270171Z",
         "2025-07-20T20:31:36.007Z"
        ],
        [
         "622621d8-73ce-4ff9-a7e8-2a15cf68ddb4",
         "2025-07-20T20:31:45.326035+00:00",
         "P004",
         "SucursalC",
         "CUST005",
         259.73,
         "SelfCheckout",
         "2025-07-20T20:31:45.326035Z",
         "2025-07-20T20:31:46.005Z"
        ],
        [
         "9bd3582b-8934-43e8-a83c-c419a1c16d2b",
         "2025-07-20T20:31:55.382065+00:00",
         "P003",
         "SucursalA",
         "CUST005",
         491.75,
         "POS",
         "2025-07-20T20:31:55.382065Z",
         "2025-07-20T20:31:56.006Z"
        ],
        [
         "1f5ca93a-fec6-46d6-89c9-c63c6d42e0d8",
         "2025-07-20T20:32:05.438071+00:00",
         "P003",
         "SucursalB",
         "CUST004",
         116.32,
         "POS",
         "2025-07-20T20:32:05.438071Z",
         "2025-07-20T20:32:06.005Z"
        ]
       ],
       "datasetInfos": [],
       "dbfsResultPath": null,
       "isJsonSchema": true,
       "metadata": {
        "isDbfsCommandResult": false
       },
       "overflow": false,
       "plotOptions": {
        "customPlotOptions": {},
        "displayType": "table",
        "pivotAggregation": null,
        "pivotColumns": null,
        "xColumns": null,
        "yColumns": null
       },
       "removedWidgets": [],
       "schema": [
        {
         "metadata": "{}",
         "name": "transaction_id",
         "type": "\"string\""
        },
        {
         "metadata": "{}",
         "name": "timestamp",
         "type": "\"string\""
        },
        {
         "metadata": "{}",
         "name": "product_id",
         "type": "\"string\""
        },
        {
         "metadata": "{}",
         "name": "store",
         "type": "\"string\""
        },
        {
         "metadata": "{}",
         "name": "customer_id",
         "type": "\"string\""
        },
        {
         "metadata": "{}",
         "name": "amount",
         "type": "\"double\""
        },
        {
         "metadata": "{}",
         "name": "channel",
         "type": "\"string\""
        },
        {
         "metadata": "{}",
         "name": "event_timestamp",
         "type": "\"timestamp\""
        },
        {
         "metadata": "{}",
         "name": "ingestion_time",
         "type": "\"timestamp\""
        }
       ],
       "type": "table"
      }
     },
     "output_type": "display_data"
    }
   ],
   "source": [
    "spark.conf.set(\n",
    "    \"fs.azure.account.key.mistorageprincipal.dfs.core.windows.net\",\n",
    "    dbutils.secrets.get(scope=\"storage-scope\", key=\"storage-conn\")\n",
    ")\n",
    "\n",
    "raw_stream_df = (\n",
    "        spark.readStream\n",
    "        .format(\"eventhubs\")\n",
    "        .options(**eventhub_config)\n",
    "        .load()\n",
    "    )\n",
    "\n",
    "parsed_df = (\n",
    "        raw_stream_df\n",
    "        .selectExpr(\"cast(body as string) as json_data\")\n",
    "        .select(from_json(col(\"json_data\"), event_schema).alias(\"data\"))\n",
    "        .select(\"data.*\")\n",
    "        .withColumn(\"event_timestamp\", to_timestamp(\"timestamp\"))\n",
    "        .withColumn(\"ingestion_time\", current_timestamp())\n",
    "    )\n",
    "\n",
    "(\n",
    "    parsed_df.writeStream\n",
    "    .format(\"delta\")\n",
    "    .option(\"checkpointLocation\", bronze_mount_path + \"/_checkpoint\")\n",
    "    .option(\"path\", bronze_mount_path)\n",
    "    .outputMode(\"append\")\n",
    "    .start()\n",
    ")\n",
    "display(parsed_df)\n"
   ]
  },
  {
   "cell_type": "code",
   "execution_count": 0,
   "metadata": {
    "application/vnd.databricks.v1+cell": {
     "cellMetadata": {
      "byteLimit": 2048000,
      "rowLimit": 10000
     },
     "inputWidgets": {},
     "nuid": "d2552e0e-4794-4f0b-b363-1bb14d02491c",
     "showTitle": false,
     "tableResultSettingsMap": {
      "0": {
       "dataGridStateBlob": "{\"version\":1,\"tableState\":{\"columnPinning\":{\"left\":[\"#row_number#\"],\"right\":[]},\"columnSizing\":{\"ingestion_time\":220,\"event_timestamp\":208},\"columnVisibility\":{}},\"settings\":{\"columns\":{}},\"syncTimestamp\":1752865786178}",
       "filterBlob": null,
       "queryPlanFiltersBlob": null,
       "tableResultIndex": 0
      }
     },
     "title": ""
    }
   },
   "outputs": [
    {
     "output_type": "display_data",
     "data": {
      "text/html": [
       "<style scoped>\n",
       "  .table-result-container {\n",
       "    max-height: 300px;\n",
       "    overflow: auto;\n",
       "  }\n",
       "  table, th, td {\n",
       "    border: 1px solid black;\n",
       "    border-collapse: collapse;\n",
       "  }\n",
       "  th, td {\n",
       "    padding: 5px;\n",
       "  }\n",
       "  th {\n",
       "    text-align: left;\n",
       "  }\n",
       "</style><div class='table-result-container'><table class='table-result'><thead style='background-color: white'><tr><th>transaction_id</th><th>event_timestamp</th><th>ingestion_time</th></tr></thead><tbody><tr><td>3f1c34f9-54e5-421e-ab3b-11f3f326c733</td><td>2025-07-20T00:36:29.900075Z</td><td>2025-07-20T00:36:30.514Z</td></tr><tr><td>92f32130-b209-47c6-83d9-79294bc91ccc</td><td>2025-07-20T00:36:19.843606Z</td><td>2025-07-20T00:36:20.605Z</td></tr><tr><td>d7271a22-6fe5-4bb6-a9a8-09771b47664b</td><td>2025-07-20T00:36:09.785171Z</td><td>2025-07-20T00:36:10.268Z</td></tr><tr><td>63b0c32b-c5c9-41ec-8740-4b04ab6d6cfc</td><td>2025-07-20T00:35:59.727645Z</td><td>2025-07-20T00:36:00.458Z</td></tr><tr><td>48d4f2e4-3ded-4a21-b484-867088c897e8</td><td>2025-07-20T00:35:49.671619Z</td><td>2025-07-20T00:35:50.427Z</td></tr><tr><td>98aa3ece-2cd4-41a1-bc96-66310f9094e7</td><td>2025-07-20T00:35:39.614308Z</td><td>2025-07-20T00:35:40.221Z</td></tr><tr><td>37294891-36c0-45fa-b053-e56dd80b78b8</td><td>2025-07-20T00:35:29.558157Z</td><td>2025-07-20T00:35:30.45Z</td></tr><tr><td>6c7cb7cd-5dc9-4c5e-99af-2950566c06b5</td><td>2025-07-20T00:35:19.494604Z</td><td>2025-07-20T00:35:20.236Z</td></tr><tr><td>ee476922-4782-43c7-9fb5-f8d809f8c676</td><td>2025-07-20T00:35:09.438501Z</td><td>2025-07-20T00:35:10.16Z</td></tr><tr><td>5ec268d8-e78a-447a-a163-05a14861fcec</td><td>2025-07-20T00:34:59.381417Z</td><td>2025-07-20T00:34:59.791Z</td></tr><tr><td>39909ce4-20ce-49ea-ae3e-01bc0fae8838</td><td>2025-07-20T00:34:49.324552Z</td><td>2025-07-20T00:34:49.876Z</td></tr><tr><td>5d454928-8876-4bbd-8bff-477eb7b4e1fc</td><td>2025-07-20T00:34:39.267639Z</td><td>2025-07-20T00:34:39.978Z</td></tr><tr><td>18f3df64-e115-4f70-9f7c-bee77f11bf55</td><td>2025-07-20T00:34:29.211438Z</td><td>2025-07-20T00:34:29.857Z</td></tr><tr><td>e0817068-5a76-4244-a38c-ca29902522d6</td><td>2025-07-20T00:34:19.154282Z</td><td>2025-07-20T00:34:19.592Z</td></tr><tr><td>22e56892-8844-4677-8157-05673205f297</td><td>2025-07-20T00:34:09.097107Z</td><td>2025-07-20T00:34:09.597Z</td></tr><tr><td>f7cd67d4-b416-4ab2-b3c0-4db42e575681</td><td>2025-07-20T00:33:59.039816Z</td><td>2025-07-20T00:33:59.827Z</td></tr><tr><td>11ce56cc-6d56-4cc2-b943-05276444c850</td><td>2025-07-20T00:33:48.983605Z</td><td>2025-07-20T00:33:49.617Z</td></tr><tr><td>086eb9bc-6bac-416d-ba53-bd94bff0e5a2</td><td>2025-07-20T00:33:38.927337Z</td><td>2025-07-20T00:33:39.531Z</td></tr><tr><td>69531aa6-13b1-4b30-8aec-4f442522b176</td><td>2025-07-20T00:33:28.871019Z</td><td>2025-07-20T00:33:29.672Z</td></tr><tr><td>79d7fc31-451d-42b0-ac28-2af4342fc76a</td><td>2025-07-20T00:33:18.814599Z</td><td>2025-07-20T00:33:19.249Z</td></tr><tr><td>de73a01a-a195-453f-9116-e3acc924983a</td><td>2025-07-20T00:33:08.757705Z</td><td>2025-07-20T00:33:09.26Z</td></tr><tr><td>c12b8e39-cb37-4785-a388-c5c6e5c8d025</td><td>2025-07-20T00:32:58.702004Z</td><td>2025-07-20T00:33:00.5Z</td></tr><tr><td>dfb86235-3a95-4751-9666-eab0cd36f75b</td><td>2025-07-20T00:32:48.645502Z</td><td>2025-07-20T00:32:49.489Z</td></tr><tr><td>54caf23a-3c2c-4ea9-bf84-16d99ae5a4db</td><td>2025-07-20T00:32:38.58855Z</td><td>2025-07-20T00:32:39.26Z</td></tr><tr><td>d4046226-229b-49c3-8d5b-da5c4b6492fa</td><td>2025-07-20T00:32:28.532607Z</td><td>2025-07-20T00:32:29.069Z</td></tr><tr><td>3742a224-909a-4b86-b454-89c76638639a</td><td>2025-07-20T00:32:18.477307Z</td><td>2025-07-20T00:32:19.037Z</td></tr><tr><td>e64d0707-9808-4f06-a126-9c85b3bdeecc</td><td>2025-07-20T00:32:08.421643Z</td><td>2025-07-20T00:32:08.926Z</td></tr><tr><td>762f2d7c-534c-4858-ac0f-04dcb8890d67</td><td>2025-07-20T00:31:58.365041Z</td><td>2025-07-20T00:31:59.014Z</td></tr><tr><td>d38af792-d6bd-49e2-a47b-f79fb4eaa2bb</td><td>2025-07-20T00:31:48.298506Z</td><td>2025-07-20T00:31:49.046Z</td></tr><tr><td>286f8f65-83cb-4cc4-8bab-70c411644caf</td><td>2025-07-20T00:31:38.235606Z</td><td>2025-07-20T00:31:38.688Z</td></tr><tr><td>be89fe0a-97b7-46be-920c-4a8398e8f4d7</td><td>2025-07-20T00:31:28.179645Z</td><td>2025-07-20T00:31:28.968Z</td></tr><tr><td>ce9c4d20-0cd1-45d9-81c1-f5efca59cb97</td><td>2025-07-20T00:31:18.122634Z</td><td>2025-07-20T00:31:19.014Z</td></tr><tr><td>21369588-892d-4a8d-bbb1-0c2a190ddc1c</td><td>2025-07-20T00:31:08.0677Z</td><td>2025-07-20T00:31:08.58Z</td></tr><tr><td>add35ce3-3f2e-40e6-bae7-84a255bee823</td><td>2025-07-20T00:30:58.012709Z</td><td>2025-07-20T00:30:58.637Z</td></tr><tr><td>e883ee65-51a6-4345-af0b-ffb331db270e</td><td>2025-07-20T00:30:47.957654Z</td><td>2025-07-20T00:30:48.391Z</td></tr><tr><td>291e6224-c1cd-4963-b29b-55736d6253d4</td><td>2025-07-20T00:30:37.902603Z</td><td>2025-07-20T00:30:38.5Z</td></tr><tr><td>89ea22c7-e9b2-448a-aa1e-cd601c7d0d34</td><td>2025-07-20T00:30:27.847613Z</td><td>2025-07-20T00:30:28.269Z</td></tr><tr><td>58b86154-22fc-49a4-945b-3db15f827d46</td><td>2025-07-20T00:30:17.781602Z</td><td>2025-07-20T00:30:18.427Z</td></tr><tr><td>7401cadf-0bd5-4a85-a515-0f7a37917c33</td><td>2025-07-20T00:30:07.725976Z</td><td>2025-07-20T00:30:08.61Z</td></tr><tr><td>37238e68-1542-4128-9a9d-55b3b60ac138</td><td>2025-07-20T00:29:57.67035Z</td><td>2025-07-20T00:29:58.155Z</td></tr><tr><td>b4e0be3f-d93c-4a27-ae45-d4b10d948333</td><td>2025-07-20T00:29:47.614059Z</td><td>2025-07-20T00:29:48.341Z</td></tr><tr><td>cca25b84-fc48-4142-8077-1c8da734ca99</td><td>2025-07-20T00:29:37.557595Z</td><td>2025-07-20T00:29:38.303Z</td></tr><tr><td>fa3a1d7d-bb77-40a7-b9e1-1efad7c541f5</td><td>2025-07-20T00:29:27.500601Z</td><td>2025-07-20T00:29:28.075Z</td></tr><tr><td>386164d1-be32-493f-9d34-d615f431fd80</td><td>2025-07-20T00:29:17.443574Z</td><td>2025-07-20T00:29:17.972Z</td></tr><tr><td>3d622bbe-af1e-4048-a2c4-d9a359e073bc</td><td>2025-07-20T00:29:07.387265Z</td><td>2025-07-20T00:29:08.197Z</td></tr><tr><td>ddfa5646-466a-4152-95f0-1f4d7bdfd5ef</td><td>2025-07-20T00:28:57.332296Z</td><td>2025-07-20T00:28:57.791Z</td></tr><tr><td>dda086ca-07e1-4fb0-be0f-0df2e0aa9602</td><td>2025-07-20T00:28:47.27761Z</td><td>2025-07-20T00:28:47.984Z</td></tr><tr><td>c5c75278-7cf9-4054-9201-958292e314d3</td><td>2025-07-20T00:28:37.222616Z</td><td>2025-07-20T00:28:37.646Z</td></tr><tr><td>8adb203c-484a-45c8-9838-f6cd93a1f43a</td><td>2025-07-20T00:28:27.166437Z</td><td>2025-07-20T00:28:27.88Z</td></tr><tr><td>369d063d-40b0-4115-a841-dfabb63bccc8</td><td>2025-07-20T00:28:17.111715Z</td><td>2025-07-20T00:28:17.796Z</td></tr><tr><td>c9eacc72-c6b0-4a5d-90d4-06010bc3194b</td><td>2025-07-20T00:28:07.0554Z</td><td>2025-07-20T00:28:07.902Z</td></tr><tr><td>57604977-4c14-460d-a050-0190616fe912</td><td>2025-07-20T00:27:56.999945Z</td><td>2025-07-20T00:27:57.801Z</td></tr><tr><td>7d61ef8b-8ca6-4ae5-bea1-8d2ab8028630</td><td>2025-07-20T00:27:46.943956Z</td><td>2025-07-20T00:27:47.511Z</td></tr><tr><td>09516a47-676f-4915-adcb-08f5526b0696</td><td>2025-07-20T00:27:36.884609Z</td><td>2025-07-20T00:27:37.35Z</td></tr><tr><td>1b7fcfa9-2a96-43fe-b157-4e602b25508d</td><td>2025-07-20T00:27:26.829154Z</td><td>2025-07-20T00:27:27.468Z</td></tr><tr><td>16580a56-4cb0-4c03-af71-c61f2c15aef9</td><td>2025-07-20T00:27:16.773162Z</td><td>2025-07-20T00:27:17.342Z</td></tr><tr><td>a88ce982-bfc7-49b2-8ae6-8eddd87d032f</td><td>2025-07-20T00:27:06.717101Z</td><td>2025-07-20T00:27:07.466Z</td></tr><tr><td>d5e13791-0f86-4917-87b0-ac4acbc66d07</td><td>2025-07-20T00:26:56.660601Z</td><td>2025-07-20T00:26:57.458Z</td></tr><tr><td>13aa7e4f-783c-4c95-ad10-cee64b695265</td><td>2025-07-20T00:26:46.605973Z</td><td>2025-07-20T00:26:47.204Z</td></tr><tr><td>be11a5c2-cac3-41a8-bf84-d17d63c7f071</td><td>2025-07-20T00:26:36.549324Z</td><td>2025-07-20T00:26:36.964Z</td></tr><tr><td>b3616259-fd80-4b7f-96bf-e0df3bb33674</td><td>2025-07-20T00:26:26.475551Z</td><td>2025-07-20T00:26:27.155Z</td></tr><tr><td>a4302b40-3f83-46b7-90a2-5245ced829aa</td><td>2025-07-20T00:26:16.419077Z</td><td>2025-07-20T00:26:16.854Z</td></tr><tr><td>155a9dfe-ac3b-4afd-bf4f-c5f548fc548d</td><td>2025-07-20T00:26:06.364145Z</td><td>2025-07-20T00:26:07.01Z</td></tr><tr><td>067d0572-03f8-41ed-ad3f-01a6560802b6</td><td>2025-07-20T00:25:56.308557Z</td><td>2025-07-20T00:25:57.142Z</td></tr><tr><td>c98dfb12-aaf6-401a-a77d-72a6298fdd8b</td><td>2025-07-20T00:25:46.253099Z</td><td>2025-07-20T00:25:46.886Z</td></tr><tr><td>78cb474f-4a7c-4a78-b3bc-2da11c93be4a</td><td>2025-07-20T00:25:36.197605Z</td><td>2025-07-20T00:25:37.003Z</td></tr><tr><td>4b5a2c91-18d0-41cd-8032-106803efe278</td><td>2025-07-20T00:25:26.14363Z</td><td>2025-07-20T00:25:26.585Z</td></tr><tr><td>44529c6b-3a24-43c5-a14a-cb8cf84412cf</td><td>2025-07-20T00:25:16.087638Z</td><td>2025-07-20T00:25:16.771Z</td></tr><tr><td>7ae66d32-14db-4120-9e86-947058580ac8</td><td>2025-07-20T00:25:06.032629Z</td><td>2025-07-20T00:25:06.431Z</td></tr><tr><td>aef22eb4-5969-45ef-8b56-be5b6a427b31</td><td>2025-07-20T00:24:55.977477Z</td><td>2025-07-20T00:24:56.701Z</td></tr><tr><td>016c3c0f-5ce3-4696-a7da-a16aaad2378e</td><td>2025-07-20T00:24:45.921612Z</td><td>2025-07-20T00:24:46.73Z</td></tr><tr><td>ceae42bf-f72a-4abd-abc9-bdaf189445ba</td><td>2025-07-20T00:24:35.866349Z</td><td>2025-07-20T00:24:36.389Z</td></tr><tr><td>3a90b0d1-75e6-4366-9aa2-4f361fd546f3</td><td>2025-07-20T00:24:25.812048Z</td><td>2025-07-20T00:24:26.49Z</td></tr><tr><td>cfa4a910-35c6-4fb0-a681-6d8089dfbe24</td><td>2025-07-20T00:24:15.757191Z</td><td>2025-07-20T00:24:16.613Z</td></tr><tr><td>84de1815-ccbb-4951-a7ef-32d8d6f6eebf</td><td>2025-07-20T00:24:05.702066Z</td><td>2025-07-20T00:24:06.384Z</td></tr><tr><td>81f811f2-2eaa-47a7-a9f4-ecbd02690c73</td><td>2025-07-20T00:23:55.645866Z</td><td>2025-07-20T00:24:03.041Z</td></tr><tr><td>d9a4bc15-969c-4722-a795-aadae4cf921a</td><td>2025-07-19T23:56:53.88968Z</td><td>2025-07-20T00:23:54.171Z</td></tr><tr><td>d9a4bc15-969c-4722-a795-aadae4cf921a</td><td>2025-07-19T23:56:53.88968Z</td><td>2025-07-20T00:23:54.171Z</td></tr><tr><td>c28c245f-f188-4ba5-8040-7d432bca377b</td><td>2025-07-19T23:57:15.549909Z</td><td>2025-07-20T00:23:54.171Z</td></tr><tr><td>c28c245f-f188-4ba5-8040-7d432bca377b</td><td>2025-07-19T23:57:15.549909Z</td><td>2025-07-20T00:23:54.171Z</td></tr><tr><td>3c938c73-cf63-4ed6-bf5e-9f264cc03b6e</td><td>2025-07-19T23:57:25.607161Z</td><td>2025-07-20T00:23:54.171Z</td></tr><tr><td>3c938c73-cf63-4ed6-bf5e-9f264cc03b6e</td><td>2025-07-19T23:57:25.607161Z</td><td>2025-07-20T00:23:54.171Z</td></tr><tr><td>91139cfe-8eec-43fa-b8a3-bbb687658f08</td><td>2025-07-19T23:57:35.663512Z</td><td>2025-07-20T00:23:54.171Z</td></tr><tr><td>91139cfe-8eec-43fa-b8a3-bbb687658f08</td><td>2025-07-19T23:57:35.663512Z</td><td>2025-07-20T00:23:54.171Z</td></tr><tr><td>32b8ba94-3d6b-47db-8035-e34c06363e14</td><td>2025-07-20T00:11:28.487389Z</td><td>2025-07-20T00:23:54.171Z</td></tr><tr><td>32b8ba94-3d6b-47db-8035-e34c06363e14</td><td>2025-07-20T00:11:28.487389Z</td><td>2025-07-20T00:23:54.171Z</td></tr><tr><td>41f3cbbb-9701-4462-9a3a-3c1a1aaf1c20</td><td>2025-07-20T00:11:39.824143Z</td><td>2025-07-20T00:23:54.171Z</td></tr><tr><td>41f3cbbb-9701-4462-9a3a-3c1a1aaf1c20</td><td>2025-07-20T00:11:39.824143Z</td><td>2025-07-20T00:23:54.171Z</td></tr><tr><td>9fbf80c1-6599-442d-a712-b9227b097ab9</td><td>2025-07-20T00:11:49.879412Z</td><td>2025-07-20T00:23:54.171Z</td></tr><tr><td>a15b88d9-af77-47e8-b9ec-dbfd42e853b6</td><td>2025-07-20T00:15:03.239713Z</td><td>2025-07-20T00:23:54.171Z</td></tr><tr><td>f1a8c2e3-7167-4c88-91fc-f507f153468d</td><td>2025-07-20T00:15:14.548443Z</td><td>2025-07-20T00:23:54.171Z</td></tr><tr><td>a0ab73f3-6551-4d75-b1a6-9808edcbe7f2</td><td>2025-07-20T00:15:24.602597Z</td><td>2025-07-20T00:23:54.171Z</td></tr><tr><td>10dd292b-05eb-49b2-a2d8-cc20ddd41dea</td><td>2025-07-20T00:15:34.657852Z</td><td>2025-07-20T00:23:54.171Z</td></tr><tr><td>bcd36e60-1df2-4023-9d11-98ee5cd73d1a</td><td>2025-07-20T00:15:44.719581Z</td><td>2025-07-20T00:23:54.171Z</td></tr><tr><td>805bcb73-92ca-4e3f-8c0f-970ee0d610a2</td><td>2025-07-20T00:16:30.685124Z</td><td>2025-07-20T00:23:54.171Z</td></tr><tr><td>88149baa-8ca4-48b7-b2d2-6411664c18fb</td><td>2025-07-20T00:16:41.980922Z</td><td>2025-07-20T00:23:54.171Z</td></tr><tr><td>6d21a5c6-bfc0-4a60-bc70-7a22ec6aa805</td><td>2025-07-20T00:16:52.035709Z</td><td>2025-07-20T00:23:54.171Z</td></tr><tr><td>f57abf87-a58f-4378-a859-2f696993f87a</td><td>2025-07-20T00:17:50.955226Z</td><td>2025-07-20T00:23:54.171Z</td></tr><tr><td>af73d536-5ac4-44a6-9257-fd56cd8a65df</td><td>2025-07-20T00:18:02.280555Z</td><td>2025-07-20T00:23:54.171Z</td></tr><tr><td>45d63f21-63dc-4121-9aba-f07281005e64</td><td>2025-07-20T00:18:12.338215Z</td><td>2025-07-20T00:23:54.171Z</td></tr><tr><td>8c021d11-d306-4b9e-ac5e-5fedb7c43ab1</td><td>2025-07-20T00:21:13.493888Z</td><td>2025-07-20T00:23:54.171Z</td></tr><tr><td>81745943-ec55-4106-9332-fe9531a77c98</td><td>2025-07-20T00:21:24.809956Z</td><td>2025-07-20T00:23:54.171Z</td></tr><tr><td>e8aab998-3837-4694-9ec3-b126e79cadc0</td><td>2025-07-20T00:21:34.865267Z</td><td>2025-07-20T00:23:54.171Z</td></tr><tr><td>9968897d-c251-4e3b-ac1f-97a7b0e42f66</td><td>2025-07-20T00:21:44.920049Z</td><td>2025-07-20T00:23:54.171Z</td></tr><tr><td>185bc6e9-5215-4771-9abf-a5f79448ff27</td><td>2025-07-20T00:21:54.975715Z</td><td>2025-07-20T00:23:54.171Z</td></tr><tr><td>768c29cd-18c5-4ec1-83f1-038dc3f8c762</td><td>2025-07-20T00:22:05.030822Z</td><td>2025-07-20T00:23:54.171Z</td></tr><tr><td>38e3a51b-2603-4845-be89-35b60e1734ea</td><td>2025-07-20T00:22:15.085588Z</td><td>2025-07-20T00:23:54.171Z</td></tr><tr><td>6994d8bb-293c-469a-a52e-5a5de824a4d7</td><td>2025-07-20T00:22:25.141556Z</td><td>2025-07-20T00:23:54.171Z</td></tr><tr><td>af111371-7b46-472f-b2e9-d287ad26372c</td><td>2025-07-20T00:22:35.197652Z</td><td>2025-07-20T00:23:54.171Z</td></tr><tr><td>482ab69d-b361-4c2d-a608-c089027772df</td><td>2025-07-20T00:22:45.252745Z</td><td>2025-07-20T00:23:54.171Z</td></tr><tr><td>c7b5ac5f-ac05-4459-8475-43f9a4e2f067</td><td>2025-07-20T00:22:55.312161Z</td><td>2025-07-20T00:23:54.171Z</td></tr><tr><td>b0fc1e2b-c7e5-4b93-9ef0-aee1aa9dff5d</td><td>2025-07-18T18:55:53.063842Z</td><td>2025-07-18T19:06:25.395Z</td></tr><tr><td>4fe89fe0-2d39-4a00-bffc-cdb815b5fd80</td><td>2025-07-18T18:56:04.58108Z</td><td>2025-07-18T19:06:25.395Z</td></tr><tr><td>e0f6733c-e6da-4231-b3f0-810755d394ce</td><td>2025-07-18T18:56:14.635382Z</td><td>2025-07-18T19:06:25.395Z</td></tr><tr><td>2dc2bd83-aa4d-4033-a548-241f3341842c</td><td>2025-07-18T18:57:09.999913Z</td><td>2025-07-18T19:06:25.395Z</td></tr><tr><td>e981e376-556a-4117-9c6b-664e8aff5f16</td><td>2025-07-18T18:57:21.298159Z</td><td>2025-07-18T19:06:25.395Z</td></tr><tr><td>ed249bbb-9c90-4e5e-8e2e-b1fe9bce6473</td><td>2025-07-18T18:57:31.352309Z</td><td>2025-07-18T19:06:25.395Z</td></tr><tr><td>19942808-9ffc-4257-af16-fd8ed3e85405</td><td>2025-07-17T21:27:01.291226Z</td><td>2025-07-17T21:27:02.131Z</td></tr><tr><td>91effd9d-ff52-429f-b859-62441f6e8fbb</td><td>2025-07-17T21:26:49.958352Z</td><td>2025-07-17T21:26:51.724Z</td></tr><tr><td>8a1d9209-a7f6-44ff-a188-5e3bb38348ab</td><td>2025-07-17T21:24:21.218635Z</td><td>2025-07-17T21:24:21.794Z</td></tr><tr><td>2da7cc0a-93db-4f47-bc75-b7c9b10036b7</td><td>2025-07-17T21:24:11.163527Z</td><td>2025-07-17T21:24:12.038Z</td></tr><tr><td>16e34cae-73a9-4df2-90fb-116cce1707d6</td><td>2025-07-17T21:23:59.841121Z</td><td>2025-07-17T21:24:01.953Z</td></tr><tr><td>05e958aa-5135-4206-98fd-918f825a3ccd</td><td>2025-07-17T19:42:50.45375Z</td><td>2025-07-17T19:43:31.639Z</td></tr><tr><td>f593a4ba-68f6-46d1-a6fb-67246a66a405</td><td>2025-07-17T19:43:01.786681Z</td><td>2025-07-17T19:43:31.639Z</td></tr><tr><td>d6f8ffb3-f135-4bdd-b363-3c4d7f8fc1c1</td><td>2025-07-17T19:43:11.843892Z</td><td>2025-07-17T19:43:31.639Z</td></tr><tr><td>c45e95a0-325e-48b7-af58-ff736033cd37</td><td>2025-07-17T19:11:14.513465Z</td><td>2025-07-17T19:11:15.122Z</td></tr><tr><td>b25d5620-434f-457b-ab18-c7561a7cb628</td><td>2025-07-17T19:11:04.453782Z</td><td>2025-07-17T19:11:04.904Z</td></tr><tr><td>6bd7de6f-5867-431c-a989-e29a69f01917</td><td>2025-07-17T19:10:52.916958Z</td><td>2025-07-17T19:10:54.951Z</td></tr><tr><td>c901a8ad-d33c-48c8-8c76-3b69e2985385</td><td>2025-07-17T05:54:59.565797Z</td><td>2025-07-17T05:55:01.776Z</td></tr><tr><td>f7b57846-573e-4d84-8b2c-598e8cb3cd9c</td><td>2025-07-16T22:18:14.794109Z</td><td>2025-07-16T22:18:17.747Z</td></tr><tr><td>3b5f540c-6ef1-4b17-94b0-d54bf7f29a22</td><td>2025-07-16T22:18:03.472817Z</td><td>2025-07-16T22:18:04.927Z</td></tr><tr><td>da56155c-9810-4bc6-a1eb-4a3d336d777c</td><td>2025-07-16T22:17:12.607494Z</td><td>2025-07-16T22:17:13.262Z</td></tr><tr><td>466d9ef7-7d8e-4a00-adc2-0388ab907e73</td><td>2025-07-16T22:17:02.549081Z</td><td>2025-07-16T22:17:03.102Z</td></tr><tr><td>2df4c0c2-6b15-4b05-97f4-6f9a30ddbefb</td><td>2025-07-16T22:16:51.228915Z</td><td>2025-07-16T22:16:53.112Z</td></tr><tr><td>718e1abe-73d3-4300-a08a-965aa507ee06</td><td>2025-07-16T21:49:28.547526Z</td><td>2025-07-16T21:50:55.134Z</td></tr><tr><td>5857e91a-93e2-4dd0-8d01-37e161fd5aa2</td><td>2025-07-16T21:49:39.871721Z</td><td>2025-07-16T21:50:55.134Z</td></tr><tr><td>e249f798-8cc7-42c7-b701-e4b6d2d7414a</td><td>2025-07-16T21:24:37.848543Z</td><td>2025-07-16T21:24:38.221Z</td></tr><tr><td>c68a0670-fac9-4593-97fe-3596db571b3b</td><td>2025-07-16T21:24:27.790562Z</td><td>2025-07-16T21:24:27.987Z</td></tr><tr><td>02790182-9616-4ceb-a68e-58b1c4133af7</td><td>2025-07-16T21:24:16.453092Z</td><td>2025-07-16T21:24:18.17Z</td></tr><tr><td>362dd4ab-9f19-4fa7-8e4a-dadcf2f64357</td><td>2025-07-16T21:16:58.578297Z</td><td>2025-07-16T21:17:00.41Z</td></tr><tr><td>60fb742c-121f-44f4-b067-5dd853c57e37</td><td>2025-07-16T21:10:10.579257Z</td><td>2025-07-16T21:10:12.401Z</td></tr><tr><td>1d463ec1-db28-4700-876c-adca04637e7b</td><td>2025-07-16T21:02:25.634388Z</td><td>2025-07-16T21:04:21.602Z</td></tr><tr><td>bac03b2a-77a3-4a1a-a1d8-caa2fd105846</td><td>2025-07-16T20:44:33.280026Z</td><td>2025-07-16T20:44:33.725Z</td></tr><tr><td>9deb40fd-161b-4765-a228-e3f4046f6a48</td><td>2025-07-16T20:44:11.643866Z</td><td>2025-07-16T20:44:13.771Z</td></tr><tr><td>e89a5eaf-aab9-46b2-83fc-f60a3ccd176c</td><td>2025-07-15T19:20:11.509812Z</td><td>2025-07-15T19:28:27.966Z</td></tr><tr><td>76b19a2e-9d7b-487b-b186-f2e7de83d5e6</td><td>2025-07-15T19:20:32.838269Z</td><td>2025-07-15T19:28:27.966Z</td></tr><tr><td>6d3ed297-aa58-46d9-bd48-caf2cff01016</td><td>2025-07-15T19:00:21.21617Z</td><td>2025-07-15T19:00:21.773Z</td></tr><tr><td>4882db31-9ad5-4c44-ad68-14eac3024483</td><td>2025-07-15T19:00:01.158656Z</td><td>2025-07-15T19:00:01.379Z</td></tr><tr><td>27f4a5d5-dc3c-4128-b86e-315aa68ad05e</td><td>2025-07-15T18:59:41.100841Z</td><td>2025-07-15T18:59:41.726Z</td></tr><tr><td>f077c603-9515-44ec-841d-9c97d2216a3e</td><td>2025-07-15T18:59:21.041636Z</td><td>2025-07-15T18:59:21.546Z</td></tr><tr><td>153d6c23-b167-4ecb-bce4-235cc85ca764</td><td>2025-07-15T18:58:59.546694Z</td><td>2025-07-15T18:59:01.486Z</td></tr></tbody></table></div>"
      ]
     },
     "metadata": {
      "application/vnd.databricks.v1+output": {
       "addedWidgets": {},
       "aggData": [],
       "aggError": "",
       "aggOverflow": false,
       "aggSchema": [],
       "aggSeriesLimitReached": false,
       "aggType": "",
       "arguments": {},
       "columnCustomDisplayInfos": {},
       "data": [
        [
         "3f1c34f9-54e5-421e-ab3b-11f3f326c733",
         "2025-07-20T00:36:29.900075Z",
         "2025-07-20T00:36:30.514Z"
        ],
        [
         "92f32130-b209-47c6-83d9-79294bc91ccc",
         "2025-07-20T00:36:19.843606Z",
         "2025-07-20T00:36:20.605Z"
        ],
        [
         "d7271a22-6fe5-4bb6-a9a8-09771b47664b",
         "2025-07-20T00:36:09.785171Z",
         "2025-07-20T00:36:10.268Z"
        ],
        [
         "63b0c32b-c5c9-41ec-8740-4b04ab6d6cfc",
         "2025-07-20T00:35:59.727645Z",
         "2025-07-20T00:36:00.458Z"
        ],
        [
         "48d4f2e4-3ded-4a21-b484-867088c897e8",
         "2025-07-20T00:35:49.671619Z",
         "2025-07-20T00:35:50.427Z"
        ],
        [
         "98aa3ece-2cd4-41a1-bc96-66310f9094e7",
         "2025-07-20T00:35:39.614308Z",
         "2025-07-20T00:35:40.221Z"
        ],
        [
         "37294891-36c0-45fa-b053-e56dd80b78b8",
         "2025-07-20T00:35:29.558157Z",
         "2025-07-20T00:35:30.45Z"
        ],
        [
         "6c7cb7cd-5dc9-4c5e-99af-2950566c06b5",
         "2025-07-20T00:35:19.494604Z",
         "2025-07-20T00:35:20.236Z"
        ],
        [
         "ee476922-4782-43c7-9fb5-f8d809f8c676",
         "2025-07-20T00:35:09.438501Z",
         "2025-07-20T00:35:10.16Z"
        ],
        [
         "5ec268d8-e78a-447a-a163-05a14861fcec",
         "2025-07-20T00:34:59.381417Z",
         "2025-07-20T00:34:59.791Z"
        ],
        [
         "39909ce4-20ce-49ea-ae3e-01bc0fae8838",
         "2025-07-20T00:34:49.324552Z",
         "2025-07-20T00:34:49.876Z"
        ],
        [
         "5d454928-8876-4bbd-8bff-477eb7b4e1fc",
         "2025-07-20T00:34:39.267639Z",
         "2025-07-20T00:34:39.978Z"
        ],
        [
         "18f3df64-e115-4f70-9f7c-bee77f11bf55",
         "2025-07-20T00:34:29.211438Z",
         "2025-07-20T00:34:29.857Z"
        ],
        [
         "e0817068-5a76-4244-a38c-ca29902522d6",
         "2025-07-20T00:34:19.154282Z",
         "2025-07-20T00:34:19.592Z"
        ],
        [
         "22e56892-8844-4677-8157-05673205f297",
         "2025-07-20T00:34:09.097107Z",
         "2025-07-20T00:34:09.597Z"
        ],
        [
         "f7cd67d4-b416-4ab2-b3c0-4db42e575681",
         "2025-07-20T00:33:59.039816Z",
         "2025-07-20T00:33:59.827Z"
        ],
        [
         "11ce56cc-6d56-4cc2-b943-05276444c850",
         "2025-07-20T00:33:48.983605Z",
         "2025-07-20T00:33:49.617Z"
        ],
        [
         "086eb9bc-6bac-416d-ba53-bd94bff0e5a2",
         "2025-07-20T00:33:38.927337Z",
         "2025-07-20T00:33:39.531Z"
        ],
        [
         "69531aa6-13b1-4b30-8aec-4f442522b176",
         "2025-07-20T00:33:28.871019Z",
         "2025-07-20T00:33:29.672Z"
        ],
        [
         "79d7fc31-451d-42b0-ac28-2af4342fc76a",
         "2025-07-20T00:33:18.814599Z",
         "2025-07-20T00:33:19.249Z"
        ],
        [
         "de73a01a-a195-453f-9116-e3acc924983a",
         "2025-07-20T00:33:08.757705Z",
         "2025-07-20T00:33:09.26Z"
        ],
        [
         "c12b8e39-cb37-4785-a388-c5c6e5c8d025",
         "2025-07-20T00:32:58.702004Z",
         "2025-07-20T00:33:00.5Z"
        ],
        [
         "dfb86235-3a95-4751-9666-eab0cd36f75b",
         "2025-07-20T00:32:48.645502Z",
         "2025-07-20T00:32:49.489Z"
        ],
        [
         "54caf23a-3c2c-4ea9-bf84-16d99ae5a4db",
         "2025-07-20T00:32:38.58855Z",
         "2025-07-20T00:32:39.26Z"
        ],
        [
         "d4046226-229b-49c3-8d5b-da5c4b6492fa",
         "2025-07-20T00:32:28.532607Z",
         "2025-07-20T00:32:29.069Z"
        ],
        [
         "3742a224-909a-4b86-b454-89c76638639a",
         "2025-07-20T00:32:18.477307Z",
         "2025-07-20T00:32:19.037Z"
        ],
        [
         "e64d0707-9808-4f06-a126-9c85b3bdeecc",
         "2025-07-20T00:32:08.421643Z",
         "2025-07-20T00:32:08.926Z"
        ],
        [
         "762f2d7c-534c-4858-ac0f-04dcb8890d67",
         "2025-07-20T00:31:58.365041Z",
         "2025-07-20T00:31:59.014Z"
        ],
        [
         "d38af792-d6bd-49e2-a47b-f79fb4eaa2bb",
         "2025-07-20T00:31:48.298506Z",
         "2025-07-20T00:31:49.046Z"
        ],
        [
         "286f8f65-83cb-4cc4-8bab-70c411644caf",
         "2025-07-20T00:31:38.235606Z",
         "2025-07-20T00:31:38.688Z"
        ],
        [
         "be89fe0a-97b7-46be-920c-4a8398e8f4d7",
         "2025-07-20T00:31:28.179645Z",
         "2025-07-20T00:31:28.968Z"
        ],
        [
         "ce9c4d20-0cd1-45d9-81c1-f5efca59cb97",
         "2025-07-20T00:31:18.122634Z",
         "2025-07-20T00:31:19.014Z"
        ],
        [
         "21369588-892d-4a8d-bbb1-0c2a190ddc1c",
         "2025-07-20T00:31:08.0677Z",
         "2025-07-20T00:31:08.58Z"
        ],
        [
         "add35ce3-3f2e-40e6-bae7-84a255bee823",
         "2025-07-20T00:30:58.012709Z",
         "2025-07-20T00:30:58.637Z"
        ],
        [
         "e883ee65-51a6-4345-af0b-ffb331db270e",
         "2025-07-20T00:30:47.957654Z",
         "2025-07-20T00:30:48.391Z"
        ],
        [
         "291e6224-c1cd-4963-b29b-55736d6253d4",
         "2025-07-20T00:30:37.902603Z",
         "2025-07-20T00:30:38.5Z"
        ],
        [
         "89ea22c7-e9b2-448a-aa1e-cd601c7d0d34",
         "2025-07-20T00:30:27.847613Z",
         "2025-07-20T00:30:28.269Z"
        ],
        [
         "58b86154-22fc-49a4-945b-3db15f827d46",
         "2025-07-20T00:30:17.781602Z",
         "2025-07-20T00:30:18.427Z"
        ],
        [
         "7401cadf-0bd5-4a85-a515-0f7a37917c33",
         "2025-07-20T00:30:07.725976Z",
         "2025-07-20T00:30:08.61Z"
        ],
        [
         "37238e68-1542-4128-9a9d-55b3b60ac138",
         "2025-07-20T00:29:57.67035Z",
         "2025-07-20T00:29:58.155Z"
        ],
        [
         "b4e0be3f-d93c-4a27-ae45-d4b10d948333",
         "2025-07-20T00:29:47.614059Z",
         "2025-07-20T00:29:48.341Z"
        ],
        [
         "cca25b84-fc48-4142-8077-1c8da734ca99",
         "2025-07-20T00:29:37.557595Z",
         "2025-07-20T00:29:38.303Z"
        ],
        [
         "fa3a1d7d-bb77-40a7-b9e1-1efad7c541f5",
         "2025-07-20T00:29:27.500601Z",
         "2025-07-20T00:29:28.075Z"
        ],
        [
         "386164d1-be32-493f-9d34-d615f431fd80",
         "2025-07-20T00:29:17.443574Z",
         "2025-07-20T00:29:17.972Z"
        ],
        [
         "3d622bbe-af1e-4048-a2c4-d9a359e073bc",
         "2025-07-20T00:29:07.387265Z",
         "2025-07-20T00:29:08.197Z"
        ],
        [
         "ddfa5646-466a-4152-95f0-1f4d7bdfd5ef",
         "2025-07-20T00:28:57.332296Z",
         "2025-07-20T00:28:57.791Z"
        ],
        [
         "dda086ca-07e1-4fb0-be0f-0df2e0aa9602",
         "2025-07-20T00:28:47.27761Z",
         "2025-07-20T00:28:47.984Z"
        ],
        [
         "c5c75278-7cf9-4054-9201-958292e314d3",
         "2025-07-20T00:28:37.222616Z",
         "2025-07-20T00:28:37.646Z"
        ],
        [
         "8adb203c-484a-45c8-9838-f6cd93a1f43a",
         "2025-07-20T00:28:27.166437Z",
         "2025-07-20T00:28:27.88Z"
        ],
        [
         "369d063d-40b0-4115-a841-dfabb63bccc8",
         "2025-07-20T00:28:17.111715Z",
         "2025-07-20T00:28:17.796Z"
        ],
        [
         "c9eacc72-c6b0-4a5d-90d4-06010bc3194b",
         "2025-07-20T00:28:07.0554Z",
         "2025-07-20T00:28:07.902Z"
        ],
        [
         "57604977-4c14-460d-a050-0190616fe912",
         "2025-07-20T00:27:56.999945Z",
         "2025-07-20T00:27:57.801Z"
        ],
        [
         "7d61ef8b-8ca6-4ae5-bea1-8d2ab8028630",
         "2025-07-20T00:27:46.943956Z",
         "2025-07-20T00:27:47.511Z"
        ],
        [
         "09516a47-676f-4915-adcb-08f5526b0696",
         "2025-07-20T00:27:36.884609Z",
         "2025-07-20T00:27:37.35Z"
        ],
        [
         "1b7fcfa9-2a96-43fe-b157-4e602b25508d",
         "2025-07-20T00:27:26.829154Z",
         "2025-07-20T00:27:27.468Z"
        ],
        [
         "16580a56-4cb0-4c03-af71-c61f2c15aef9",
         "2025-07-20T00:27:16.773162Z",
         "2025-07-20T00:27:17.342Z"
        ],
        [
         "a88ce982-bfc7-49b2-8ae6-8eddd87d032f",
         "2025-07-20T00:27:06.717101Z",
         "2025-07-20T00:27:07.466Z"
        ],
        [
         "d5e13791-0f86-4917-87b0-ac4acbc66d07",
         "2025-07-20T00:26:56.660601Z",
         "2025-07-20T00:26:57.458Z"
        ],
        [
         "13aa7e4f-783c-4c95-ad10-cee64b695265",
         "2025-07-20T00:26:46.605973Z",
         "2025-07-20T00:26:47.204Z"
        ],
        [
         "be11a5c2-cac3-41a8-bf84-d17d63c7f071",
         "2025-07-20T00:26:36.549324Z",
         "2025-07-20T00:26:36.964Z"
        ],
        [
         "b3616259-fd80-4b7f-96bf-e0df3bb33674",
         "2025-07-20T00:26:26.475551Z",
         "2025-07-20T00:26:27.155Z"
        ],
        [
         "a4302b40-3f83-46b7-90a2-5245ced829aa",
         "2025-07-20T00:26:16.419077Z",
         "2025-07-20T00:26:16.854Z"
        ],
        [
         "155a9dfe-ac3b-4afd-bf4f-c5f548fc548d",
         "2025-07-20T00:26:06.364145Z",
         "2025-07-20T00:26:07.01Z"
        ],
        [
         "067d0572-03f8-41ed-ad3f-01a6560802b6",
         "2025-07-20T00:25:56.308557Z",
         "2025-07-20T00:25:57.142Z"
        ],
        [
         "c98dfb12-aaf6-401a-a77d-72a6298fdd8b",
         "2025-07-20T00:25:46.253099Z",
         "2025-07-20T00:25:46.886Z"
        ],
        [
         "78cb474f-4a7c-4a78-b3bc-2da11c93be4a",
         "2025-07-20T00:25:36.197605Z",
         "2025-07-20T00:25:37.003Z"
        ],
        [
         "4b5a2c91-18d0-41cd-8032-106803efe278",
         "2025-07-20T00:25:26.14363Z",
         "2025-07-20T00:25:26.585Z"
        ],
        [
         "44529c6b-3a24-43c5-a14a-cb8cf84412cf",
         "2025-07-20T00:25:16.087638Z",
         "2025-07-20T00:25:16.771Z"
        ],
        [
         "7ae66d32-14db-4120-9e86-947058580ac8",
         "2025-07-20T00:25:06.032629Z",
         "2025-07-20T00:25:06.431Z"
        ],
        [
         "aef22eb4-5969-45ef-8b56-be5b6a427b31",
         "2025-07-20T00:24:55.977477Z",
         "2025-07-20T00:24:56.701Z"
        ],
        [
         "016c3c0f-5ce3-4696-a7da-a16aaad2378e",
         "2025-07-20T00:24:45.921612Z",
         "2025-07-20T00:24:46.73Z"
        ],
        [
         "ceae42bf-f72a-4abd-abc9-bdaf189445ba",
         "2025-07-20T00:24:35.866349Z",
         "2025-07-20T00:24:36.389Z"
        ],
        [
         "3a90b0d1-75e6-4366-9aa2-4f361fd546f3",
         "2025-07-20T00:24:25.812048Z",
         "2025-07-20T00:24:26.49Z"
        ],
        [
         "cfa4a910-35c6-4fb0-a681-6d8089dfbe24",
         "2025-07-20T00:24:15.757191Z",
         "2025-07-20T00:24:16.613Z"
        ],
        [
         "84de1815-ccbb-4951-a7ef-32d8d6f6eebf",
         "2025-07-20T00:24:05.702066Z",
         "2025-07-20T00:24:06.384Z"
        ],
        [
         "81f811f2-2eaa-47a7-a9f4-ecbd02690c73",
         "2025-07-20T00:23:55.645866Z",
         "2025-07-20T00:24:03.041Z"
        ],
        [
         "d9a4bc15-969c-4722-a795-aadae4cf921a",
         "2025-07-19T23:56:53.88968Z",
         "2025-07-20T00:23:54.171Z"
        ],
        [
         "d9a4bc15-969c-4722-a795-aadae4cf921a",
         "2025-07-19T23:56:53.88968Z",
         "2025-07-20T00:23:54.171Z"
        ],
        [
         "c28c245f-f188-4ba5-8040-7d432bca377b",
         "2025-07-19T23:57:15.549909Z",
         "2025-07-20T00:23:54.171Z"
        ],
        [
         "c28c245f-f188-4ba5-8040-7d432bca377b",
         "2025-07-19T23:57:15.549909Z",
         "2025-07-20T00:23:54.171Z"
        ],
        [
         "3c938c73-cf63-4ed6-bf5e-9f264cc03b6e",
         "2025-07-19T23:57:25.607161Z",
         "2025-07-20T00:23:54.171Z"
        ],
        [
         "3c938c73-cf63-4ed6-bf5e-9f264cc03b6e",
         "2025-07-19T23:57:25.607161Z",
         "2025-07-20T00:23:54.171Z"
        ],
        [
         "91139cfe-8eec-43fa-b8a3-bbb687658f08",
         "2025-07-19T23:57:35.663512Z",
         "2025-07-20T00:23:54.171Z"
        ],
        [
         "91139cfe-8eec-43fa-b8a3-bbb687658f08",
         "2025-07-19T23:57:35.663512Z",
         "2025-07-20T00:23:54.171Z"
        ],
        [
         "32b8ba94-3d6b-47db-8035-e34c06363e14",
         "2025-07-20T00:11:28.487389Z",
         "2025-07-20T00:23:54.171Z"
        ],
        [
         "32b8ba94-3d6b-47db-8035-e34c06363e14",
         "2025-07-20T00:11:28.487389Z",
         "2025-07-20T00:23:54.171Z"
        ],
        [
         "41f3cbbb-9701-4462-9a3a-3c1a1aaf1c20",
         "2025-07-20T00:11:39.824143Z",
         "2025-07-20T00:23:54.171Z"
        ],
        [
         "41f3cbbb-9701-4462-9a3a-3c1a1aaf1c20",
         "2025-07-20T00:11:39.824143Z",
         "2025-07-20T00:23:54.171Z"
        ],
        [
         "9fbf80c1-6599-442d-a712-b9227b097ab9",
         "2025-07-20T00:11:49.879412Z",
         "2025-07-20T00:23:54.171Z"
        ],
        [
         "a15b88d9-af77-47e8-b9ec-dbfd42e853b6",
         "2025-07-20T00:15:03.239713Z",
         "2025-07-20T00:23:54.171Z"
        ],
        [
         "f1a8c2e3-7167-4c88-91fc-f507f153468d",
         "2025-07-20T00:15:14.548443Z",
         "2025-07-20T00:23:54.171Z"
        ],
        [
         "a0ab73f3-6551-4d75-b1a6-9808edcbe7f2",
         "2025-07-20T00:15:24.602597Z",
         "2025-07-20T00:23:54.171Z"
        ],
        [
         "10dd292b-05eb-49b2-a2d8-cc20ddd41dea",
         "2025-07-20T00:15:34.657852Z",
         "2025-07-20T00:23:54.171Z"
        ],
        [
         "bcd36e60-1df2-4023-9d11-98ee5cd73d1a",
         "2025-07-20T00:15:44.719581Z",
         "2025-07-20T00:23:54.171Z"
        ],
        [
         "805bcb73-92ca-4e3f-8c0f-970ee0d610a2",
         "2025-07-20T00:16:30.685124Z",
         "2025-07-20T00:23:54.171Z"
        ],
        [
         "88149baa-8ca4-48b7-b2d2-6411664c18fb",
         "2025-07-20T00:16:41.980922Z",
         "2025-07-20T00:23:54.171Z"
        ],
        [
         "6d21a5c6-bfc0-4a60-bc70-7a22ec6aa805",
         "2025-07-20T00:16:52.035709Z",
         "2025-07-20T00:23:54.171Z"
        ],
        [
         "f57abf87-a58f-4378-a859-2f696993f87a",
         "2025-07-20T00:17:50.955226Z",
         "2025-07-20T00:23:54.171Z"
        ],
        [
         "af73d536-5ac4-44a6-9257-fd56cd8a65df",
         "2025-07-20T00:18:02.280555Z",
         "2025-07-20T00:23:54.171Z"
        ],
        [
         "45d63f21-63dc-4121-9aba-f07281005e64",
         "2025-07-20T00:18:12.338215Z",
         "2025-07-20T00:23:54.171Z"
        ],
        [
         "8c021d11-d306-4b9e-ac5e-5fedb7c43ab1",
         "2025-07-20T00:21:13.493888Z",
         "2025-07-20T00:23:54.171Z"
        ],
        [
         "81745943-ec55-4106-9332-fe9531a77c98",
         "2025-07-20T00:21:24.809956Z",
         "2025-07-20T00:23:54.171Z"
        ],
        [
         "e8aab998-3837-4694-9ec3-b126e79cadc0",
         "2025-07-20T00:21:34.865267Z",
         "2025-07-20T00:23:54.171Z"
        ],
        [
         "9968897d-c251-4e3b-ac1f-97a7b0e42f66",
         "2025-07-20T00:21:44.920049Z",
         "2025-07-20T00:23:54.171Z"
        ],
        [
         "185bc6e9-5215-4771-9abf-a5f79448ff27",
         "2025-07-20T00:21:54.975715Z",
         "2025-07-20T00:23:54.171Z"
        ],
        [
         "768c29cd-18c5-4ec1-83f1-038dc3f8c762",
         "2025-07-20T00:22:05.030822Z",
         "2025-07-20T00:23:54.171Z"
        ],
        [
         "38e3a51b-2603-4845-be89-35b60e1734ea",
         "2025-07-20T00:22:15.085588Z",
         "2025-07-20T00:23:54.171Z"
        ],
        [
         "6994d8bb-293c-469a-a52e-5a5de824a4d7",
         "2025-07-20T00:22:25.141556Z",
         "2025-07-20T00:23:54.171Z"
        ],
        [
         "af111371-7b46-472f-b2e9-d287ad26372c",
         "2025-07-20T00:22:35.197652Z",
         "2025-07-20T00:23:54.171Z"
        ],
        [
         "482ab69d-b361-4c2d-a608-c089027772df",
         "2025-07-20T00:22:45.252745Z",
         "2025-07-20T00:23:54.171Z"
        ],
        [
         "c7b5ac5f-ac05-4459-8475-43f9a4e2f067",
         "2025-07-20T00:22:55.312161Z",
         "2025-07-20T00:23:54.171Z"
        ],
        [
         "b0fc1e2b-c7e5-4b93-9ef0-aee1aa9dff5d",
         "2025-07-18T18:55:53.063842Z",
         "2025-07-18T19:06:25.395Z"
        ],
        [
         "4fe89fe0-2d39-4a00-bffc-cdb815b5fd80",
         "2025-07-18T18:56:04.58108Z",
         "2025-07-18T19:06:25.395Z"
        ],
        [
         "e0f6733c-e6da-4231-b3f0-810755d394ce",
         "2025-07-18T18:56:14.635382Z",
         "2025-07-18T19:06:25.395Z"
        ],
        [
         "2dc2bd83-aa4d-4033-a548-241f3341842c",
         "2025-07-18T18:57:09.999913Z",
         "2025-07-18T19:06:25.395Z"
        ],
        [
         "e981e376-556a-4117-9c6b-664e8aff5f16",
         "2025-07-18T18:57:21.298159Z",
         "2025-07-18T19:06:25.395Z"
        ],
        [
         "ed249bbb-9c90-4e5e-8e2e-b1fe9bce6473",
         "2025-07-18T18:57:31.352309Z",
         "2025-07-18T19:06:25.395Z"
        ],
        [
         "19942808-9ffc-4257-af16-fd8ed3e85405",
         "2025-07-17T21:27:01.291226Z",
         "2025-07-17T21:27:02.131Z"
        ],
        [
         "91effd9d-ff52-429f-b859-62441f6e8fbb",
         "2025-07-17T21:26:49.958352Z",
         "2025-07-17T21:26:51.724Z"
        ],
        [
         "8a1d9209-a7f6-44ff-a188-5e3bb38348ab",
         "2025-07-17T21:24:21.218635Z",
         "2025-07-17T21:24:21.794Z"
        ],
        [
         "2da7cc0a-93db-4f47-bc75-b7c9b10036b7",
         "2025-07-17T21:24:11.163527Z",
         "2025-07-17T21:24:12.038Z"
        ],
        [
         "16e34cae-73a9-4df2-90fb-116cce1707d6",
         "2025-07-17T21:23:59.841121Z",
         "2025-07-17T21:24:01.953Z"
        ],
        [
         "05e958aa-5135-4206-98fd-918f825a3ccd",
         "2025-07-17T19:42:50.45375Z",
         "2025-07-17T19:43:31.639Z"
        ],
        [
         "f593a4ba-68f6-46d1-a6fb-67246a66a405",
         "2025-07-17T19:43:01.786681Z",
         "2025-07-17T19:43:31.639Z"
        ],
        [
         "d6f8ffb3-f135-4bdd-b363-3c4d7f8fc1c1",
         "2025-07-17T19:43:11.843892Z",
         "2025-07-17T19:43:31.639Z"
        ],
        [
         "c45e95a0-325e-48b7-af58-ff736033cd37",
         "2025-07-17T19:11:14.513465Z",
         "2025-07-17T19:11:15.122Z"
        ],
        [
         "b25d5620-434f-457b-ab18-c7561a7cb628",
         "2025-07-17T19:11:04.453782Z",
         "2025-07-17T19:11:04.904Z"
        ],
        [
         "6bd7de6f-5867-431c-a989-e29a69f01917",
         "2025-07-17T19:10:52.916958Z",
         "2025-07-17T19:10:54.951Z"
        ],
        [
         "c901a8ad-d33c-48c8-8c76-3b69e2985385",
         "2025-07-17T05:54:59.565797Z",
         "2025-07-17T05:55:01.776Z"
        ],
        [
         "f7b57846-573e-4d84-8b2c-598e8cb3cd9c",
         "2025-07-16T22:18:14.794109Z",
         "2025-07-16T22:18:17.747Z"
        ],
        [
         "3b5f540c-6ef1-4b17-94b0-d54bf7f29a22",
         "2025-07-16T22:18:03.472817Z",
         "2025-07-16T22:18:04.927Z"
        ],
        [
         "da56155c-9810-4bc6-a1eb-4a3d336d777c",
         "2025-07-16T22:17:12.607494Z",
         "2025-07-16T22:17:13.262Z"
        ],
        [
         "466d9ef7-7d8e-4a00-adc2-0388ab907e73",
         "2025-07-16T22:17:02.549081Z",
         "2025-07-16T22:17:03.102Z"
        ],
        [
         "2df4c0c2-6b15-4b05-97f4-6f9a30ddbefb",
         "2025-07-16T22:16:51.228915Z",
         "2025-07-16T22:16:53.112Z"
        ],
        [
         "718e1abe-73d3-4300-a08a-965aa507ee06",
         "2025-07-16T21:49:28.547526Z",
         "2025-07-16T21:50:55.134Z"
        ],
        [
         "5857e91a-93e2-4dd0-8d01-37e161fd5aa2",
         "2025-07-16T21:49:39.871721Z",
         "2025-07-16T21:50:55.134Z"
        ],
        [
         "e249f798-8cc7-42c7-b701-e4b6d2d7414a",
         "2025-07-16T21:24:37.848543Z",
         "2025-07-16T21:24:38.221Z"
        ],
        [
         "c68a0670-fac9-4593-97fe-3596db571b3b",
         "2025-07-16T21:24:27.790562Z",
         "2025-07-16T21:24:27.987Z"
        ],
        [
         "02790182-9616-4ceb-a68e-58b1c4133af7",
         "2025-07-16T21:24:16.453092Z",
         "2025-07-16T21:24:18.17Z"
        ],
        [
         "362dd4ab-9f19-4fa7-8e4a-dadcf2f64357",
         "2025-07-16T21:16:58.578297Z",
         "2025-07-16T21:17:00.41Z"
        ],
        [
         "60fb742c-121f-44f4-b067-5dd853c57e37",
         "2025-07-16T21:10:10.579257Z",
         "2025-07-16T21:10:12.401Z"
        ],
        [
         "1d463ec1-db28-4700-876c-adca04637e7b",
         "2025-07-16T21:02:25.634388Z",
         "2025-07-16T21:04:21.602Z"
        ],
        [
         "bac03b2a-77a3-4a1a-a1d8-caa2fd105846",
         "2025-07-16T20:44:33.280026Z",
         "2025-07-16T20:44:33.725Z"
        ],
        [
         "9deb40fd-161b-4765-a228-e3f4046f6a48",
         "2025-07-16T20:44:11.643866Z",
         "2025-07-16T20:44:13.771Z"
        ],
        [
         "e89a5eaf-aab9-46b2-83fc-f60a3ccd176c",
         "2025-07-15T19:20:11.509812Z",
         "2025-07-15T19:28:27.966Z"
        ],
        [
         "76b19a2e-9d7b-487b-b186-f2e7de83d5e6",
         "2025-07-15T19:20:32.838269Z",
         "2025-07-15T19:28:27.966Z"
        ],
        [
         "6d3ed297-aa58-46d9-bd48-caf2cff01016",
         "2025-07-15T19:00:21.21617Z",
         "2025-07-15T19:00:21.773Z"
        ],
        [
         "4882db31-9ad5-4c44-ad68-14eac3024483",
         "2025-07-15T19:00:01.158656Z",
         "2025-07-15T19:00:01.379Z"
        ],
        [
         "27f4a5d5-dc3c-4128-b86e-315aa68ad05e",
         "2025-07-15T18:59:41.100841Z",
         "2025-07-15T18:59:41.726Z"
        ],
        [
         "f077c603-9515-44ec-841d-9c97d2216a3e",
         "2025-07-15T18:59:21.041636Z",
         "2025-07-15T18:59:21.546Z"
        ],
        [
         "153d6c23-b167-4ecb-bce4-235cc85ca764",
         "2025-07-15T18:58:59.546694Z",
         "2025-07-15T18:59:01.486Z"
        ]
       ],
       "datasetInfos": [],
       "dbfsResultPath": null,
       "isJsonSchema": true,
       "metadata": {},
       "overflow": false,
       "plotOptions": {
        "customPlotOptions": {},
        "displayType": "table",
        "pivotAggregation": null,
        "pivotColumns": null,
        "xColumns": null,
        "yColumns": null
       },
       "removedWidgets": [],
       "schema": [
        {
         "metadata": "{}",
         "name": "transaction_id",
         "type": "\"string\""
        },
        {
         "metadata": "{}",
         "name": "event_timestamp",
         "type": "\"timestamp\""
        },
        {
         "metadata": "{}",
         "name": "ingestion_time",
         "type": "\"timestamp\""
        }
       ],
       "type": "table"
      }
     },
     "output_type": "display_data"
    }
   ],
   "source": [
    "spark.sql(f\"\"\"SELECT transaction_id,event_timestamp, ingestion_time\n",
    "FROM delta.`{bronze_mount_path}` ORDER BY ingestion_time DESC\"\"\").display()"
   ]
  },
  {
   "cell_type": "code",
   "execution_count": 0,
   "metadata": {
    "application/vnd.databricks.v1+cell": {
     "cellMetadata": {
      "byteLimit": 2048000,
      "rowLimit": 10000
     },
     "inputWidgets": {},
     "nuid": "0c0c4b30-8d2c-4266-a681-c7055472e26a",
     "showTitle": true,
     "tableResultSettingsMap": {},
     "title": "Load Delta Table from Bronze Mount Path"
    }
   },
   "outputs": [],
   "source": [
    "# catalog_table = spark.read.format(\"delta\").load(bronze_mount_path)\n",
    "# display(catalog_table) "
   ]
  },
  {
   "cell_type": "markdown",
   "metadata": {
    "application/vnd.databricks.v1+cell": {
     "cellMetadata": {},
     "inputWidgets": {},
     "nuid": "1b1ed081-1b66-439d-a4f9-36f6935fb7b7",
     "showTitle": false,
     "tableResultSettingsMap": {},
     "title": ""
    }
   },
   "source": [
    "## _Fin bronce_"
   ]
  }
 ],
 "metadata": {
  "application/vnd.databricks.v1+notebook": {
   "computePreferences": null,
   "dashboards": [],
   "environmentMetadata": {
    "base_environment": "",
    "environment_version": "2"
   },
   "inputWidgetPreferences": null,
   "language": "python",
   "notebookMetadata": {
    "pythonIndentUnit": 4
   },
   "notebookName": "bronze_market",
   "widgets": {}
  },
  "language_info": {
   "name": "python"
  }
 },
 "nbformat": 4,
 "nbformat_minor": 0
}