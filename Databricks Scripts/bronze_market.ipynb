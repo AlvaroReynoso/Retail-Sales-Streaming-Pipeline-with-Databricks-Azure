{
 "cells": [
  {
   "cell_type": "markdown",
   "metadata": {
    "application/vnd.databricks.v1+cell": {
     "cellMetadata": {},
     "inputWidgets": {},
     "nuid": "2ec3214c-ce79-401e-b944-ee786f8a24ac",
     "showTitle": false,
     "tableResultSettingsMap": {},
     "title": ""
    }
   },
   "source": [
    "# _Inicio Bronce_"
   ]
  },
  {
   "cell_type": "markdown",
   "metadata": {
    "application/vnd.databricks.v1+cell": {
     "cellMetadata": {},
     "inputWidgets": {},
     "nuid": "feaef1bc-0e42-4b59-ae44-82dc31993b66",
     "showTitle": false,
     "tableResultSettingsMap": {},
     "title": ""
    }
   },
   "source": [
    "### Configuración inicial de scopes, keys, conns, paths"
   ]
  },
  {
   "cell_type": "markdown",
   "metadata": {
    "application/vnd.databricks.v1+cell": {
     "cellMetadata": {},
     "inputWidgets": {},
     "nuid": "e792f60e-7422-4e4d-b44c-3e7412a0b1a7",
     "showTitle": false,
     "tableResultSettingsMap": {},
     "title": ""
    }
   },
   "source": [
    "## IMPORTANTE: \n",
    "### Encriptar la cadena de eventhub, Spark Event Hubs no acepta directamente la cadena de conexión plana para seguridad y manejo interno.\n",
    "\n",
    "Se necesita \n",
    "- Instalar libreria com.microsoft.azure:azure-eventhubs-spark_2.12:2.3.21\n",
    "- Computo con Scala 2.12 (2.13 no soporta encrypt al dia de la fecha 7/2025)"
   ]
  },
  {
   "cell_type": "code",
   "execution_count": 0,
   "metadata": {
    "application/vnd.databricks.v1+cell": {
     "cellMetadata": {
      "byteLimit": 2048000,
      "rowLimit": 10000
     },
     "inputWidgets": {},
     "nuid": "f29df27b-248b-46ae-916f-32adfec7ef8d",
     "showTitle": true,
     "tableResultSettingsMap": {},
     "title": "Mount Azure Data Lake Storage with OAuth Configuration"
    }
   },
   "outputs": [],
   "source": [
    "from pyspark.sql.functions import *\n",
    "from pyspark.sql.types import *\n",
    "import json\n",
    "\n",
    "eventhub_secret_scope = \"eventhub_scope\"\n",
    "eventhub_secret_key = \"eventhub_conn\"\n",
    "\n",
    "storage_secret_scope = \"storage-scope\"\n",
    "storage_secret_key = \"storage-conn\"\n",
    "\n",
    "eventhub_connection_string = dbutils.secrets.get(scope=eventhub_secret_scope, key=eventhub_secret_key)\n",
    "client_secret = dbutils.secrets.get(scope=\"client-scope\", key=\"client-secret\")\n",
    "\n",
    "starting_position = {\n",
    "    \"offset\": \"0\",\n",
    "    \"seqNo\": 0,\n",
    "    \"enqueuedTime\": None,\n",
    "    \"isInclusive\": True\n",
    "}\n",
    "\n",
    "eventhub_config = {\n",
    "    \"eventhubs.connectionString\": dbutils.secrets.get(scope=eventhub_secret_scope, key=eventhub_secret_key),\n",
    "    \"eventhubs.consumerGroup\": \"market-consumer-group\",\n",
    "    \"eventhubs.startingPosition\": json.dumps(starting_position)\n",
    "}\n",
    "configs = {\n",
    "  \"fs.azure.account.auth.type\": \"OAuth\",\n",
    "  \"fs.azure.account.oauth.provider.type\": \"org.apache.hadoop.fs.azurebfs.oauth2.ClientCredsTokenProvider\",\n",
    "  \"fs.azure.account.oauth2.client.id\": \"42add4c7-97b5-46af-b412-3d22af3f601b\",\n",
    "  \"fs.azure.account.oauth2.client.secret\": client_secret,\n",
    "  \"fs.azure.account.oauth2.client.endpoint\": \"https://login.microsoftonline.com/f8665296-99ec-4c56-8ec6-6385ed1c7cc9/oauth2/token\"\n",
    "}\n",
    "\n",
    "# Una vez montado el path, comentar la linea para que no desmonte cada vez que se ejecuta el script\n",
    "# Mount rawmarket\n",
    "if any(mount.mountPoint == '/mnt/rawmarket' for mount in dbutils.fs.mounts()): dbutils.fs.unmount('/mnt/rawmarket')\n",
    "dbutils.fs.mount(\n",
    "  source = \"abfss://rawmarket@mistorageprincipal.dfs.core.windows.net/\",\n",
    "  mount_point = \"/mnt/rawmarket\",\n",
    "  extra_configs = configs\n",
    ")\n",
    "\n",
    "# Mount bronze\n",
    "if any(mount.mountPoint == '/mnt/bronze' for mount in dbutils.fs.mounts()): dbutils.fs.unmount('/mnt/bronze')\n",
    "dbutils.fs.mount(\n",
    "  source = \"abfss://bronze@mistorageprincipal.dfs.core.windows.net/\",\n",
    "  mount_point = \"/mnt/bronze\",\n",
    "  extra_configs = configs\n",
    ")\n",
    "# Mount silver\n",
    "if any(mount.mountPoint == '/mnt/silver' for mount in dbutils.fs.mounts()): dbutils.fs.unmount('/mnt/silver')\n",
    "dbutils.fs.mount(\n",
    "  source = \"abfss://silver@mistorageprincipal.dfs.core.windows.net/\",\n",
    "  mount_point = \"/mnt/silver\",\n",
    "  extra_configs = configs\n",
    ")\n",
    "\n",
    "# Mount gold\n",
    "if any(mount.mountPoint == '/mnt/gold' for mount in dbutils.fs.mounts()): dbutils.fs.unmount('/mnt/gold')\n",
    "dbutils.fs.mount(\n",
    "  source = \"abfss://gold@mistorageprincipal.dfs.core.windows.net/\",\n",
    "  mount_point = \"/mnt/gold\",\n",
    "  extra_configs = configs\n",
    ")\n",
    "\n",
    "# 🗄️ Conexión a Storage (ADLS)\n",
    "storage_account_name = \"mistorageprincipal\"\n",
    "storage_key = dbutils.secrets.get(scope=\"storage-scope\", key=\"storage-conn\")\n",
    "spark.conf.set(f\"fs.azure.account.key.{storage_account_name}.dfs.core.windows.net\", storage_key)\n",
    "\n",
    "bronze_mount_path = f\"/mnt/bronze/sales\"\n",
    "bronze_checkpoint_path = f\"abfss://bronze@mistorageprincipal.dfs.core.windows.net/checkpoints\""
   ]
  },
  {
   "cell_type": "code",
   "execution_count": 0,
   "metadata": {
    "application/vnd.databricks.v1+cell": {
     "cellMetadata": {
      "byteLimit": 2048000,
      "rowLimit": 10000
     },
     "inputWidgets": {},
     "nuid": "7a9f4027-f0aa-437b-998d-c7c75afd5b95",
     "showTitle": true,
     "tableResultSettingsMap": {},
     "title": "List Files in Bronze Mount Path"
    }
   },
   "outputs": [],
   "source": [
    "dbutils.fs.ls(bronze_mount_path)"
   ]
  },
  {
   "cell_type": "markdown",
   "metadata": {
    "application/vnd.databricks.v1+cell": {
     "cellMetadata": {},
     "inputWidgets": {},
     "nuid": "181cd12c-f2a4-462a-a7ed-e2f7a7609ab7",
     "showTitle": false,
     "tableResultSettingsMap": {},
     "title": ""
    }
   },
   "source": [
    "### Definicion de esquema"
   ]
  },
  {
   "cell_type": "code",
   "execution_count": 0,
   "metadata": {
    "application/vnd.databricks.v1+cell": {
     "cellMetadata": {
      "byteLimit": 2048000,
      "rowLimit": 10000
     },
     "inputWidgets": {},
     "nuid": "19abbbb4-ffe9-478b-8cae-9dcec8cb91c9",
     "showTitle": true,
     "tableResultSettingsMap": {},
     "title": "Define Schema for Transaction Events Data"
    }
   },
   "outputs": [],
   "source": [
    "event_schema = StructType([\n",
    "    StructField(\"transaction_id\", StringType(), True),\n",
    "    StructField(\"timestamp\", StringType(), True),\n",
    "    StructField(\"product_id\", StringType(), True),\n",
    "    StructField(\"store\", StringType(), True),\n",
    "    StructField(\"customer_id\", StringType(), True),\n",
    "    StructField(\"amount\", DoubleType(), True),\n",
    "    StructField(\"channel\", StringType(), True)\n",
    "])\n"
   ]
  },
  {
   "cell_type": "markdown",
   "metadata": {
    "application/vnd.databricks.v1+cell": {
     "cellMetadata": {},
     "inputWidgets": {},
     "nuid": "72fe2486-1bb9-4946-8fef-a285dd34ae88",
     "showTitle": false,
     "tableResultSettingsMap": {},
     "title": ""
    }
   },
   "source": [
    "Prueba para ver si el stream esta activo"
   ]
  },
  {
   "cell_type": "code",
   "execution_count": 0,
   "metadata": {
    "application/vnd.databricks.v1+cell": {
     "cellMetadata": {
      "byteLimit": 2048000,
      "rowLimit": 10000
     },
     "inputWidgets": {},
     "nuid": "2a79701f-d412-4dd2-bb10-56c9a9ca8ec0",
     "showTitle": true,
     "tableResultSettingsMap": {},
     "title": "Encrypt EventHub Connection String and Define Config"
    }
   },
   "outputs": [],
   "source": [
    "# Obtener connection string desde el secret\n",
    "eventhub_connection_string = dbutils.secrets.get(scope=eventhub_secret_scope, key=eventhub_secret_key)\n",
    "\n",
    "# Encriptar correctamente desde JVM sin class\n",
    "encrypted_conn_str = sc._jvm.org.apache.spark.eventhubs.EventHubsUtils.encrypt(eventhub_connection_string)\n",
    "\n",
    "# Definir configuración con connection string encriptado\n",
    "eventhub_config = {\n",
    "    \"eventhubs.connectionString\": encrypted_conn_str,\n",
    "    \"eventhubs.consumerGroup\": \"market-consumer-group\",\n",
    "    \"eventhubs.startingPosition\": json.dumps(starting_position)\n",
    "}"
   ]
  },
  {
   "cell_type": "code",
   "execution_count": 0,
   "metadata": {
    "application/vnd.databricks.v1+cell": {
     "cellMetadata": {
      "byteLimit": 2048000,
      "rowLimit": 10000
     },
     "inputWidgets": {},
     "nuid": "3781abe6-e1e0-40be-b461-a687e8e4e801",
     "showTitle": true,
     "tableResultSettingsMap": {
      "0": {
       "dataGridStateBlob": "{\"version\":1,\"tableState\":{\"columnPinning\":{\"left\":[\"#row_number#\"],\"right\":[]},\"columnSizing\":{\"timestamp\":268,\"event_timestamp\":193},\"columnVisibility\":{}},\"settings\":{\"columns\":{}},\"syncTimestamp\":1753043218854}",
       "filterBlob": null,
       "queryPlanFiltersBlob": null,
       "tableResultIndex": 0
      }
     },
     "title": "Stream EventHub Data to Delta Lake with Timestamps"
    }
   },
   "outputs": [],
   "source": [
    "spark.conf.set(\n",
    "    \"fs.azure.account.key.mistorageprincipal.dfs.core.windows.net\",\n",
    "    dbutils.secrets.get(scope=\"storage-scope\", key=\"storage-conn\")\n",
    ")\n",
    "\n",
    "raw_stream_df = (\n",
    "        spark.readStream\n",
    "        .format(\"eventhubs\")\n",
    "        .options(**eventhub_config)\n",
    "        .load()\n",
    "    )\n",
    "\n",
    "parsed_df = (\n",
    "        raw_stream_df\n",
    "        .selectExpr(\"cast(body as string) as json_data\")\n",
    "        .select(from_json(col(\"json_data\"), event_schema).alias(\"data\"))\n",
    "        .select(\"data.*\")\n",
    "        .withColumn(\"event_timestamp\", to_timestamp(\"timestamp\"))\n",
    "        .withColumn(\"ingestion_time\", current_timestamp())\n",
    "    )\n",
    "\n",
    "(\n",
    "    parsed_df.writeStream\n",
    "    .format(\"delta\")\n",
    "    .option(\"checkpointLocation\", bronze_mount_path + \"/_checkpoint\")\n",
    "    .option(\"path\", bronze_mount_path)\n",
    "    .outputMode(\"append\")\n",
    "    .start()\n",
    ")\n",
    "display(parsed_df)\n"
   ]
  },
  {
   "cell_type": "code",
   "execution_count": 0,
   "metadata": {
    "application/vnd.databricks.v1+cell": {
     "cellMetadata": {
      "byteLimit": 2048000,
      "rowLimit": 10000
     },
     "inputWidgets": {},
     "nuid": "d2552e0e-4794-4f0b-b363-1bb14d02491c",
     "showTitle": false,
     "tableResultSettingsMap": {
      "0": {
       "dataGridStateBlob": "{\"version\":1,\"tableState\":{\"columnPinning\":{\"left\":[\"#row_number#\"],\"right\":[]},\"columnSizing\":{\"ingestion_time\":220,\"event_timestamp\":208},\"columnVisibility\":{}},\"settings\":{\"columns\":{}},\"syncTimestamp\":1752865786178}",
       "filterBlob": null,
       "queryPlanFiltersBlob": null,
       "tableResultIndex": 0
      }
     },
     "title": ""
    }
   },
   "outputs": [],
   "source": [
    "spark.sql(f\"\"\"SELECT transaction_id,event_timestamp, ingestion_time\n",
    "FROM delta.`{bronze_mount_path}` ORDER BY ingestion_time DESC\"\"\").display()"
   ]
  },
  {
   "cell_type": "code",
   "execution_count": 0,
   "metadata": {
    "application/vnd.databricks.v1+cell": {
     "cellMetadata": {
      "byteLimit": 2048000,
      "rowLimit": 10000
     },
     "inputWidgets": {},
     "nuid": "0c0c4b30-8d2c-4266-a681-c7055472e26a",
     "showTitle": true,
     "tableResultSettingsMap": {},
     "title": "Load Delta Table from Bronze Mount Path"
    }
   },
   "outputs": [],
   "source": [
    "# catalog_table = spark.read.format(\"delta\").load(bronze_mount_path)\n",
    "# display(catalog_table) "
   ]
  },
  {
   "cell_type": "markdown",
   "metadata": {
    "application/vnd.databricks.v1+cell": {
     "cellMetadata": {},
     "inputWidgets": {},
     "nuid": "1b1ed081-1b66-439d-a4f9-36f6935fb7b7",
     "showTitle": false,
     "tableResultSettingsMap": {},
     "title": ""
    }
   },
   "source": [
    "## _Fin bronce_"
   ]
  }
 ],
 "metadata": {
  "application/vnd.databricks.v1+notebook": {
   "computePreferences": null,
   "dashboards": [],
   "environmentMetadata": {
    "base_environment": "",
    "environment_version": "2"
   },
   "inputWidgetPreferences": null,
   "language": "python",
   "notebookMetadata": {
    "pythonIndentUnit": 4
   },
   "notebookName": "bronze_market",
   "widgets": {}
  },
  "language_info": {
   "name": "python"
  }
 },
 "nbformat": 4,
 "nbformat_minor": 0
}
