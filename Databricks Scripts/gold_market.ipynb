{
 "cells": [
  {
   "cell_type": "markdown",
   "metadata": {
    "application/vnd.databricks.v1+cell": {
     "cellMetadata": {},
     "inputWidgets": {},
     "nuid": "d4b68b4c-1b4e-4476-8184-2937911ff81e",
     "showTitle": false,
     "tableResultSettingsMap": {},
     "title": ""
    }
   },
   "source": [
    "\n",
    "Las tablas son generadas en **Modo Batch**, y se almacenan como tablas Delta en el Data Lake, siguiendo el modelo Medallón.\n",
    "\n",
    "## Ejecución\n",
    "\n",
    "- Todas las tablas se generan de forma **Batch**, utilizando los datos enriquecidos de la capa Silver.\n",
    "- Los resultados se almacenan como **Tablas Delta** listas para ser consultadas o visualizadas.\n",
    "- Pueden ser ejecutadas manualmente desde notebooks o programadas, en data factory se opto por la utilizacion de **Schedule Trigger**\n",
    "\n",
    "---"
   ]
  },
  {
   "cell_type": "markdown",
   "metadata": {
    "application/vnd.databricks.v1+cell": {
     "cellMetadata": {},
     "inputWidgets": {},
     "nuid": "5464a334-eb91-4654-bb87-174480821be6",
     "showTitle": false,
     "tableResultSettingsMap": {},
     "title": ""
    }
   },
   "source": [
    "\n",
    "### 1. Ventas por Día, Canal y Región\n",
    "- 📌 **Descripción**: Agrega la información de ventas diarias segmentadas por canal y región.\n",
    "- 📈 **Aplicación**: Monitoreo de rendimiento por zonas y análisis temporal de ventas.\n"
   ]
  },
  {
   "cell_type": "code",
   "execution_count": 0,
   "metadata": {
    "application/vnd.databricks.v1+cell": {
     "cellMetadata": {
      "byteLimit": 2048000,
      "rowLimit": 10000
     },
     "inputWidgets": {},
     "nuid": "429d4e3f-af6c-4680-b9c9-4ab97f78a660",
     "showTitle": false,
     "tableResultSettingsMap": {
      "0": {
       "dataGridStateBlob": "{\"version\":1,\"tableState\":{\"columnPinning\":{\"left\":[\"#row_number#\"],\"right\":[]},\"columnSizing\":{},\"columnVisibility\":{}},\"settings\":{\"columns\":{}},\"syncTimestamp\":1752780666392}",
       "filterBlob": null,
       "queryPlanFiltersBlob": null,
       "tableResultIndex": 0
      }
     },
     "title": ""
    }
   },
   "outputs": [],
   "source": [
    "from pyspark.sql.functions import *\n",
    "df_gold = spark.read.format(\"delta\").load(\"/mnt/silver/sales/enriched\")\n",
    "\n",
    "\n",
    "sales_by_day = (\n",
    "    df_gold\n",
    "    .groupBy(\"event_date\", \"channel_name\", \"store_region\")\n",
    "    .agg(\n",
    "        count(\"*\").alias(\"total_transactions\"),\n",
    "        sum(\"amount\").alias(\"total_sales\"),\n",
    "        avg(\"amount\").alias(\"avg_ticket\")\n",
    "    )\n",
    ")\n",
    "\n",
    "sales_by_day.write.mode(\"overwrite\").format(\"delta\").save(\"/mnt/gold/sales/sales_by_day\")\n",
    "display(sales_by_day)\n"
   ]
  },
  {
   "cell_type": "markdown",
   "metadata": {
    "application/vnd.databricks.v1+cell": {
     "cellMetadata": {},
     "inputWidgets": {},
     "nuid": "e2eb7a91-b343-402f-a90c-88727edee3e3",
     "showTitle": false,
     "tableResultSettingsMap": {},
     "title": ""
    }
   },
   "source": [
    "### 2. Top Clientes\n",
    "- 📌 **Descripción**: Identifica los clientes con mayor nivel de gasto total.\n",
    "- 👥 **Aplicación**: Segmentación de clientes, programas de fidelidad, y campañas de marketing."
   ]
  },
  {
   "cell_type": "code",
   "execution_count": 0,
   "metadata": {
    "application/vnd.databricks.v1+cell": {
     "cellMetadata": {
      "byteLimit": 2048000,
      "rowLimit": 10000
     },
     "inputWidgets": {},
     "nuid": "e5620139-30b2-467b-a298-23d41089eb43",
     "showTitle": false,
     "tableResultSettingsMap": {},
     "title": ""
    }
   },
   "outputs": [],
   "source": [
    "\n",
    "df_gold = spark.read.format(\"delta\").load(\"/mnt/silver/sales/enriched\")\n",
    "\n",
    "top_customers = (\n",
    "    df_gold\n",
    "    .groupBy(\"customer_id\", \"customer_name\", \"customer_loyalty_tier\")\n",
    "    .agg(\n",
    "        sum(\"amount\").alias(\"total_spent\"),\n",
    "        count(\"*\").alias(\"transactions\"),\n",
    "        avg(\"amount\").alias(\"avg_ticket\"),\n",
    "        max(\"event_date\").alias(\"last_purchase_date\")\n",
    "    )\n",
    "    .orderBy(desc(\"total_spent\"))\n",
    ")\n",
    "\n",
    "display(top_customers)\n",
    "top_customers.write.mode(\"overwrite\").format(\"delta\").save(\"/mnt/gold/sales/top_customers\")\n"
   ]
  },
  {
   "cell_type": "markdown",
   "metadata": {
    "application/vnd.databricks.v1+cell": {
     "cellMetadata": {},
     "inputWidgets": {},
     "nuid": "c82a0edf-7ad2-4c05-990b-2ec1ef65c69c",
     "showTitle": false,
     "tableResultSettingsMap": {},
     "title": ""
    }
   },
   "source": [
    "### 3. Rendimiento de Productos\n",
    "- 📌 **Descripción**: Evalúa el desempeño de los productos en términos de ventas e ingresos.\n",
    "- 📦 **Aplicación**: Gestión de inventario, decisiones de pricing y desarrollo de productos.\n"
   ]
  },
  {
   "cell_type": "code",
   "execution_count": 0,
   "metadata": {
    "application/vnd.databricks.v1+cell": {
     "cellMetadata": {
      "byteLimit": 2048000,
      "rowLimit": 10000
     },
     "inputWidgets": {},
     "nuid": "2fb2c106-36db-46aa-9316-c477459628ee",
     "showTitle": false,
     "tableResultSettingsMap": {},
     "title": ""
    }
   },
   "outputs": [],
   "source": [
    "df_gold = spark.read.format(\"delta\").load(\"/mnt/silver/sales/enriched\")\n",
    "\n",
    "product_performance = (\n",
    "    df_gold\n",
    "    .groupBy(\"product_id\", \"product_name\")\n",
    "    .agg(\n",
    "        count(\"*\").alias(\"units_sold\"),\n",
    "        sum(\"amount\").alias(\"total_revenue\"),\n",
    "        avg(\"amount\").alias(\"avg_ticket\")\n",
    "    )\n",
    "    .orderBy(desc(\"total_revenue\"))\n",
    ")\n",
    "\n",
    "display(product_performance)\n",
    "product_performance.write.mode(\"overwrite\").format(\"delta\").save(\"/mnt/gold/sales/product_performance\")\n"
   ]
  },
  {
   "cell_type": "markdown",
   "metadata": {
    "application/vnd.databricks.v1+cell": {
     "cellMetadata": {},
     "inputWidgets": {},
     "nuid": "d22c57f6-3cf4-43da-8b40-5123bc4c2d6e",
     "showTitle": false,
     "tableResultSettingsMap": {},
     "title": ""
    }
   },
   "source": [
    "\n",
    "### 4. Ventas por Región y Canal\n",
    "- 📌 **Descripción**: Muestra un cruce entre regiones de venta y canales utilizados.\n",
    "- 🗺️ **Aplicación**: Análisis geográfico y por tipo de canal, útil para visualizaciones tipo mapa de calor o matrices comparativas."
   ]
  },
  {
   "cell_type": "code",
   "execution_count": 0,
   "metadata": {
    "application/vnd.databricks.v1+cell": {
     "cellMetadata": {
      "byteLimit": 2048000,
      "rowLimit": 10000
     },
     "inputWidgets": {},
     "nuid": "fadf8872-cc25-4084-b41a-09cb6f9cf9df",
     "showTitle": false,
     "tableResultSettingsMap": {},
     "title": ""
    }
   },
   "outputs": [],
   "source": [
    "df_gold = spark.read.format(\"delta\").load(\"/mnt/silver/sales/enriched\")\n",
    "\n",
    "sales_by_region_channel = (\n",
    "    df_gold\n",
    "    .groupBy(\"store_region\", \"channel_name\")\n",
    "    .agg(\n",
    "        sum(\"amount\").alias(\"total_sales\"),\n",
    "        count(\"*\").alias(\"transactions\")\n",
    "    )\n",
    ")\n",
    "\n",
    "display(sales_by_region_channel)\n",
    "sales_by_region_channel.write.mode(\"overwrite\").format(\"delta\").save(\"/mnt/gold/sales/sales_by_region_channel\")\n"
   ]
  },
  {
   "cell_type": "markdown",
   "metadata": {
    "application/vnd.databricks.v1+cell": {
     "cellMetadata": {},
     "inputWidgets": {},
     "nuid": "4097d4c3-9873-4287-bf71-4205eef52755",
     "showTitle": false,
     "tableResultSettingsMap": {},
     "title": ""
    }
   },
   "source": [
    "### 5. Distribución Diaria por Categoría de Ticket\n",
    "- 📌 **Descripción**: Clasifica las ventas diarias según el rango de importe del ticket.\n",
    "- 🎯 **Aplicación**: Evaluación de hábitos de consumo y detección de tendencias de compra.\n"
   ]
  },
  {
   "cell_type": "code",
   "execution_count": 0,
   "metadata": {
    "application/vnd.databricks.v1+cell": {
     "cellMetadata": {
      "byteLimit": 2048000,
      "rowLimit": 10000
     },
     "inputWidgets": {},
     "nuid": "63117c3c-392a-4265-9c25-d17efba98aa0",
     "showTitle": false,
     "tableResultSettingsMap": {},
     "title": ""
    }
   },
   "outputs": [],
   "source": [
    "df_gold = spark.read.format(\"delta\").load(\"/mnt/silver/sales/enriched\")\n",
    "\n",
    "daily_ticket_distribution = (\n",
    "    df_gold\n",
    "    .groupBy(\"event_date\", \"ticket_category\")\n",
    "    .agg(\n",
    "        count(\"*\").alias(\"transaction_count\"),\n",
    "        sum(\"amount\").alias(\"total_amount\")\n",
    "    )\n",
    "    .orderBy(\"event_date\", \"ticket_category\")\n",
    ")\n",
    "\n",
    "display(daily_ticket_distribution)\n",
    "daily_ticket_distribution.write.mode(\"overwrite\").format(\"delta\").save(\"/mnt/gold/sales/daily_ticket_distribution\")\n"
   ]
  },
  {
   "cell_type": "markdown",
   "metadata": {
    "application/vnd.databricks.v1+cell": {
     "cellMetadata": {},
     "inputWidgets": {},
     "nuid": "0b08a02d-a458-47d6-b966-64bb6467f193",
     "showTitle": false,
     "tableResultSettingsMap": {},
     "title": ""
    }
   },
   "source": [
    "### 6. Rendimiento por Sucursal (Extra)\n",
    "- 📌 **Descripción**: Mide el desempeño de cada sucursal en base a sus ventas y frecuencia de transacciones.\n",
    "- 🏬 **Aplicación**: Comparativa entre locales, decisiones de expansión, análisis por región.\n"
   ]
  },
  {
   "cell_type": "code",
   "execution_count": 0,
   "metadata": {
    "application/vnd.databricks.v1+cell": {
     "cellMetadata": {
      "byteLimit": 2048000,
      "rowLimit": 10000
     },
     "inputWidgets": {},
     "nuid": "a535dcbe-87c6-4ba1-929a-6f2f9ce85f68",
     "showTitle": false,
     "tableResultSettingsMap": {},
     "title": ""
    }
   },
   "outputs": [],
   "source": [
    "df_gold = spark.read.format(\"delta\").load(\"/mnt/silver/sales/enriched\")\n",
    "\n",
    "store_performance = (\n",
    "    df_gold\n",
    "    .groupBy(\"store\", \"store_name\", \"store_region\")\n",
    "    .agg(\n",
    "        count(\"*\").alias(\"transactions\"),\n",
    "        sum(\"amount\").alias(\"total_sales\"),\n",
    "        avg(\"amount\").alias(\"avg_ticket\")\n",
    "    )\n",
    "    .orderBy(desc(\"total_sales\"))\n",
    ")\n",
    "\n",
    "display(store_performance)\n",
    "store_performance.write.mode(\"overwrite\").format(\"delta\").save(\"/mnt/gold/sales/store_performance\")\n"
   ]
  },
  {
   "cell_type": "markdown",
   "metadata": {
    "application/vnd.databricks.v1+cell": {
     "cellMetadata": {},
     "inputWidgets": {},
     "nuid": "e4339e2d-0403-4af3-aff0-e96ffb67a62d",
     "showTitle": false,
     "tableResultSettingsMap": {},
     "title": ""
    }
   },
   "source": [
    "## Creación de tablas en hive metastore"
   ]
  },
  {
   "cell_type": "code",
   "execution_count": 0,
   "metadata": {
    "application/vnd.databricks.v1+cell": {
     "cellMetadata": {
      "byteLimit": 2048000,
      "rowLimit": 10000
     },
     "inputWidgets": {},
     "nuid": "697ae085-1c50-44e7-b82d-7277af4001a4",
     "showTitle": false,
     "tableResultSettingsMap": {},
     "title": ""
    }
   },
   "outputs": [],
   "source": [
    "spark.sql(\n",
    "    \"\"\"\n",
    "        CREATE SCHEMA IF NOT EXISTS capa_gold;\n",
    "    \"\"\"\n",
    ")\n",
    "spark.sql(\n",
    "    \"\"\"\n",
    "        CREATE TABLE IF NOT EXISTS hive_metastore.capa_gold.sales_by_day\n",
    "     USING DELTA\n",
    "    LOCATION '/mnt/gold/sales/sales_by_day';\n",
    "    \"\"\"\n",
    ")"
   ]
  },
  {
   "cell_type": "code",
   "execution_count": 0,
   "metadata": {
    "application/vnd.databricks.v1+cell": {
     "cellMetadata": {
      "byteLimit": 2048000,
      "rowLimit": 10000
     },
     "inputWidgets": {},
     "nuid": "e827bc79-607f-4394-876d-2714d9b7ade3",
     "showTitle": false,
     "tableResultSettingsMap": {},
     "title": ""
    }
   },
   "outputs": [],
   "source": [
    "spark.sql(\n",
    "    \"\"\"\n",
    "        CREATE TABLE IF NOT EXISTS hive_metastore.capa_gold.top_customers\n",
    "USING DELTA\n",
    "LOCATION '/mnt/gold/sales/top_customers';\n",
    "    \"\"\"\n",
    ")\n"
   ]
  },
  {
   "cell_type": "code",
   "execution_count": 0,
   "metadata": {
    "application/vnd.databricks.v1+cell": {
     "cellMetadata": {
      "byteLimit": 2048000,
      "rowLimit": 10000
     },
     "inputWidgets": {},
     "nuid": "c0657c2c-1864-42dc-abca-26d8154bb142",
     "showTitle": false,
     "tableResultSettingsMap": {},
     "title": ""
    }
   },
   "outputs": [],
   "source": [
    "spark.sql(\n",
    "    \"\"\"\n",
    "    CREATE TABLE IF NOT EXISTS hive_metastore.capa_gold.product_performance\n",
    "USING DELTA\n",
    "LOCATION '/mnt/gold/sales/product_performance';\n",
    "    \"\"\"\n",
    ")"
   ]
  },
  {
   "cell_type": "code",
   "execution_count": 0,
   "metadata": {
    "application/vnd.databricks.v1+cell": {
     "cellMetadata": {
      "byteLimit": 2048000,
      "rowLimit": 10000
     },
     "inputWidgets": {},
     "nuid": "72fc452a-bedb-4ae1-a773-9d6b5daf3fa3",
     "showTitle": false,
     "tableResultSettingsMap": {},
     "title": ""
    }
   },
   "outputs": [],
   "source": [
    "spark.sql(\n",
    "    \"\"\"\n",
    "        CREATE TABLE IF NOT EXISTS hive_metastore.capa_gold.sales_by_region_channel\n",
    "USING DELTA\n",
    "LOCATION '/mnt/gold/sales/sales_by_region_channel';\n",
    "    \"\"\"\n",
    ")"
   ]
  },
  {
   "cell_type": "code",
   "execution_count": 0,
   "metadata": {
    "application/vnd.databricks.v1+cell": {
     "cellMetadata": {
      "byteLimit": 2048000,
      "rowLimit": 10000
     },
     "inputWidgets": {},
     "nuid": "975f60d6-1102-48fd-95ba-baa0553cc9f2",
     "showTitle": false,
     "tableResultSettingsMap": {},
     "title": ""
    }
   },
   "outputs": [],
   "source": [
    "spark.sql(\n",
    "    \"\"\"\n",
    "        CREATE TABLE IF NOT EXISTS hive_metastore.capa_gold.daily_ticket_distribution\n",
    "USING DELTA\n",
    "LOCATION '/mnt/gold/sales/daily_ticket_distribution';\n",
    "    \"\"\"\n",
    ")"
   ]
  },
  {
   "cell_type": "code",
   "execution_count": 0,
   "metadata": {
    "application/vnd.databricks.v1+cell": {
     "cellMetadata": {
      "byteLimit": 2048000,
      "rowLimit": 10000
     },
     "inputWidgets": {},
     "nuid": "641d4ea0-8238-437a-8996-3a9931604b57",
     "showTitle": false,
     "tableResultSettingsMap": {},
     "title": ""
    }
   },
   "outputs": [],
   "source": [
    "spark.sql(\n",
    "    \"\"\"\n",
    "        CREATE TABLE IF NOT EXISTS hive_metastore.capa_gold.store_performance\n",
    "USING DELTA\n",
    "LOCATION '/mnt/gold/sales/store_performance';\n",
    "    \"\"\"\n",
    ")"
   ]
  }
 ],
 "metadata": {
  "application/vnd.databricks.v1+notebook": {
   "computePreferences": null,
   "dashboards": [],
   "environmentMetadata": {
    "base_environment": "",
    "environment_version": "2"
   },
   "inputWidgetPreferences": null,
   "language": "python",
   "notebookMetadata": {
    "pythonIndentUnit": 4
   },
   "notebookName": "gold_market",
   "widgets": {}
  },
  "language_info": {
   "name": "python"
  }
 },
 "nbformat": 4,
 "nbformat_minor": 0
}
