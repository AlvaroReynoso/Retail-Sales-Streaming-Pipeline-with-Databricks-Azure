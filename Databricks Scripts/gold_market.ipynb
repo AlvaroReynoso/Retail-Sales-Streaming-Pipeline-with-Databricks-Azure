{
 "cells": [
  {
   "cell_type": "markdown",
   "metadata": {
    "application/vnd.databricks.v1+cell": {
     "cellMetadata": {},
     "inputWidgets": {},
     "nuid": "d4b68b4c-1b4e-4476-8184-2937911ff81e",
     "showTitle": false,
     "tableResultSettingsMap": {},
     "title": ""
    }
   },
   "source": [
    "\n",
    "Las tablas son generadas en **Modo Batch**, y se almacenan como tablas Delta en el Data Lake, siguiendo el modelo Medallón.\n",
    "\n",
    "## Ejecución\n",
    "\n",
    "- Todas las tablas se generan de forma **Batch**, utilizando los datos enriquecidos de la capa Silver.\n",
    "- Los resultados se almacenan como **Tablas Delta** listas para ser consultadas o visualizadas.\n",
    "- Pueden ser ejecutadas manualmente desde notebooks o programadas, en data factory se opto por la utilizacion de **Schedule Trigger**\n",
    "\n",
    "---"
   ]
  },
  {
   "cell_type": "markdown",
   "metadata": {
    "application/vnd.databricks.v1+cell": {
     "cellMetadata": {},
     "inputWidgets": {},
     "nuid": "5464a334-eb91-4654-bb87-174480821be6",
     "showTitle": false,
     "tableResultSettingsMap": {},
     "title": ""
    }
   },
   "source": [
    "\n",
    "### 1. Ventas por Día, Canal y Región\n",
    "- \uD83D\uDCCC **Descripción**: Agrega la información de ventas diarias segmentadas por canal y región.\n",
    "- \uD83D\uDCC8 **Aplicación**: Monitoreo de rendimiento por zonas y análisis temporal de ventas.\n"
   ]
  },
  {
   "cell_type": "code",
   "execution_count": 0,
   "metadata": {
    "application/vnd.databricks.v1+cell": {
     "cellMetadata": {
      "byteLimit": 2048000,
      "rowLimit": 10000
     },
     "inputWidgets": {},
     "nuid": "429d4e3f-af6c-4680-b9c9-4ab97f78a660",
     "showTitle": false,
     "tableResultSettingsMap": {
      "0": {
       "dataGridStateBlob": "{\"version\":1,\"tableState\":{\"columnPinning\":{\"left\":[\"#row_number#\"],\"right\":[]},\"columnSizing\":{},\"columnVisibility\":{}},\"settings\":{\"columns\":{}},\"syncTimestamp\":1752780666392}",
       "filterBlob": null,
       "queryPlanFiltersBlob": null,
       "tableResultIndex": 0
      }
     },
     "title": ""
    }
   },
   "outputs": [
    {
     "output_type": "display_data",
     "data": {
      "text/html": [
       "<style scoped>\n",
       "  .table-result-container {\n",
       "    max-height: 300px;\n",
       "    overflow: auto;\n",
       "  }\n",
       "  table, th, td {\n",
       "    border: 1px solid black;\n",
       "    border-collapse: collapse;\n",
       "  }\n",
       "  th, td {\n",
       "    padding: 5px;\n",
       "  }\n",
       "  th {\n",
       "    text-align: left;\n",
       "  }\n",
       "</style><div class='table-result-container'><table class='table-result'><thead style='background-color: white'><tr><th>event_date</th><th>channel_name</th><th>store_region</th><th>total_transactions</th><th>total_sales</th><th>avg_ticket</th></tr></thead><tbody><tr><td>2025-07-20</td><td>Caja Automática</td><td>Región AMBA</td><td>26</td><td>6387.6</td><td>245.6769230769231</td></tr><tr><td>2025-07-16</td><td>Caja Automática</td><td>Región AMBA</td><td>2</td><td>802.7</td><td>401.35</td></tr><tr><td>2025-07-17</td><td>Caja Automática</td><td>Región AMBA</td><td>1</td><td>91.17</td><td>91.17</td></tr><tr><td>2025-07-15</td><td>Caja Automática</td><td>Región Norte</td><td>1</td><td>190.52</td><td>190.52</td></tr><tr><td>2025-07-20</td><td>Caja Automática</td><td>Región Sur</td><td>13</td><td>2917.9900000000002</td><td>224.46076923076924</td></tr><tr><td>2025-07-17</td><td>Caja Automática</td><td>Región Sur</td><td>1</td><td>49.78</td><td>49.78</td></tr><tr><td>2025-07-18</td><td>Caja Automática</td><td>Región Sur</td><td>2</td><td>432.13</td><td>216.065</td></tr><tr><td>2025-07-18</td><td>Ecommerce</td><td>Región AMBA</td><td>2</td><td>230.0</td><td>115.0</td></tr><tr><td>2025-07-18</td><td>Caja Automática</td><td>Región AMBA</td><td>1</td><td>53.56</td><td>53.56</td></tr><tr><td>2025-07-20</td><td>Caja Automática</td><td>Región Norte</td><td>15</td><td>3169.92</td><td>211.328</td></tr><tr><td>2025-07-16</td><td>Caja Automática</td><td>Región Sur</td><td>2</td><td>430.96999999999997</td><td>215.48499999999999</td></tr><tr><td>2025-07-16</td><td>Caja Automática</td><td>Región Norte</td><td>1</td><td>10.22</td><td>10.22</td></tr><tr><td>2025-07-20</td><td>Punto de Venta Físico</td><td>Región AMBA</td><td>17</td><td>5208.509999999999</td><td>306.3829411764705</td></tr><tr><td>2025-07-20</td><td>Punto de Venta Físico</td><td>Región Norte</td><td>12</td><td>3235.99</td><td>269.6658333333333</td></tr><tr><td>2025-07-15</td><td>Punto de Venta Físico</td><td>Región Norte</td><td>2</td><td>41.84</td><td>20.92</td></tr><tr><td>2025-07-20</td><td>Punto de Venta Físico</td><td>Región Sur</td><td>16</td><td>4183.8</td><td>261.4875</td></tr><tr><td>2025-07-17</td><td>Punto de Venta Físico</td><td>Región AMBA</td><td>5</td><td>1807.73</td><td>361.546</td></tr><tr><td>2025-07-19</td><td>Caja Automática</td><td>Región Norte</td><td>1</td><td>318.23</td><td>318.23</td></tr><tr><td>2025-07-19</td><td>Punto de Venta Físico</td><td>Región AMBA</td><td>1</td><td>343.31</td><td>343.31</td></tr><tr><td>2025-07-17</td><td>Punto de Venta Físico</td><td>Región Norte</td><td>1</td><td>75.98</td><td>75.98</td></tr><tr><td>2025-07-15</td><td>Punto de Venta Físico</td><td>Región AMBA</td><td>1</td><td>355.33</td><td>355.33</td></tr><tr><td>2025-07-16</td><td>Punto de Venta Físico</td><td>Región Norte</td><td>1</td><td>288.85</td><td>288.85</td></tr><tr><td>2025-07-17</td><td>Ecommerce</td><td>Región AMBA</td><td>2</td><td>376.0</td><td>188.0</td></tr><tr><td>2025-07-15</td><td>Ecommerce</td><td>Región Norte</td><td>1</td><td>418.73</td><td>418.73</td></tr><tr><td>2025-07-16</td><td>Ecommerce</td><td>Región Norte</td><td>2</td><td>422.65</td><td>211.325</td></tr><tr><td>2025-07-17</td><td>Ecommerce</td><td>Región Sur</td><td>2</td><td>968.48</td><td>484.24</td></tr><tr><td>2025-07-20</td><td>Ecommerce</td><td>Región AMBA</td><td>15</td><td>3240.92</td><td>216.06133333333335</td></tr><tr><td>2025-07-16</td><td>Punto de Venta Físico</td><td>Región Sur</td><td>1</td><td>168.07</td><td>168.07</td></tr><tr><td>2025-07-20</td><td>Ecommerce</td><td>Región Norte</td><td>15</td><td>3965.66</td><td>264.3773333333333</td></tr><tr><td>2025-07-18</td><td>Ecommerce</td><td>Región Norte</td><td>1</td><td>307.25</td><td>307.25</td></tr><tr><td>2025-07-20</td><td>Ecommerce</td><td>Región Sur</td><td>9</td><td>2974.54</td><td>330.50444444444446</td></tr><tr><td>2025-07-19</td><td>Ecommerce</td><td>Región AMBA</td><td>1</td><td>478.87</td><td>478.87</td></tr><tr><td>2025-07-16</td><td>Ecommerce</td><td>Región Sur</td><td>4</td><td>885.07</td><td>221.2675</td></tr><tr><td>2025-07-16</td><td>Ecommerce</td><td>Región AMBA</td><td>2</td><td>342.93</td><td>171.465</td></tr><tr><td>2025-07-15</td><td>Ecommerce</td><td>Región Sur</td><td>2</td><td>670.78</td><td>335.39</td></tr><tr><td>2025-07-19</td><td>Punto de Venta Físico</td><td>Región Sur</td><td>1</td><td>397.34</td><td>397.34</td></tr></tbody></table></div>"
      ]
     },
     "metadata": {
      "application/vnd.databricks.v1+output": {
       "addedWidgets": {},
       "aggData": [],
       "aggError": "",
       "aggOverflow": false,
       "aggSchema": [],
       "aggSeriesLimitReached": false,
       "aggType": "",
       "arguments": {},
       "columnCustomDisplayInfos": {},
       "data": [
        [
         "2025-07-20",
         "Caja Automática",
         "Región AMBA",
         26,
         6387.6,
         245.6769230769231
        ],
        [
         "2025-07-16",
         "Caja Automática",
         "Región AMBA",
         2,
         802.7,
         401.35
        ],
        [
         "2025-07-17",
         "Caja Automática",
         "Región AMBA",
         1,
         91.17,
         91.17
        ],
        [
         "2025-07-15",
         "Caja Automática",
         "Región Norte",
         1,
         190.52,
         190.52
        ],
        [
         "2025-07-20",
         "Caja Automática",
         "Región Sur",
         13,
         2917.9900000000002,
         224.46076923076924
        ],
        [
         "2025-07-17",
         "Caja Automática",
         "Región Sur",
         1,
         49.78,
         49.78
        ],
        [
         "2025-07-18",
         "Caja Automática",
         "Región Sur",
         2,
         432.13,
         216.065
        ],
        [
         "2025-07-18",
         "Ecommerce",
         "Región AMBA",
         2,
         230.0,
         115.0
        ],
        [
         "2025-07-18",
         "Caja Automática",
         "Región AMBA",
         1,
         53.56,
         53.56
        ],
        [
         "2025-07-20",
         "Caja Automática",
         "Región Norte",
         15,
         3169.92,
         211.328
        ],
        [
         "2025-07-16",
         "Caja Automática",
         "Región Sur",
         2,
         430.96999999999997,
         215.48499999999999
        ],
        [
         "2025-07-16",
         "Caja Automática",
         "Región Norte",
         1,
         10.22,
         10.22
        ],
        [
         "2025-07-20",
         "Punto de Venta Físico",
         "Región AMBA",
         17,
         5208.509999999999,
         306.3829411764705
        ],
        [
         "2025-07-20",
         "Punto de Venta Físico",
         "Región Norte",
         12,
         3235.99,
         269.6658333333333
        ],
        [
         "2025-07-15",
         "Punto de Venta Físico",
         "Región Norte",
         2,
         41.84,
         20.92
        ],
        [
         "2025-07-20",
         "Punto de Venta Físico",
         "Región Sur",
         16,
         4183.8,
         261.4875
        ],
        [
         "2025-07-17",
         "Punto de Venta Físico",
         "Región AMBA",
         5,
         1807.73,
         361.546
        ],
        [
         "2025-07-19",
         "Caja Automática",
         "Región Norte",
         1,
         318.23,
         318.23
        ],
        [
         "2025-07-19",
         "Punto de Venta Físico",
         "Región AMBA",
         1,
         343.31,
         343.31
        ],
        [
         "2025-07-17",
         "Punto de Venta Físico",
         "Región Norte",
         1,
         75.98,
         75.98
        ],
        [
         "2025-07-15",
         "Punto de Venta Físico",
         "Región AMBA",
         1,
         355.33,
         355.33
        ],
        [
         "2025-07-16",
         "Punto de Venta Físico",
         "Región Norte",
         1,
         288.85,
         288.85
        ],
        [
         "2025-07-17",
         "Ecommerce",
         "Región AMBA",
         2,
         376.0,
         188.0
        ],
        [
         "2025-07-15",
         "Ecommerce",
         "Región Norte",
         1,
         418.73,
         418.73
        ],
        [
         "2025-07-16",
         "Ecommerce",
         "Región Norte",
         2,
         422.65,
         211.325
        ],
        [
         "2025-07-17",
         "Ecommerce",
         "Región Sur",
         2,
         968.48,
         484.24
        ],
        [
         "2025-07-20",
         "Ecommerce",
         "Región AMBA",
         15,
         3240.92,
         216.06133333333335
        ],
        [
         "2025-07-16",
         "Punto de Venta Físico",
         "Región Sur",
         1,
         168.07,
         168.07
        ],
        [
         "2025-07-20",
         "Ecommerce",
         "Región Norte",
         15,
         3965.66,
         264.3773333333333
        ],
        [
         "2025-07-18",
         "Ecommerce",
         "Región Norte",
         1,
         307.25,
         307.25
        ],
        [
         "2025-07-20",
         "Ecommerce",
         "Región Sur",
         9,
         2974.54,
         330.50444444444446
        ],
        [
         "2025-07-19",
         "Ecommerce",
         "Región AMBA",
         1,
         478.87,
         478.87
        ],
        [
         "2025-07-16",
         "Ecommerce",
         "Región Sur",
         4,
         885.07,
         221.2675
        ],
        [
         "2025-07-16",
         "Ecommerce",
         "Región AMBA",
         2,
         342.93,
         171.465
        ],
        [
         "2025-07-15",
         "Ecommerce",
         "Región Sur",
         2,
         670.78,
         335.39
        ],
        [
         "2025-07-19",
         "Punto de Venta Físico",
         "Región Sur",
         1,
         397.34,
         397.34
        ]
       ],
       "datasetInfos": [],
       "dbfsResultPath": null,
       "isJsonSchema": true,
       "metadata": {},
       "overflow": false,
       "plotOptions": {
        "customPlotOptions": {},
        "displayType": "table",
        "pivotAggregation": null,
        "pivotColumns": null,
        "xColumns": null,
        "yColumns": null
       },
       "removedWidgets": [],
       "schema": [
        {
         "metadata": "{}",
         "name": "event_date",
         "type": "\"date\""
        },
        {
         "metadata": "{}",
         "name": "channel_name",
         "type": "\"string\""
        },
        {
         "metadata": "{}",
         "name": "store_region",
         "type": "\"string\""
        },
        {
         "metadata": "{}",
         "name": "total_transactions",
         "type": "\"long\""
        },
        {
         "metadata": "{}",
         "name": "total_sales",
         "type": "\"double\""
        },
        {
         "metadata": "{}",
         "name": "avg_ticket",
         "type": "\"double\""
        }
       ],
       "type": "table"
      }
     },
     "output_type": "display_data"
    }
   ],
   "source": [
    "from pyspark.sql.functions import *\n",
    "df_gold = spark.read.format(\"delta\").load(\"/mnt/silver/sales/enriched\")\n",
    "\n",
    "\n",
    "sales_by_day = (\n",
    "    df_gold\n",
    "    .groupBy(\"event_date\", \"channel_name\", \"store_region\")\n",
    "    .agg(\n",
    "        count(\"*\").alias(\"total_transactions\"),\n",
    "        sum(\"amount\").alias(\"total_sales\"),\n",
    "        avg(\"amount\").alias(\"avg_ticket\")\n",
    "    )\n",
    ")\n",
    "\n",
    "sales_by_day.write.mode(\"overwrite\").format(\"delta\").save(\"/mnt/gold/sales/sales_by_day\")\n",
    "display(sales_by_day)\n"
   ]
  },
  {
   "cell_type": "markdown",
   "metadata": {
    "application/vnd.databricks.v1+cell": {
     "cellMetadata": {},
     "inputWidgets": {},
     "nuid": "e2eb7a91-b343-402f-a90c-88727edee3e3",
     "showTitle": false,
     "tableResultSettingsMap": {},
     "title": ""
    }
   },
   "source": [
    "### 2. Top Clientes\n",
    "- \uD83D\uDCCC **Descripción**: Identifica los clientes con mayor nivel de gasto total.\n",
    "- \uD83D\uDC65 **Aplicación**: Segmentación de clientes, programas de fidelidad, y campañas de marketing."
   ]
  },
  {
   "cell_type": "code",
   "execution_count": 0,
   "metadata": {
    "application/vnd.databricks.v1+cell": {
     "cellMetadata": {
      "byteLimit": 2048000,
      "rowLimit": 10000
     },
     "inputWidgets": {},
     "nuid": "e5620139-30b2-467b-a298-23d41089eb43",
     "showTitle": false,
     "tableResultSettingsMap": {},
     "title": ""
    }
   },
   "outputs": [
    {
     "output_type": "display_data",
     "data": {
      "text/html": [
       "<style scoped>\n",
       "  .table-result-container {\n",
       "    max-height: 300px;\n",
       "    overflow: auto;\n",
       "  }\n",
       "  table, th, td {\n",
       "    border: 1px solid black;\n",
       "    border-collapse: collapse;\n",
       "  }\n",
       "  th, td {\n",
       "    padding: 5px;\n",
       "  }\n",
       "  th {\n",
       "    text-align: left;\n",
       "  }\n",
       "</style><div class='table-result-container'><table class='table-result'><thead style='background-color: white'><tr><th>customer_id</th><th>customer_name</th><th>customer_loyalty_tier</th><th>total_spent</th><th>transactions</th><th>avg_ticket</th><th>last_purchase_date</th></tr></thead><tbody><tr><td>CUST002</td><td>Carlos Pérez</td><td>Silver</td><td>10307.77</td><td>38</td><td>271.2571052631579</td><td>2025-07-20</td></tr><tr><td>CUST003</td><td>Ana Ruiz</td><td>Bronze</td><td>9606.84</td><td>36</td><td>266.8566666666667</td><td>2025-07-20</td></tr><tr><td>CUST001</td><td>María Gómez</td><td>Gold</td><td>9200.88</td><td>37</td><td>248.6724324324324</td><td>2025-07-20</td></tr><tr><td>CUST005</td><td>Laura Acosta</td><td>Silver</td><td>8661.05</td><td>36</td><td>240.5847222222222</td><td>2025-07-20</td></tr><tr><td>CUST004</td><td>Juan Torres</td><td>Gold</td><td>8466.880000000001</td><td>35</td><td>241.91085714285717</td><td>2025-07-20</td></tr></tbody></table></div>"
      ]
     },
     "metadata": {
      "application/vnd.databricks.v1+output": {
       "addedWidgets": {},
       "aggData": [],
       "aggError": "",
       "aggOverflow": false,
       "aggSchema": [],
       "aggSeriesLimitReached": false,
       "aggType": "",
       "arguments": {},
       "columnCustomDisplayInfos": {},
       "data": [
        [
         "CUST002",
         "Carlos Pérez",
         "Silver",
         10307.77,
         38,
         271.2571052631579,
         "2025-07-20"
        ],
        [
         "CUST003",
         "Ana Ruiz",
         "Bronze",
         9606.84,
         36,
         266.8566666666667,
         "2025-07-20"
        ],
        [
         "CUST001",
         "María Gómez",
         "Gold",
         9200.88,
         37,
         248.6724324324324,
         "2025-07-20"
        ],
        [
         "CUST005",
         "Laura Acosta",
         "Silver",
         8661.05,
         36,
         240.5847222222222,
         "2025-07-20"
        ],
        [
         "CUST004",
         "Juan Torres",
         "Gold",
         8466.880000000001,
         35,
         241.91085714285717,
         "2025-07-20"
        ]
       ],
       "datasetInfos": [],
       "dbfsResultPath": null,
       "isJsonSchema": true,
       "metadata": {},
       "overflow": false,
       "plotOptions": {
        "customPlotOptions": {},
        "displayType": "table",
        "pivotAggregation": null,
        "pivotColumns": null,
        "xColumns": null,
        "yColumns": null
       },
       "removedWidgets": [],
       "schema": [
        {
         "metadata": "{}",
         "name": "customer_id",
         "type": "\"string\""
        },
        {
         "metadata": "{}",
         "name": "customer_name",
         "type": "\"string\""
        },
        {
         "metadata": "{}",
         "name": "customer_loyalty_tier",
         "type": "\"string\""
        },
        {
         "metadata": "{}",
         "name": "total_spent",
         "type": "\"double\""
        },
        {
         "metadata": "{}",
         "name": "transactions",
         "type": "\"long\""
        },
        {
         "metadata": "{}",
         "name": "avg_ticket",
         "type": "\"double\""
        },
        {
         "metadata": "{}",
         "name": "last_purchase_date",
         "type": "\"date\""
        }
       ],
       "type": "table"
      }
     },
     "output_type": "display_data"
    }
   ],
   "source": [
    "\n",
    "df_gold = spark.read.format(\"delta\").load(\"/mnt/silver/sales/enriched\")\n",
    "\n",
    "top_customers = (\n",
    "    df_gold\n",
    "    .groupBy(\"customer_id\", \"customer_name\", \"customer_loyalty_tier\")\n",
    "    .agg(\n",
    "        sum(\"amount\").alias(\"total_spent\"),\n",
    "        count(\"*\").alias(\"transactions\"),\n",
    "        avg(\"amount\").alias(\"avg_ticket\"),\n",
    "        max(\"event_date\").alias(\"last_purchase_date\")\n",
    "    )\n",
    "    .orderBy(desc(\"total_spent\"))\n",
    ")\n",
    "\n",
    "display(top_customers)\n",
    "top_customers.write.mode(\"overwrite\").format(\"delta\").save(\"/mnt/gold/sales/top_customers\")\n"
   ]
  },
  {
   "cell_type": "markdown",
   "metadata": {
    "application/vnd.databricks.v1+cell": {
     "cellMetadata": {},
     "inputWidgets": {},
     "nuid": "c82a0edf-7ad2-4c05-990b-2ec1ef65c69c",
     "showTitle": false,
     "tableResultSettingsMap": {},
     "title": ""
    }
   },
   "source": [
    "### 3. Rendimiento de Productos\n",
    "- \uD83D\uDCCC **Descripción**: Evalúa el desempeño de los productos en términos de ventas e ingresos.\n",
    "- \uD83D\uDCE6 **Aplicación**: Gestión de inventario, decisiones de pricing y desarrollo de productos.\n"
   ]
  },
  {
   "cell_type": "code",
   "execution_count": 0,
   "metadata": {
    "application/vnd.databricks.v1+cell": {
     "cellMetadata": {
      "byteLimit": 2048000,
      "rowLimit": 10000
     },
     "inputWidgets": {},
     "nuid": "2fb2c106-36db-46aa-9316-c477459628ee",
     "showTitle": false,
     "tableResultSettingsMap": {},
     "title": ""
    }
   },
   "outputs": [
    {
     "output_type": "display_data",
     "data": {
      "text/html": [
       "<style scoped>\n",
       "  .table-result-container {\n",
       "    max-height: 300px;\n",
       "    overflow: auto;\n",
       "  }\n",
       "  table, th, td {\n",
       "    border: 1px solid black;\n",
       "    border-collapse: collapse;\n",
       "  }\n",
       "  th, td {\n",
       "    padding: 5px;\n",
       "  }\n",
       "  th {\n",
       "    text-align: left;\n",
       "  }\n",
       "</style><div class='table-result-container'><table class='table-result'><thead style='background-color: white'><tr><th>product_id</th><th>product_name</th><th>units_sold</th><th>total_revenue</th><th>avg_ticket</th></tr></thead><tbody><tr><td>P002</td><td>Pan integral</td><td>30</td><td>7987.73</td><td>266.25766666666664</td></tr><tr><td>P003</td><td>Queso cremoso</td><td>27</td><td>6666.700000000001</td><td>246.91481481481483</td></tr><tr><td>P001</td><td>Leche entera</td><td>19</td><td>5164.799999999999</td><td>271.83157894736837</td></tr><tr><td>P005</td><td>Yerba mate</td><td>22</td><td>4984.300000000001</td><td>226.55909090909097</td></tr><tr><td>P004</td><td>Coca Cola 1.5L</td><td>19</td><td>4000.0599999999995</td><td>210.5294736842105</td></tr></tbody></table></div>"
      ]
     },
     "metadata": {
      "application/vnd.databricks.v1+output": {
       "addedWidgets": {},
       "aggData": [],
       "aggError": "",
       "aggOverflow": false,
       "aggSchema": [],
       "aggSeriesLimitReached": false,
       "aggType": "",
       "arguments": {},
       "columnCustomDisplayInfos": {},
       "data": [
        [
         "P002",
         "Pan integral",
         30,
         7987.73,
         266.25766666666664
        ],
        [
         "P003",
         "Queso cremoso",
         27,
         6666.700000000001,
         246.91481481481483
        ],
        [
         "P001",
         "Leche entera",
         19,
         5164.799999999999,
         271.83157894736837
        ],
        [
         "P005",
         "Yerba mate",
         22,
         4984.300000000001,
         226.55909090909097
        ],
        [
         "P004",
         "Coca Cola 1.5L",
         19,
         4000.0599999999995,
         210.5294736842105
        ]
       ],
       "datasetInfos": [],
       "dbfsResultPath": null,
       "isJsonSchema": true,
       "metadata": {},
       "overflow": false,
       "plotOptions": {
        "customPlotOptions": {},
        "displayType": "table",
        "pivotAggregation": null,
        "pivotColumns": null,
        "xColumns": null,
        "yColumns": null
       },
       "removedWidgets": [],
       "schema": [
        {
         "metadata": "{}",
         "name": "product_id",
         "type": "\"string\""
        },
        {
         "metadata": "{}",
         "name": "product_name",
         "type": "\"string\""
        },
        {
         "metadata": "{}",
         "name": "units_sold",
         "type": "\"long\""
        },
        {
         "metadata": "{}",
         "name": "total_revenue",
         "type": "\"double\""
        },
        {
         "metadata": "{}",
         "name": "avg_ticket",
         "type": "\"double\""
        }
       ],
       "type": "table"
      }
     },
     "output_type": "display_data"
    }
   ],
   "source": [
    "df_gold = spark.read.format(\"delta\").load(\"/mnt/silver/sales/enriched\")\n",
    "\n",
    "product_performance = (\n",
    "    df_gold\n",
    "    .groupBy(\"product_id\", \"product_name\")\n",
    "    .agg(\n",
    "        count(\"*\").alias(\"units_sold\"),\n",
    "        sum(\"amount\").alias(\"total_revenue\"),\n",
    "        avg(\"amount\").alias(\"avg_ticket\")\n",
    "    )\n",
    "    .orderBy(desc(\"total_revenue\"))\n",
    ")\n",
    "\n",
    "display(product_performance)\n",
    "product_performance.write.mode(\"overwrite\").format(\"delta\").save(\"/mnt/gold/sales/product_performance\")\n"
   ]
  },
  {
   "cell_type": "markdown",
   "metadata": {
    "application/vnd.databricks.v1+cell": {
     "cellMetadata": {},
     "inputWidgets": {},
     "nuid": "d22c57f6-3cf4-43da-8b40-5123bc4c2d6e",
     "showTitle": false,
     "tableResultSettingsMap": {},
     "title": ""
    }
   },
   "source": [
    "\n",
    "### 4. Ventas por Región y Canal\n",
    "- \uD83D\uDCCC **Descripción**: Muestra un cruce entre regiones de venta y canales utilizados.\n",
    "- \uD83D\uDDFA️ **Aplicación**: Análisis geográfico y por tipo de canal, útil para visualizaciones tipo mapa de calor o matrices comparativas."
   ]
  },
  {
   "cell_type": "code",
   "execution_count": 0,
   "metadata": {
    "application/vnd.databricks.v1+cell": {
     "cellMetadata": {
      "byteLimit": 2048000,
      "rowLimit": 10000
     },
     "inputWidgets": {},
     "nuid": "fadf8872-cc25-4084-b41a-09cb6f9cf9df",
     "showTitle": false,
     "tableResultSettingsMap": {},
     "title": ""
    }
   },
   "outputs": [
    {
     "output_type": "display_data",
     "data": {
      "text/html": [
       "<style scoped>\n",
       "  .table-result-container {\n",
       "    max-height: 300px;\n",
       "    overflow: auto;\n",
       "  }\n",
       "  table, th, td {\n",
       "    border: 1px solid black;\n",
       "    border-collapse: collapse;\n",
       "  }\n",
       "  th, td {\n",
       "    padding: 5px;\n",
       "  }\n",
       "  th {\n",
       "    text-align: left;\n",
       "  }\n",
       "</style><div class='table-result-container'><table class='table-result'><thead style='background-color: white'><tr><th>store_region</th><th>channel_name</th><th>total_sales</th><th>transactions</th></tr></thead><tbody><tr><td>Región Sur</td><td>Caja Automática</td><td>3830.8699999999994</td><td>18</td></tr><tr><td>Región Norte</td><td>Caja Automática</td><td>3688.8900000000003</td><td>18</td></tr><tr><td>Región AMBA</td><td>Caja Automática</td><td>7335.030000000001</td><td>30</td></tr><tr><td>Región AMBA</td><td>Ecommerce</td><td>4668.72</td><td>22</td></tr><tr><td>Región AMBA</td><td>Punto de Venta Físico</td><td>7714.88</td><td>24</td></tr><tr><td>Región Norte</td><td>Punto de Venta Físico</td><td>3642.66</td><td>16</td></tr><tr><td>Región Sur</td><td>Punto de Venta Físico</td><td>4749.21</td><td>18</td></tr><tr><td>Región Norte</td><td>Ecommerce</td><td>5114.29</td><td>19</td></tr><tr><td>Región Sur</td><td>Ecommerce</td><td>5498.87</td><td>17</td></tr></tbody></table></div>"
      ]
     },
     "metadata": {
      "application/vnd.databricks.v1+output": {
       "addedWidgets": {},
       "aggData": [],
       "aggError": "",
       "aggOverflow": false,
       "aggSchema": [],
       "aggSeriesLimitReached": false,
       "aggType": "",
       "arguments": {},
       "columnCustomDisplayInfos": {},
       "data": [
        [
         "Región Sur",
         "Caja Automática",
         3830.8699999999994,
         18
        ],
        [
         "Región Norte",
         "Caja Automática",
         3688.8900000000003,
         18
        ],
        [
         "Región AMBA",
         "Caja Automática",
         7335.030000000001,
         30
        ],
        [
         "Región AMBA",
         "Ecommerce",
         4668.72,
         22
        ],
        [
         "Región AMBA",
         "Punto de Venta Físico",
         7714.88,
         24
        ],
        [
         "Región Norte",
         "Punto de Venta Físico",
         3642.66,
         16
        ],
        [
         "Región Sur",
         "Punto de Venta Físico",
         4749.21,
         18
        ],
        [
         "Región Norte",
         "Ecommerce",
         5114.29,
         19
        ],
        [
         "Región Sur",
         "Ecommerce",
         5498.87,
         17
        ]
       ],
       "datasetInfos": [],
       "dbfsResultPath": null,
       "isJsonSchema": true,
       "metadata": {},
       "overflow": false,
       "plotOptions": {
        "customPlotOptions": {},
        "displayType": "table",
        "pivotAggregation": null,
        "pivotColumns": null,
        "xColumns": null,
        "yColumns": null
       },
       "removedWidgets": [],
       "schema": [
        {
         "metadata": "{}",
         "name": "store_region",
         "type": "\"string\""
        },
        {
         "metadata": "{}",
         "name": "channel_name",
         "type": "\"string\""
        },
        {
         "metadata": "{}",
         "name": "total_sales",
         "type": "\"double\""
        },
        {
         "metadata": "{}",
         "name": "transactions",
         "type": "\"long\""
        }
       ],
       "type": "table"
      }
     },
     "output_type": "display_data"
    }
   ],
   "source": [
    "df_gold = spark.read.format(\"delta\").load(\"/mnt/silver/sales/enriched\")\n",
    "\n",
    "sales_by_region_channel = (\n",
    "    df_gold\n",
    "    .groupBy(\"store_region\", \"channel_name\")\n",
    "    .agg(\n",
    "        sum(\"amount\").alias(\"total_sales\"),\n",
    "        count(\"*\").alias(\"transactions\")\n",
    "    )\n",
    ")\n",
    "\n",
    "display(sales_by_region_channel)\n",
    "sales_by_region_channel.write.mode(\"overwrite\").format(\"delta\").save(\"/mnt/gold/sales/sales_by_region_channel\")\n"
   ]
  },
  {
   "cell_type": "markdown",
   "metadata": {
    "application/vnd.databricks.v1+cell": {
     "cellMetadata": {},
     "inputWidgets": {},
     "nuid": "4097d4c3-9873-4287-bf71-4205eef52755",
     "showTitle": false,
     "tableResultSettingsMap": {},
     "title": ""
    }
   },
   "source": [
    "### 5. Distribución Diaria por Categoría de Ticket\n",
    "- \uD83D\uDCCC **Descripción**: Clasifica las ventas diarias según el rango de importe del ticket.\n",
    "- \uD83C\uDFAF **Aplicación**: Evaluación de hábitos de consumo y detección de tendencias de compra.\n"
   ]
  },
  {
   "cell_type": "code",
   "execution_count": 0,
   "metadata": {
    "application/vnd.databricks.v1+cell": {
     "cellMetadata": {
      "byteLimit": 2048000,
      "rowLimit": 10000
     },
     "inputWidgets": {},
     "nuid": "63117c3c-392a-4265-9c25-d17efba98aa0",
     "showTitle": false,
     "tableResultSettingsMap": {},
     "title": ""
    }
   },
   "outputs": [
    {
     "output_type": "display_data",
     "data": {
      "text/html": [
       "<style scoped>\n",
       "  .table-result-container {\n",
       "    max-height: 300px;\n",
       "    overflow: auto;\n",
       "  }\n",
       "  table, th, td {\n",
       "    border: 1px solid black;\n",
       "    border-collapse: collapse;\n",
       "  }\n",
       "  th, td {\n",
       "    padding: 5px;\n",
       "  }\n",
       "  th {\n",
       "    text-align: left;\n",
       "  }\n",
       "</style><div class='table-result-container'><table class='table-result'><thead style='background-color: white'><tr><th>event_date</th><th>ticket_category</th><th>transaction_count</th><th>total_amount</th></tr></thead><tbody><tr><td>2025-07-15</td><td>ALTO</td><td>4</td><td>1444.8399999999997</td></tr><tr><td>2025-07-15</td><td>BAJO</td><td>2</td><td>41.84</td></tr><tr><td>2025-07-15</td><td>MEDIO</td><td>1</td><td>190.52</td></tr><tr><td>2025-07-16</td><td>ALTO</td><td>8</td><td>2533.51</td></tr><tr><td>2025-07-16</td><td>BAJO</td><td>1</td><td>10.22</td></tr><tr><td>2025-07-16</td><td>MEDIO</td><td>6</td><td>807.7300000000001</td></tr><tr><td>2025-07-17</td><td>ALTO</td><td>8</td><td>3023.4300000000003</td></tr><tr><td>2025-07-17</td><td>BAJO</td><td>1</td><td>49.78</td></tr><tr><td>2025-07-17</td><td>MEDIO</td><td>3</td><td>295.93</td></tr><tr><td>2025-07-18</td><td>ALTO</td><td>2</td><td>703.85</td></tr><tr><td>2025-07-18</td><td>BAJO</td><td>1</td><td>35.53</td></tr><tr><td>2025-07-18</td><td>MEDIO</td><td>3</td><td>283.56</td></tr><tr><td>2025-07-19</td><td>ALTO</td><td>4</td><td>1537.7499999999998</td></tr><tr><td>2025-07-20</td><td>ALTO</td><td>91</td><td>29894.65</td></tr><tr><td>2025-07-20</td><td>BAJO</td><td>8</td><td>254.99</td></tr><tr><td>2025-07-20</td><td>MEDIO</td><td>39</td><td>5135.29</td></tr></tbody></table></div>"
      ]
     },
     "metadata": {
      "application/vnd.databricks.v1+output": {
       "addedWidgets": {},
       "aggData": [],
       "aggError": "",
       "aggOverflow": false,
       "aggSchema": [],
       "aggSeriesLimitReached": false,
       "aggType": "",
       "arguments": {},
       "columnCustomDisplayInfos": {},
       "data": [
        [
         "2025-07-15",
         "ALTO",
         4,
         1444.8399999999997
        ],
        [
         "2025-07-15",
         "BAJO",
         2,
         41.84
        ],
        [
         "2025-07-15",
         "MEDIO",
         1,
         190.52
        ],
        [
         "2025-07-16",
         "ALTO",
         8,
         2533.51
        ],
        [
         "2025-07-16",
         "BAJO",
         1,
         10.22
        ],
        [
         "2025-07-16",
         "MEDIO",
         6,
         807.7300000000001
        ],
        [
         "2025-07-17",
         "ALTO",
         8,
         3023.4300000000003
        ],
        [
         "2025-07-17",
         "BAJO",
         1,
         49.78
        ],
        [
         "2025-07-17",
         "MEDIO",
         3,
         295.93
        ],
        [
         "2025-07-18",
         "ALTO",
         2,
         703.85
        ],
        [
         "2025-07-18",
         "BAJO",
         1,
         35.53
        ],
        [
         "2025-07-18",
         "MEDIO",
         3,
         283.56
        ],
        [
         "2025-07-19",
         "ALTO",
         4,
         1537.7499999999998
        ],
        [
         "2025-07-20",
         "ALTO",
         91,
         29894.65
        ],
        [
         "2025-07-20",
         "BAJO",
         8,
         254.99
        ],
        [
         "2025-07-20",
         "MEDIO",
         39,
         5135.29
        ]
       ],
       "datasetInfos": [],
       "dbfsResultPath": null,
       "isJsonSchema": true,
       "metadata": {},
       "overflow": false,
       "plotOptions": {
        "customPlotOptions": {},
        "displayType": "table",
        "pivotAggregation": null,
        "pivotColumns": null,
        "xColumns": null,
        "yColumns": null
       },
       "removedWidgets": [],
       "schema": [
        {
         "metadata": "{}",
         "name": "event_date",
         "type": "\"date\""
        },
        {
         "metadata": "{}",
         "name": "ticket_category",
         "type": "\"string\""
        },
        {
         "metadata": "{}",
         "name": "transaction_count",
         "type": "\"long\""
        },
        {
         "metadata": "{}",
         "name": "total_amount",
         "type": "\"double\""
        }
       ],
       "type": "table"
      }
     },
     "output_type": "display_data"
    }
   ],
   "source": [
    "df_gold = spark.read.format(\"delta\").load(\"/mnt/silver/sales/enriched\")\n",
    "\n",
    "daily_ticket_distribution = (\n",
    "    df_gold\n",
    "    .groupBy(\"event_date\", \"ticket_category\")\n",
    "    .agg(\n",
    "        count(\"*\").alias(\"transaction_count\"),\n",
    "        sum(\"amount\").alias(\"total_amount\")\n",
    "    )\n",
    "    .orderBy(\"event_date\", \"ticket_category\")\n",
    ")\n",
    "\n",
    "display(daily_ticket_distribution)\n",
    "daily_ticket_distribution.write.mode(\"overwrite\").format(\"delta\").save(\"/mnt/gold/sales/daily_ticket_distribution\")\n"
   ]
  },
  {
   "cell_type": "markdown",
   "metadata": {
    "application/vnd.databricks.v1+cell": {
     "cellMetadata": {},
     "inputWidgets": {},
     "nuid": "0b08a02d-a458-47d6-b966-64bb6467f193",
     "showTitle": false,
     "tableResultSettingsMap": {},
     "title": ""
    }
   },
   "source": [
    "### 6. Rendimiento por Sucursal (Extra)\n",
    "- \uD83D\uDCCC **Descripción**: Mide el desempeño de cada sucursal en base a sus ventas y frecuencia de transacciones.\n",
    "- \uD83C\uDFEC **Aplicación**: Comparativa entre locales, decisiones de expansión, análisis por región.\n"
   ]
  },
  {
   "cell_type": "code",
   "execution_count": 0,
   "metadata": {
    "application/vnd.databricks.v1+cell": {
     "cellMetadata": {
      "byteLimit": 2048000,
      "rowLimit": 10000
     },
     "inputWidgets": {},
     "nuid": "a535dcbe-87c6-4ba1-929a-6f2f9ce85f68",
     "showTitle": false,
     "tableResultSettingsMap": {},
     "title": ""
    }
   },
   "outputs": [
    {
     "output_type": "display_data",
     "data": {
      "text/html": [
       "<style scoped>\n",
       "  .table-result-container {\n",
       "    max-height: 300px;\n",
       "    overflow: auto;\n",
       "  }\n",
       "  table, th, td {\n",
       "    border: 1px solid black;\n",
       "    border-collapse: collapse;\n",
       "  }\n",
       "  th, td {\n",
       "    padding: 5px;\n",
       "  }\n",
       "  th {\n",
       "    text-align: left;\n",
       "  }\n",
       "</style><div class='table-result-container'><table class='table-result'><thead style='background-color: white'><tr><th>store</th><th>store_name</th><th>store_region</th><th>transactions</th><th>total_sales</th><th>avg_ticket</th></tr></thead><tbody><tr><td>Sucursal A</td><td>Tienda Central</td><td>Región AMBA</td><td>76</td><td>19718.63</td><td>259.4556578947369</td></tr><tr><td>Sucursal C</td><td>Tienda Sur</td><td>Región Sur</td><td>53</td><td>14078.949999999999</td><td>265.6405660377358</td></tr><tr><td>Sucursal B</td><td>Tienda Norte</td><td>Región Norte</td><td>53</td><td>12445.84</td><td>234.82716981132074</td></tr></tbody></table></div>"
      ]
     },
     "metadata": {
      "application/vnd.databricks.v1+output": {
       "addedWidgets": {},
       "aggData": [],
       "aggError": "",
       "aggOverflow": false,
       "aggSchema": [],
       "aggSeriesLimitReached": false,
       "aggType": "",
       "arguments": {},
       "columnCustomDisplayInfos": {},
       "data": [
        [
         "Sucursal A",
         "Tienda Central",
         "Región AMBA",
         76,
         19718.63,
         259.4556578947369
        ],
        [
         "Sucursal C",
         "Tienda Sur",
         "Región Sur",
         53,
         14078.949999999999,
         265.6405660377358
        ],
        [
         "Sucursal B",
         "Tienda Norte",
         "Región Norte",
         53,
         12445.84,
         234.82716981132074
        ]
       ],
       "datasetInfos": [],
       "dbfsResultPath": null,
       "isJsonSchema": true,
       "metadata": {},
       "overflow": false,
       "plotOptions": {
        "customPlotOptions": {},
        "displayType": "table",
        "pivotAggregation": null,
        "pivotColumns": null,
        "xColumns": null,
        "yColumns": null
       },
       "removedWidgets": [],
       "schema": [
        {
         "metadata": "{}",
         "name": "store",
         "type": "\"string\""
        },
        {
         "metadata": "{}",
         "name": "store_name",
         "type": "\"string\""
        },
        {
         "metadata": "{}",
         "name": "store_region",
         "type": "\"string\""
        },
        {
         "metadata": "{}",
         "name": "transactions",
         "type": "\"long\""
        },
        {
         "metadata": "{}",
         "name": "total_sales",
         "type": "\"double\""
        },
        {
         "metadata": "{}",
         "name": "avg_ticket",
         "type": "\"double\""
        }
       ],
       "type": "table"
      }
     },
     "output_type": "display_data"
    }
   ],
   "source": [
    "df_gold = spark.read.format(\"delta\").load(\"/mnt/silver/sales/enriched\")\n",
    "\n",
    "store_performance = (\n",
    "    df_gold\n",
    "    .groupBy(\"store\", \"store_name\", \"store_region\")\n",
    "    .agg(\n",
    "        count(\"*\").alias(\"transactions\"),\n",
    "        sum(\"amount\").alias(\"total_sales\"),\n",
    "        avg(\"amount\").alias(\"avg_ticket\")\n",
    "    )\n",
    "    .orderBy(desc(\"total_sales\"))\n",
    ")\n",
    "\n",
    "display(store_performance)\n",
    "store_performance.write.mode(\"overwrite\").format(\"delta\").save(\"/mnt/gold/sales/store_performance\")\n"
   ]
  },
  {
   "cell_type": "markdown",
   "metadata": {
    "application/vnd.databricks.v1+cell": {
     "cellMetadata": {},
     "inputWidgets": {},
     "nuid": "e4339e2d-0403-4af3-aff0-e96ffb67a62d",
     "showTitle": false,
     "tableResultSettingsMap": {},
     "title": ""
    }
   },
   "source": [
    "## Creación de tablas en hive metastore"
   ]
  },
  {
   "cell_type": "code",
   "execution_count": 0,
   "metadata": {
    "application/vnd.databricks.v1+cell": {
     "cellMetadata": {
      "byteLimit": 2048000,
      "rowLimit": 10000
     },
     "inputWidgets": {},
     "nuid": "697ae085-1c50-44e7-b82d-7277af4001a4",
     "showTitle": false,
     "tableResultSettingsMap": {},
     "title": ""
    }
   },
   "outputs": [
    {
     "output_type": "execute_result",
     "data": {
      "text/plain": [
       "DataFrame[]"
      ]
     },
     "execution_count": 6,
     "metadata": {},
     "output_type": "execute_result"
    }
   ],
   "source": [
    "spark.sql(\n",
    "    \"\"\"\n",
    "        CREATE SCHEMA IF NOT EXISTS capa_gold;\n",
    "    \"\"\"\n",
    ")\n",
    "spark.sql(\n",
    "    \"\"\"\n",
    "        CREATE TABLE IF NOT EXISTS hive_metastore.capa_gold.sales_by_day\n",
    "     USING DELTA\n",
    "    LOCATION '/mnt/gold/sales/sales_by_day';\n",
    "    \"\"\"\n",
    ")"
   ]
  },
  {
   "cell_type": "code",
   "execution_count": 0,
   "metadata": {
    "application/vnd.databricks.v1+cell": {
     "cellMetadata": {
      "byteLimit": 2048000,
      "rowLimit": 10000
     },
     "inputWidgets": {},
     "nuid": "e827bc79-607f-4394-876d-2714d9b7ade3",
     "showTitle": false,
     "tableResultSettingsMap": {},
     "title": ""
    }
   },
   "outputs": [
    {
     "output_type": "execute_result",
     "data": {
      "text/plain": [
       "DataFrame[]"
      ]
     },
     "execution_count": 7,
     "metadata": {},
     "output_type": "execute_result"
    }
   ],
   "source": [
    "spark.sql(\n",
    "    \"\"\"\n",
    "        CREATE TABLE IF NOT EXISTS hive_metastore.capa_gold.top_customers\n",
    "USING DELTA\n",
    "LOCATION '/mnt/gold/sales/top_customers';\n",
    "    \"\"\"\n",
    ")\n"
   ]
  },
  {
   "cell_type": "code",
   "execution_count": 0,
   "metadata": {
    "application/vnd.databricks.v1+cell": {
     "cellMetadata": {
      "byteLimit": 2048000,
      "rowLimit": 10000
     },
     "inputWidgets": {},
     "nuid": "c0657c2c-1864-42dc-abca-26d8154bb142",
     "showTitle": false,
     "tableResultSettingsMap": {},
     "title": ""
    }
   },
   "outputs": [
    {
     "output_type": "execute_result",
     "data": {
      "text/plain": [
       "DataFrame[]"
      ]
     },
     "execution_count": 9,
     "metadata": {},
     "output_type": "execute_result"
    }
   ],
   "source": [
    "spark.sql(\n",
    "    \"\"\"\n",
    "    CREATE TABLE IF NOT EXISTS hive_metastore.capa_gold.product_performance\n",
    "USING DELTA\n",
    "LOCATION '/mnt/gold/sales/product_performance';\n",
    "    \"\"\"\n",
    ")"
   ]
  },
  {
   "cell_type": "code",
   "execution_count": 0,
   "metadata": {
    "application/vnd.databricks.v1+cell": {
     "cellMetadata": {
      "byteLimit": 2048000,
      "rowLimit": 10000
     },
     "inputWidgets": {},
     "nuid": "72fc452a-bedb-4ae1-a773-9d6b5daf3fa3",
     "showTitle": false,
     "tableResultSettingsMap": {},
     "title": ""
    }
   },
   "outputs": [
    {
     "output_type": "execute_result",
     "data": {
      "text/plain": [
       "DataFrame[]"
      ]
     },
     "execution_count": 8,
     "metadata": {},
     "output_type": "execute_result"
    }
   ],
   "source": [
    "spark.sql(\n",
    "    \"\"\"\n",
    "        CREATE TABLE IF NOT EXISTS hive_metastore.capa_gold.sales_by_region_channel\n",
    "USING DELTA\n",
    "LOCATION '/mnt/gold/sales/sales_by_region_channel';\n",
    "    \"\"\"\n",
    ")"
   ]
  },
  {
   "cell_type": "code",
   "execution_count": 0,
   "metadata": {
    "application/vnd.databricks.v1+cell": {
     "cellMetadata": {
      "byteLimit": 2048000,
      "rowLimit": 10000
     },
     "inputWidgets": {},
     "nuid": "975f60d6-1102-48fd-95ba-baa0553cc9f2",
     "showTitle": false,
     "tableResultSettingsMap": {},
     "title": ""
    }
   },
   "outputs": [
    {
     "output_type": "execute_result",
     "data": {
      "text/plain": [
       "DataFrame[]"
      ]
     },
     "execution_count": 10,
     "metadata": {},
     "output_type": "execute_result"
    }
   ],
   "source": [
    "spark.sql(\n",
    "    \"\"\"\n",
    "        CREATE TABLE IF NOT EXISTS hive_metastore.capa_gold.daily_ticket_distribution\n",
    "USING DELTA\n",
    "LOCATION '/mnt/gold/sales/daily_ticket_distribution';\n",
    "    \"\"\"\n",
    ")"
   ]
  },
  {
   "cell_type": "code",
   "execution_count": 0,
   "metadata": {
    "application/vnd.databricks.v1+cell": {
     "cellMetadata": {
      "byteLimit": 2048000,
      "rowLimit": 10000
     },
     "inputWidgets": {},
     "nuid": "641d4ea0-8238-437a-8996-3a9931604b57",
     "showTitle": false,
     "tableResultSettingsMap": {},
     "title": ""
    }
   },
   "outputs": [
    {
     "output_type": "execute_result",
     "data": {
      "text/plain": [
       "DataFrame[]"
      ]
     },
     "execution_count": 11,
     "metadata": {},
     "output_type": "execute_result"
    }
   ],
   "source": [
    "spark.sql(\n",
    "    \"\"\"\n",
    "        CREATE TABLE IF NOT EXISTS hive_metastore.capa_gold.store_performance\n",
    "USING DELTA\n",
    "LOCATION '/mnt/gold/sales/store_performance';\n",
    "    \"\"\"\n",
    ")"
   ]
  }
 ],
 "metadata": {
  "application/vnd.databricks.v1+notebook": {
   "computePreferences": null,
   "dashboards": [],
   "environmentMetadata": {
    "base_environment": "",
    "environment_version": "2"
   },
   "inputWidgetPreferences": null,
   "language": "python",
   "notebookMetadata": {
    "pythonIndentUnit": 4
   },
   "notebookName": "gold_market",
   "widgets": {}
  },
  "language_info": {
   "name": "python"
  }
 },
 "nbformat": 4,
 "nbformat_minor": 0
}