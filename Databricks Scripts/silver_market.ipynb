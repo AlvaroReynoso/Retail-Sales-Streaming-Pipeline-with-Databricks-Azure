{
 "cells": [
  {
   "cell_type": "markdown",
   "metadata": {
    "application/vnd.databricks.v1+cell": {
     "cellMetadata": {},
     "inputWidgets": {},
     "nuid": "dc085ed8-36d4-4792-96d9-bdb700e34147",
     "showTitle": false,
     "tableResultSettingsMap": {},
     "title": ""
    }
   },
   "source": [
    "# _Inicio Silver_"
   ]
  },
  {
   "cell_type": "markdown",
   "metadata": {
    "application/vnd.databricks.v1+cell": {
     "cellMetadata": {},
     "inputWidgets": {},
     "nuid": "28e0b502-dae8-4af2-b630-96963f89c30d",
     "showTitle": false,
     "tableResultSettingsMap": {},
     "title": ""
    }
   },
   "source": [
    "### Aqui vale aclarar que usaremos Initialization buffer\n",
    "Un tiempo de espera al inicio para asegurar que los recursos estén disponibles (montajes, paths), ya que en el mismo job se aloja bronce y silver."
   ]
  },
  {
   "cell_type": "code",
   "execution_count": 0,
   "metadata": {
    "application/vnd.databricks.v1+cell": {
     "cellMetadata": {
      "byteLimit": 2048000,
      "rowLimit": 10000
     },
     "inputWidgets": {},
     "nuid": "b518fe28-ba32-4d54-94d5-fb0b4c6f3fb4",
     "showTitle": false,
     "tableResultSettingsMap": {},
     "title": ""
    }
   },
   "outputs": [],
   "source": [
    "import time\n",
    "\n",
    "# Espera de 3 minutos (180 segundos)\n",
    "wait_seconds = 180\n",
    "print(f\"Esperando {wait_seconds} segundos antes de iniciar el procesamiento Silver...\")\n",
    "for i in range(wait_seconds):\n",
    "    if i % 30 == 0:  # Mostrar cada 10 segundos\n",
    "        print(f\"Esperando... {i}/{wait_seconds} segundos\")\n",
    "    time.sleep(1)\n",
    "\n",
    "print(\"Espera completada. Iniciando módulo Silver...\")"
   ]
  },
  {
   "cell_type": "code",
   "execution_count": 0,
   "metadata": {
    "application/vnd.databricks.v1+cell": {
     "cellMetadata": {
      "byteLimit": 2048000,
      "rowLimit": 10000
     },
     "inputWidgets": {},
     "nuid": "21e7b137-f78f-4920-8828-1e3cb570bf2f",
     "showTitle": false,
     "tableResultSettingsMap": {},
     "title": ""
    }
   },
   "outputs": [],
   "source": [
    "silver_mount_path= f\"/mnt/silver/sales\"\n",
    "checkpoint_path_silver = \"abfss://silver@mistorageprincipal.dfs.core.windows.net/checkpoints\"\n",
    "bronze_checkpoint_path = f\"abfss://bronze@mistorageprincipal.dfs.core.windows.net/checkpoints\"\n",
    "bronze_mount_path = f\"/mnt/bronze/sales\""
   ]
  },
  {
   "cell_type": "markdown",
   "metadata": {
    "application/vnd.databricks.v1+cell": {
     "cellMetadata": {},
     "inputWidgets": {},
     "nuid": "78d0fecc-ddf9-4d0f-b167-a047fe67cf61",
     "showTitle": false,
     "tableResultSettingsMap": {},
     "title": ""
    }
   },
   "source": [
    "### Lectura de archivos planos csv para enriquecimiento posterior"
   ]
  },
  {
   "cell_type": "code",
   "execution_count": 0,
   "metadata": {
    "application/vnd.databricks.v1+cell": {
     "cellMetadata": {
      "byteLimit": 2048000,
      "rowLimit": 10000
     },
     "inputWidgets": {},
     "nuid": "617b5816-8453-4e7c-ab4e-900a2f046058",
     "showTitle": false,
     "tableResultSettingsMap": {},
     "title": ""
    }
   },
   "outputs": [],
   "source": [
    "df_productos = (\n",
    "    spark.read\n",
    "    .format(\"csv\")\n",
    "    .option(\"header\", True)\n",
    "    .option(\"inferSchema\", True) \n",
    "    .option(\"delimiter\", \",\")\n",
    "    .option(\"encoding\", \"ISO-8859-1\")\n",
    "    .load(f\"/mnt/rawmarket/csv-raw/products.csv\")\n",
    ")\n",
    "\n",
    "df_stock = (\n",
    "    spark.read\n",
    "    .format(\"csv\")\n",
    "    .option(\"header\", True)\n",
    "    .option(\"inferSchema\", True) \n",
    "    .option(\"delimiter\", \",\")\n",
    "    .option(\"encoding\", \"ISO-8859-1\") \n",
    "    .load(f\"/mnt/rawmarket/csv-raw/stock.csv\")\n",
    ")\n",
    "\n",
    "df_stores = (\n",
    "    spark.read\n",
    "    .format(\"csv\")\n",
    "    .option(\"header\", True)\n",
    "    .option(\"inferSchema\", True) \n",
    "    .option(\"delimiter\", \",\")\n",
    "    .option(\"encoding\", \"ISO-8859-1\")    \n",
    "    .load(f\"/mnt/rawmarket/csv-raw/stores.csv\")\n",
    ")\n",
    "\n",
    "df_channels = (\n",
    "    spark.read\n",
    "    .format(\"csv\")\n",
    "    .option(\"header\", True)\n",
    "    .option(\"inferSchema\", True) \n",
    "    .option(\"delimiter\", \",\")\n",
    "    .option(\"encoding\", \"ISO-8859-1\")  \n",
    "    .load(f\"/mnt/rawmarket/csv-raw/channels.csv\")\n",
    ")\n",
    "\n",
    "df_customers = (\n",
    "    spark.read\n",
    "    .format(\"csv\")\n",
    "    .option(\"header\", True)\n",
    "    .option(\"inferSchema\", True) \n",
    "    .option(\"delimiter\", \",\")\n",
    "    .option(\"encoding\", \"ISO-8859-1\")   \n",
    "    .load(f\"/mnt/rawmarket/csv-raw/customers.csv\")\n",
    ")"
   ]
  },
  {
   "cell_type": "markdown",
   "metadata": {
    "application/vnd.databricks.v1+cell": {
     "cellMetadata": {},
     "inputWidgets": {},
     "nuid": "ef5aa8c7-e71e-4936-89f3-bfc711d1c020",
     "showTitle": false,
     "tableResultSettingsMap": {},
     "title": ""
    }
   },
   "source": [
    "## Transformaciones y limpiezas\n",
    "\n",
    "#### 1 - Creación de alias de cada df: Evitar conflictos con nombres de columnas repetidas.\n",
    "\n",
    "#### 2 - Creación de Joins entre los dfs y broadcasting para optimizar el rendimiento.\n",
    "\n",
    "#### 3 -  Limpieza y filtros básicos\n",
    "\n",
    "#### 4 - Generación de columnas de tiempo (event_timestamp, event_date)\n",
    "\n",
    "#### 5 - Normalización de nombres de sucursales (expresión regular)\n",
    "\n",
    "#### 6 - Creación de Hash único por transacción\n",
    "\n",
    "#### 7 - Categorización del ticket\n",
    "\n",
    "#### 8 - Escritura en formato Delta de 2 dfs (original y enriquecido)"
   ]
  },
  {
   "cell_type": "code",
   "execution_count": 0,
   "metadata": {
    "application/vnd.databricks.v1+cell": {
     "cellMetadata": {
      "byteLimit": 2048000,
      "rowLimit": 10000
     },
     "inputWidgets": {},
     "nuid": "77993f80-b73d-4f56-8d14-8587701ed492",
     "showTitle": true,
     "tableResultSettingsMap": {
      "0": {
       "dataGridStateBlob": "{\"version\":1,\"tableState\":{\"columnPinning\":{\"left\":[\"#row_number#\"],\"right\":[]},\"columnSizing\":{\"event_timestamp\":223,\"ingestion_time\":207},\"columnVisibility\":{}},\"settings\":{\"columns\":{}},\"syncTimestamp\":1753043820592}",
       "filterBlob": null,
       "queryPlanFiltersBlob": null,
       "tableResultIndex": 0
      }
     },
     "title": "Process and Clean Bronze Data for Silver Table"
    }
   },
   "outputs": [],
   "source": [
    "from pyspark.sql.functions import *\n",
    "from pyspark.sql.types import *\n",
    "\n",
    "# 1. Lectura streaming Bronze\n",
    "bronze_stream_df = spark.readStream.format(\"delta\").load(bronze_mount_path)\n",
    "\n",
    "# 2. Renombrar columnas con alias para evitar ambigüedad\n",
    "\n",
    "# Alias y rename bronze\n",
    "bronze_alias = bronze_stream_df.alias(\"b\").select(\n",
    "    col(\"transaction_id\").alias(\"b_transaction_id\"),\n",
    "    col(\"timestamp\").alias(\"b_timestamp\"),\n",
    "    col(\"product_id\").alias(\"b_product_id\"),\n",
    "    col(\"store\").alias(\"b_store\"),\n",
    "    col(\"customer_id\").alias(\"b_customer_id\"),\n",
    "    col(\"amount\").alias(\"b_amount\"),\n",
    "    col(\"channel\").alias(\"b_channel\"),\n",
    "    col(\"ingestion_time\").alias(\"b_ingestion_time\")\n",
    ")\n",
    "\n",
    "# Alias y rename batch dfs (adaptá los nombres reales)\n",
    "df_productos_alias = df_productos.alias(\"p\").select(\n",
    "    col(\"product_id\").alias(\"p_product_id\"),\n",
    "    col(\"name\").alias(\"p_product_name\"),\n",
    "    col(\"category\").alias(\"p_category\"),\n",
    "    col(\"price\").alias(\"p_price\")\n",
    ")\n",
    "\n",
    "df_stock_alias = df_stock.alias(\"st\").select(\n",
    "    col(\"product_id\").alias(\"st_product_id\"),\n",
    "    col(\"available_stock\").alias(\"st_available_stock\")\n",
    ")\n",
    "\n",
    "df_stores_alias = df_stores.alias(\"s\").select(\n",
    "    col(\"store\").alias(\"s_store_info\"), \n",
    "    col(\"store_name\").alias(\"s_store_name\"),\n",
    "    col(\"location\").alias(\"s_location\"),\n",
    "    col(\"region\").alias(\"s_region\")\n",
    ")\n",
    "\n",
    "df_channels_alias = df_channels.alias(\"ch\").select(\n",
    "    col(\"channel\").alias(\"ch_channel_info\"),\n",
    "    col(\"channel_name\").alias(\"ch_channel_name\"),\n",
    "    col(\"is_digital\").alias(\"ch_is_digital\")\n",
    ")\n",
    "\n",
    "df_customers_alias = df_customers.alias(\"cu\").select(\n",
    "    col(\"customer_id\").alias(\"cu_customer_info_id\"),\n",
    "    col(\"full_name\").alias(\"cu_full_name\"),\n",
    "    col(\"age\").alias(\"cu_age\"),\n",
    "    col(\"gender\").alias(\"cu_gender\"),\n",
    "    col(\"loyalty_tier\").alias(\"cu_loyalty_tier\")\n",
    ")\n",
    "\n",
    "# 3. Joins con alias y condiciones explícitas\n",
    "\n",
    "joined_df = bronze_alias \\\n",
    "    .join(broadcast(df_productos_alias), col(\"b_product_id\") == col(\"p_product_id\"), \"left\") \\\n",
    "    .join(broadcast(df_stock_alias), col(\"b_product_id\") == col(\"st_product_id\"), \"left\") \\\n",
    "    .join(broadcast(df_stores_alias), col(\"b_store\") == col(\"s_store_info\"), \"left\") \\\n",
    "    .join(broadcast(df_channels_alias), col(\"b_channel\") == col(\"ch_channel_info\"), \"left\") \\\n",
    "    .join(broadcast(df_customers_alias), col(\"b_customer_id\") == col(\"cu_customer_info_id\"), \"left\")\n",
    "\n",
    "# 4. Aplicar transformaciones y select final\n",
    "\n",
    "silver_enriched_df = (\n",
    "    joined_df\n",
    "    .dropDuplicates([\"b_transaction_id\"])\n",
    "    .filter(col(\"b_transaction_id\").isNotNull())\n",
    "    .filter(col(\"b_amount\").isNotNull() & (col(\"b_amount\") > 0))\n",
    "    .withColumn(\"event_timestamp\", to_timestamp(col(\"b_timestamp\")))\n",
    "    .withColumn(\"event_date\", to_date(col(\"event_timestamp\")))\n",
    "    .drop(\"b_timestamp\")\n",
    "    .withColumn(\"channel\", upper(trim(col(\"b_channel\"))))\n",
    "    .withColumn(\"store\", trim(col(\"b_store\")))\n",
    "    .withColumn(\"store_letter\", regexp_extract(lower(col(\"b_store\")), r\"sucursal\\s*([a-z])$\", 1))\n",
    "    .withColumn(\n",
    "        \"store\",\n",
    "        when(col(\"store_letter\") != \"\", concat(lit(\"Sucursal \"), upper(col(\"store_letter\"))))\n",
    "        .otherwise(initcap(col(\"store\")))\n",
    "    )\n",
    "    .drop(\"store_letter\")\n",
    "    .withColumn(\"customer_id\", trim(col(\"b_customer_id\")))\n",
    "    .withColumn(\"transaction_hash\", sha2(concat_ws(\"|\", col(\"b_transaction_id\"), col(\"b_customer_id\"), col(\"b_product_id\"), col(\"event_timestamp\")), 256))\n",
    "    .withColumn(\n",
    "        \"ticket_category\",\n",
    "        when(col(\"b_amount\") < 50, \"BAJO\")\n",
    "        .when(col(\"b_amount\").between(50, 200), \"MEDIO\")\n",
    "        .otherwise(\"ALTO\")\n",
    "    )\n",
    "    .select(\n",
    "        col(\"b_transaction_id\").alias(\"transaction_id\"),\n",
    "        col(\"event_date\"),\n",
    "        col(\"store\"),\n",
    "        col(\"channel\"),\n",
    "        col(\"b_product_id\").alias(\"product_id\"),\n",
    "        col(\"customer_id\"),\n",
    "        col(\"b_amount\").alias(\"amount\"),\n",
    "        col(\"ticket_category\"),\n",
    "        col(\"transaction_hash\"),\n",
    "        col(\"event_timestamp\"),\n",
    "        col(\"b_ingestion_time\").alias(\"ingestion_time\"),\n",
    "        # Columnas enriquecidas\n",
    "        col(\"p_product_name\").alias(\"product_name\"),\n",
    "        col(\"st_available_stock\").alias(\"stock_quantity\"),\n",
    "        col(\"s_store_name\").alias(\"store_name\"),\n",
    "        col(\"s_location\").alias(\"store_location\"),\n",
    "        col(\"s_region\").alias(\"store_region\"),\n",
    "        col(\"ch_channel_name\").alias(\"channel_name\"),\n",
    "        col(\"ch_is_digital\").alias(\"channel_is_digital\"),\n",
    "        col(\"cu_full_name\").alias(\"customer_name\"),\n",
    "        col(\"cu_age\").alias(\"customer_age\"),\n",
    "        col(\"cu_gender\").alias(\"customer_gender\"),\n",
    "        col(\"cu_loyalty_tier\").alias(\"customer_loyalty_tier\")\n",
    "    )\n",
    ")\n",
    "\n",
    "# 6. Silver simple sin enriquecimiento para referencia\n",
    "\n",
    "silver_simple_df = (\n",
    "    bronze_stream_df\n",
    "    .dropDuplicates([\"transaction_id\"])\n",
    "    .filter(col(\"transaction_id\").isNotNull())\n",
    "    .filter(col(\"amount\").isNotNull() & (col(\"amount\") > 0))\n",
    "    .withColumn(\"event_timestamp\", to_timestamp(col(\"timestamp\")))\n",
    "    .withColumn(\"event_date\", to_date(col(\"event_timestamp\")))\n",
    "    .drop(\"timestamp\")\n",
    "    .withColumn(\"channel\", upper(trim(col(\"channel\"))))\n",
    "    .withColumn(\"store\", trim(col(\"store\")))\n",
    "    .withColumn(\"store_letter\", regexp_extract(lower(col(\"store\")), r\"sucursal\\s*([a-z])$\", 1))\n",
    "    .withColumn(\n",
    "        \"store\",\n",
    "        when(col(\"store_letter\") != \"\", concat(lit(\"Sucursal \"), upper(col(\"store_letter\"))))\n",
    "        .otherwise(initcap(col(\"store\")))\n",
    "    )\n",
    "    .drop(\"store_letter\")\n",
    "    .withColumn(\"customer_id\", trim(col(\"customer_id\")))\n",
    "    .withColumn(\"transaction_hash\", sha2(concat_ws(\"|\", \"transaction_id\", \"customer_id\", \"product_id\", \"event_timestamp\"), 256))\n",
    "    .withColumn(\n",
    "        \"ticket_category\",\n",
    "        when(col(\"amount\") < 50, \"BAJO\")\n",
    "        .when(col(\"amount\").between(50, 200), \"MEDIO\")\n",
    "        .otherwise(\"ALTO\")\n",
    "    )\n",
    "    .select(\n",
    "        \"transaction_id\", \"event_date\",\n",
    "        \"store\", \"channel\", \"product_id\", \"customer_id\", \"amount\",\n",
    "        \"ticket_category\", \"transaction_hash\", \"event_timestamp\", \"ingestion_time\"\n",
    "    )\n",
    ")\n",
    "\n",
    "# Escritura streaming Silver normal\n",
    "query_simple = (\n",
    "    silver_simple_df.writeStream\n",
    "    .format(\"delta\")\n",
    "    .option(\"checkpointLocation\", silver_mount_path + \"/_checkpoint_simple\")\n",
    "    .option(\"path\", silver_mount_path + \"/simple\")\n",
    "    .outputMode(\"append\")\n",
    "    .start()\n",
    ")\n",
    "\n",
    "# Escritura streaming Silver enriquecida\n",
    "query_enriched = (\n",
    "    silver_enriched_df.writeStream\n",
    "    .format(\"delta\")\n",
    "    .option(\"checkpointLocation\", silver_mount_path + \"/_checkpoint_enriched\")\n",
    "    .option(\"path\", silver_mount_path + \"/enriched\")\n",
    "    .outputMode(\"append\")\n",
    "    .start()\n",
    ")\n",
    "\n",
    "display(silver_enriched_df)\n"
   ]
  },
  {
   "cell_type": "code",
   "execution_count": 0,
   "metadata": {
    "application/vnd.databricks.v1+cell": {
     "cellMetadata": {
      "byteLimit": 2048000,
      "rowLimit": 10000
     },
     "inputWidgets": {},
     "nuid": "0ec6446f-3ce6-4e0a-bd5e-5317ec7b5c4f",
     "showTitle": false,
     "tableResultSettingsMap": {},
     "title": ""
    }
   },
   "outputs": [],
   "source": [
    "silver_mount_path_enriched= f\"/mnt/silver/sales/enriched\"\n",
    "spark.sql(f\"SELECT * FROM delta.`{silver_mount_path_enriched}` ORDER BY ingestion_time DESC\").display()"
   ]
  },
  {
   "cell_type": "code",
   "execution_count": 0,
   "metadata": {
    "application/vnd.databricks.v1+cell": {
     "cellMetadata": {
      "byteLimit": 2048000,
      "rowLimit": 10000
     },
     "inputWidgets": {},
     "nuid": "8bd8a6dd-aa74-4af9-8060-d90bcf6c9a27",
     "showTitle": false,
     "tableResultSettingsMap": {},
     "title": ""
    }
   },
   "outputs": [],
   "source": [
    "# display(silver_simple_df)"
   ]
  },
  {
   "cell_type": "markdown",
   "metadata": {
    "application/vnd.databricks.v1+cell": {
     "cellMetadata": {},
     "inputWidgets": {},
     "nuid": "1120ddee-24d2-4b22-bfa4-9a986fa786c8",
     "showTitle": false,
     "tableResultSettingsMap": {},
     "title": ""
    }
   },
   "source": [
    "%md\n",
    "# _Fin Silver_"
   ]
  }
 ],
 "metadata": {
  "application/vnd.databricks.v1+notebook": {
   "computePreferences": null,
   "dashboards": [],
   "environmentMetadata": {
    "base_environment": "",
    "environment_version": "2"
   },
   "inputWidgetPreferences": null,
   "language": "python",
   "notebookMetadata": {
    "pythonIndentUnit": 4
   },
   "notebookName": "silver_market",
   "widgets": {}
  },
  "language_info": {
   "name": "python"
  }
 },
 "nbformat": 4,
 "nbformat_minor": 0
}
